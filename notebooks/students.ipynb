{
  "nbformat": 4,
  "nbformat_minor": 0,
  "metadata": {
    "colab": {
      "name": "students.ipynb",
      "provenance": []
    },
    "kernelspec": {
      "display_name": "Python 3",
      "name": "python3"
    }
  },
  "cells": [
    {
      "cell_type": "code",
      "metadata": {
        "id": "yUgp6OR0Q4rg"
      },
      "source": [
        "import pandas as pd\r\n",
        "import numpy as np\r\n",
        "\r\n",
        "import seaborn as sns\r\n",
        "import matplotlib.pyplot as plt\r\n",
        "%matplotlib inline\r\n",
        "sns.set(rc={'figure.figsize':(15.7,8.27)})"
      ],
      "execution_count": null,
      "outputs": []
    },
    {
      "cell_type": "code",
      "metadata": {
        "id": "jLfd7A6USB1M"
      },
      "source": [
        "df=pd.read_excel('state_wise_updated (1).xlsx')"
      ],
      "execution_count": null,
      "outputs": []
    },
    {
      "cell_type": "code",
      "metadata": {
        "colab": {
          "base_uri": "https://localhost:8080/",
          "height": 249
        },
        "id": "68o1N-v4SLZR",
        "outputId": "e0e9e36d-7d86-4eb9-c560-7e3b8d5a78aa"
      },
      "source": [
        "df.head()"
      ],
      "execution_count": null,
      "outputs": [
        {
          "output_type": "execute_result",
          "data": {
            "text/html": [
              "<div>\n",
              "<style scoped>\n",
              "    .dataframe tbody tr th:only-of-type {\n",
              "        vertical-align: middle;\n",
              "    }\n",
              "\n",
              "    .dataframe tbody tr th {\n",
              "        vertical-align: top;\n",
              "    }\n",
              "\n",
              "    .dataframe thead th {\n",
              "        text-align: right;\n",
              "    }\n",
              "</style>\n",
              "<table border=\"1\" class=\"dataframe\">\n",
              "  <thead>\n",
              "    <tr style=\"text-align: right;\">\n",
              "      <th></th>\n",
              "      <th>State</th>\n",
              "      <th>Unnamed: 1</th>\n",
              "      <th>Confirmed</th>\n",
              "      <th>Recovered</th>\n",
              "      <th>Deaths</th>\n",
              "      <th>Active</th>\n",
              "      <th>Last_Updated_Time</th>\n",
              "      <th>Migrated_Other</th>\n",
              "      <th>State_code</th>\n",
              "      <th>Delta_Confirmed</th>\n",
              "      <th>Delta_Recovered</th>\n",
              "      <th>Delta_Deaths</th>\n",
              "      <th>State_Notes</th>\n",
              "      <th>Population</th>\n",
              "      <th>Density</th>\n",
              "      <th>0-4</th>\n",
              "      <th>2020-05-09 00:00:00</th>\n",
              "      <th>2020-10-14 00:00:00</th>\n",
              "      <th>15-19</th>\n",
              "      <th>20-24</th>\n",
              "      <th>25-29</th>\n",
              "      <th>30-34</th>\n",
              "      <th>35-39</th>\n",
              "      <th>40-44</th>\n",
              "      <th>45-49</th>\n",
              "      <th>50-54</th>\n",
              "      <th>55-59</th>\n",
              "      <th>60-64</th>\n",
              "      <th>65-69</th>\n",
              "      <th>70-74</th>\n",
              "      <th>75-79</th>\n",
              "      <th>80+</th>\n",
              "      <th>Health Workers(%)</th>\n",
              "      <th>Police Force</th>\n",
              "      <th>Vaccination Centres</th>\n",
              "    </tr>\n",
              "  </thead>\n",
              "  <tbody>\n",
              "    <tr>\n",
              "      <th>0</th>\n",
              "      <td>Total</td>\n",
              "      <td>NaN</td>\n",
              "      <td>10169804</td>\n",
              "      <td>9739332</td>\n",
              "      <td>147379</td>\n",
              "      <td>280310</td>\n",
              "      <td>25-12-2020 23:29</td>\n",
              "      <td>2783</td>\n",
              "      <td>TT</td>\n",
              "      <td>22336</td>\n",
              "      <td>22134</td>\n",
              "      <td>251</td>\n",
              "      <td>NaN</td>\n",
              "      <td>1.397322e+09</td>\n",
              "      <td>382.0</td>\n",
              "      <td>112806778.0</td>\n",
              "      <td>126928126.0</td>\n",
              "      <td>132709212.0</td>\n",
              "      <td>120526449.0</td>\n",
              "      <td>111424222.0</td>\n",
              "      <td>101413965.0</td>\n",
              "      <td>88594951.0</td>\n",
              "      <td>85140684.0</td>\n",
              "      <td>72438112.0</td>\n",
              "      <td>62318327.0</td>\n",
              "      <td>49069254.0</td>\n",
              "      <td>39146055.0</td>\n",
              "      <td>37663707.0</td>\n",
              "      <td>26454983.0</td>\n",
              "      <td>19208842.0</td>\n",
              "      <td>9232503.0</td>\n",
              "      <td>11289005.0</td>\n",
              "      <td>NaN</td>\n",
              "      <td>2067270.0</td>\n",
              "      <td>37725.0</td>\n",
              "    </tr>\n",
              "    <tr>\n",
              "      <th>1</th>\n",
              "      <td>Maharashtra</td>\n",
              "      <td>NaN</td>\n",
              "      <td>1913382</td>\n",
              "      <td>1806298</td>\n",
              "      <td>49129</td>\n",
              "      <td>56823</td>\n",
              "      <td>25-12-2020 22:43</td>\n",
              "      <td>1132</td>\n",
              "      <td>MH</td>\n",
              "      <td>3431</td>\n",
              "      <td>1427</td>\n",
              "      <td>71</td>\n",
              "      <td>NaN</td>\n",
              "      <td>1.208373e+08</td>\n",
              "      <td>365.0</td>\n",
              "      <td>9362026.0</td>\n",
              "      <td>9820654.0</td>\n",
              "      <td>10734535.0</td>\n",
              "      <td>10627267.0</td>\n",
              "      <td>11090966.0</td>\n",
              "      <td>10147113.0</td>\n",
              "      <td>8796307.0</td>\n",
              "      <td>8247160.0</td>\n",
              "      <td>7196089.0</td>\n",
              "      <td>6032454.0</td>\n",
              "      <td>4919317.0</td>\n",
              "      <td>3885814.0</td>\n",
              "      <td>3642480.0</td>\n",
              "      <td>3078352.0</td>\n",
              "      <td>2143136.0</td>\n",
              "      <td>1062773.0</td>\n",
              "      <td>1180194.0</td>\n",
              "      <td>13.67</td>\n",
              "      <td>213382.0</td>\n",
              "      <td>3239.0</td>\n",
              "    </tr>\n",
              "    <tr>\n",
              "      <th>2</th>\n",
              "      <td>Karnataka</td>\n",
              "      <td>NaN</td>\n",
              "      <td>914488</td>\n",
              "      <td>888917</td>\n",
              "      <td>12044</td>\n",
              "      <td>13508</td>\n",
              "      <td>25-12-2020 20:23</td>\n",
              "      <td>19</td>\n",
              "      <td>KA</td>\n",
              "      <td>1005</td>\n",
              "      <td>1102</td>\n",
              "      <td>5</td>\n",
              "      <td>NaN</td>\n",
              "      <td>6.616589e+07</td>\n",
              "      <td>319.0</td>\n",
              "      <td>5046719.0</td>\n",
              "      <td>5241509.0</td>\n",
              "      <td>5736646.0</td>\n",
              "      <td>5827277.0</td>\n",
              "      <td>6052558.0</td>\n",
              "      <td>5771606.0</td>\n",
              "      <td>4698380.0</td>\n",
              "      <td>4695451.0</td>\n",
              "      <td>3826712.0</td>\n",
              "      <td>3519782.0</td>\n",
              "      <td>2699270.0</td>\n",
              "      <td>2142504.0</td>\n",
              "      <td>2060052.0</td>\n",
              "      <td>1520119.0</td>\n",
              "      <td>1061125.0</td>\n",
              "      <td>524426.0</td>\n",
              "      <td>625310.0</td>\n",
              "      <td>5.27</td>\n",
              "      <td>89009.0</td>\n",
              "      <td>2943.0</td>\n",
              "    </tr>\n",
              "    <tr>\n",
              "      <th>3</th>\n",
              "      <td>Andhra Pradesh</td>\n",
              "      <td>NaN</td>\n",
              "      <td>880430</td>\n",
              "      <td>869478</td>\n",
              "      <td>7091</td>\n",
              "      <td>3861</td>\n",
              "      <td>25-12-2020 19:09</td>\n",
              "      <td>0</td>\n",
              "      <td>AP</td>\n",
              "      <td>355</td>\n",
              "      <td>354</td>\n",
              "      <td>2</td>\n",
              "      <td>NaN</td>\n",
              "      <td>5.288316e+07</td>\n",
              "      <td>308.0</td>\n",
              "      <td>6284765.0</td>\n",
              "      <td>7304432.0</td>\n",
              "      <td>8201595.0</td>\n",
              "      <td>8093747.0</td>\n",
              "      <td>8132094.0</td>\n",
              "      <td>7799036.0</td>\n",
              "      <td>6584371.0</td>\n",
              "      <td>6507339.0</td>\n",
              "      <td>5399473.0</td>\n",
              "      <td>4657269.0</td>\n",
              "      <td>3657386.0</td>\n",
              "      <td>2909598.0</td>\n",
              "      <td>3199837.0</td>\n",
              "      <td>2167854.0</td>\n",
              "      <td>1519358.0</td>\n",
              "      <td>636989.0</td>\n",
              "      <td>754203.0</td>\n",
              "      <td>7.83</td>\n",
              "      <td>61168.0</td>\n",
              "      <td>1666.0</td>\n",
              "    </tr>\n",
              "    <tr>\n",
              "      <th>4</th>\n",
              "      <td>Tamil Nadu</td>\n",
              "      <td>NaN</td>\n",
              "      <td>812142</td>\n",
              "      <td>790965</td>\n",
              "      <td>12048</td>\n",
              "      <td>9129</td>\n",
              "      <td>25-12-2020 19:30</td>\n",
              "      <td>0</td>\n",
              "      <td>TN</td>\n",
              "      <td>1027</td>\n",
              "      <td>1103</td>\n",
              "      <td>12</td>\n",
              "      <td>NaN</td>\n",
              "      <td>7.648154e+07</td>\n",
              "      <td>555.0</td>\n",
              "      <td>5278701.0</td>\n",
              "      <td>5551255.0</td>\n",
              "      <td>6177547.0</td>\n",
              "      <td>6253792.0</td>\n",
              "      <td>6411543.0</td>\n",
              "      <td>6663746.0</td>\n",
              "      <td>5815560.0</td>\n",
              "      <td>5836456.0</td>\n",
              "      <td>5064209.0</td>\n",
              "      <td>4713056.0</td>\n",
              "      <td>3703460.0</td>\n",
              "      <td>3101142.0</td>\n",
              "      <td>2782608.0</td>\n",
              "      <td>1868370.0</td>\n",
              "      <td>1406529.0</td>\n",
              "      <td>710241.0</td>\n",
              "      <td>742010.0</td>\n",
              "      <td>6.72</td>\n",
              "      <td>110186.0</td>\n",
              "      <td>2581.0</td>\n",
              "    </tr>\n",
              "  </tbody>\n",
              "</table>\n",
              "</div>"
            ],
            "text/plain": [
              "            State  Unnamed: 1  ...  Police Force  Vaccination Centres\n",
              "0           Total         NaN  ...     2067270.0              37725.0\n",
              "1     Maharashtra         NaN  ...      213382.0               3239.0\n",
              "2       Karnataka         NaN  ...       89009.0               2943.0\n",
              "3  Andhra Pradesh         NaN  ...       61168.0               1666.0\n",
              "4      Tamil Nadu         NaN  ...      110186.0               2581.0\n",
              "\n",
              "[5 rows x 35 columns]"
            ]
          },
          "metadata": {
            "tags": []
          },
          "execution_count": 114
        }
      ]
    },
    {
      "cell_type": "code",
      "metadata": {
        "id": "iSEE6gq1eQOE"
      },
      "source": [
        "df=df.drop([0],axis=0)"
      ],
      "execution_count": null,
      "outputs": []
    },
    {
      "cell_type": "code",
      "metadata": {
        "colab": {
          "base_uri": "https://localhost:8080/",
          "height": 266
        },
        "id": "oXxifWDaeRrC",
        "outputId": "a09a721a-6ac5-4846-f93b-d4b0e829d041"
      },
      "source": [
        "df.head()"
      ],
      "execution_count": null,
      "outputs": [
        {
          "output_type": "execute_result",
          "data": {
            "text/html": [
              "<div>\n",
              "<style scoped>\n",
              "    .dataframe tbody tr th:only-of-type {\n",
              "        vertical-align: middle;\n",
              "    }\n",
              "\n",
              "    .dataframe tbody tr th {\n",
              "        vertical-align: top;\n",
              "    }\n",
              "\n",
              "    .dataframe thead th {\n",
              "        text-align: right;\n",
              "    }\n",
              "</style>\n",
              "<table border=\"1\" class=\"dataframe\">\n",
              "  <thead>\n",
              "    <tr style=\"text-align: right;\">\n",
              "      <th></th>\n",
              "      <th>State</th>\n",
              "      <th>Unnamed: 1</th>\n",
              "      <th>Confirmed</th>\n",
              "      <th>Recovered</th>\n",
              "      <th>Deaths</th>\n",
              "      <th>Active</th>\n",
              "      <th>Last_Updated_Time</th>\n",
              "      <th>Migrated_Other</th>\n",
              "      <th>State_code</th>\n",
              "      <th>Delta_Confirmed</th>\n",
              "      <th>Delta_Recovered</th>\n",
              "      <th>Delta_Deaths</th>\n",
              "      <th>State_Notes</th>\n",
              "      <th>Population</th>\n",
              "      <th>Density</th>\n",
              "      <th>0-4</th>\n",
              "      <th>2020-05-09 00:00:00</th>\n",
              "      <th>2020-10-14 00:00:00</th>\n",
              "      <th>15-19</th>\n",
              "      <th>20-24</th>\n",
              "      <th>25-29</th>\n",
              "      <th>30-34</th>\n",
              "      <th>35-39</th>\n",
              "      <th>40-44</th>\n",
              "      <th>45-49</th>\n",
              "      <th>50-54</th>\n",
              "      <th>55-59</th>\n",
              "      <th>60-64</th>\n",
              "      <th>65-69</th>\n",
              "      <th>70-74</th>\n",
              "      <th>75-79</th>\n",
              "      <th>80+</th>\n",
              "      <th>Health Workers(%)</th>\n",
              "      <th>Police Force</th>\n",
              "      <th>Vaccination Centres</th>\n",
              "    </tr>\n",
              "  </thead>\n",
              "  <tbody>\n",
              "    <tr>\n",
              "      <th>1</th>\n",
              "      <td>Maharashtra</td>\n",
              "      <td>NaN</td>\n",
              "      <td>1913382</td>\n",
              "      <td>1806298</td>\n",
              "      <td>49129</td>\n",
              "      <td>56823</td>\n",
              "      <td>25-12-2020 22:43</td>\n",
              "      <td>1132</td>\n",
              "      <td>MH</td>\n",
              "      <td>3431</td>\n",
              "      <td>1427</td>\n",
              "      <td>71</td>\n",
              "      <td>NaN</td>\n",
              "      <td>120837347.0</td>\n",
              "      <td>365.0</td>\n",
              "      <td>9362026.0</td>\n",
              "      <td>9820654.0</td>\n",
              "      <td>10734535.0</td>\n",
              "      <td>10627267.0</td>\n",
              "      <td>11090966.0</td>\n",
              "      <td>10147113.0</td>\n",
              "      <td>8796307.0</td>\n",
              "      <td>8247160.0</td>\n",
              "      <td>7196089.0</td>\n",
              "      <td>6032454.0</td>\n",
              "      <td>4919317.0</td>\n",
              "      <td>3885814.0</td>\n",
              "      <td>3642480.0</td>\n",
              "      <td>3078352.0</td>\n",
              "      <td>2143136.0</td>\n",
              "      <td>1062773.0</td>\n",
              "      <td>1180194.0</td>\n",
              "      <td>13.67</td>\n",
              "      <td>213382.0</td>\n",
              "      <td>3239.0</td>\n",
              "    </tr>\n",
              "    <tr>\n",
              "      <th>2</th>\n",
              "      <td>Karnataka</td>\n",
              "      <td>NaN</td>\n",
              "      <td>914488</td>\n",
              "      <td>888917</td>\n",
              "      <td>12044</td>\n",
              "      <td>13508</td>\n",
              "      <td>25-12-2020 20:23</td>\n",
              "      <td>19</td>\n",
              "      <td>KA</td>\n",
              "      <td>1005</td>\n",
              "      <td>1102</td>\n",
              "      <td>5</td>\n",
              "      <td>NaN</td>\n",
              "      <td>66165886.0</td>\n",
              "      <td>319.0</td>\n",
              "      <td>5046719.0</td>\n",
              "      <td>5241509.0</td>\n",
              "      <td>5736646.0</td>\n",
              "      <td>5827277.0</td>\n",
              "      <td>6052558.0</td>\n",
              "      <td>5771606.0</td>\n",
              "      <td>4698380.0</td>\n",
              "      <td>4695451.0</td>\n",
              "      <td>3826712.0</td>\n",
              "      <td>3519782.0</td>\n",
              "      <td>2699270.0</td>\n",
              "      <td>2142504.0</td>\n",
              "      <td>2060052.0</td>\n",
              "      <td>1520119.0</td>\n",
              "      <td>1061125.0</td>\n",
              "      <td>524426.0</td>\n",
              "      <td>625310.0</td>\n",
              "      <td>5.27</td>\n",
              "      <td>89009.0</td>\n",
              "      <td>2943.0</td>\n",
              "    </tr>\n",
              "    <tr>\n",
              "      <th>3</th>\n",
              "      <td>Andhra Pradesh</td>\n",
              "      <td>NaN</td>\n",
              "      <td>880430</td>\n",
              "      <td>869478</td>\n",
              "      <td>7091</td>\n",
              "      <td>3861</td>\n",
              "      <td>25-12-2020 19:09</td>\n",
              "      <td>0</td>\n",
              "      <td>AP</td>\n",
              "      <td>355</td>\n",
              "      <td>354</td>\n",
              "      <td>2</td>\n",
              "      <td>NaN</td>\n",
              "      <td>52883163.0</td>\n",
              "      <td>308.0</td>\n",
              "      <td>6284765.0</td>\n",
              "      <td>7304432.0</td>\n",
              "      <td>8201595.0</td>\n",
              "      <td>8093747.0</td>\n",
              "      <td>8132094.0</td>\n",
              "      <td>7799036.0</td>\n",
              "      <td>6584371.0</td>\n",
              "      <td>6507339.0</td>\n",
              "      <td>5399473.0</td>\n",
              "      <td>4657269.0</td>\n",
              "      <td>3657386.0</td>\n",
              "      <td>2909598.0</td>\n",
              "      <td>3199837.0</td>\n",
              "      <td>2167854.0</td>\n",
              "      <td>1519358.0</td>\n",
              "      <td>636989.0</td>\n",
              "      <td>754203.0</td>\n",
              "      <td>7.83</td>\n",
              "      <td>61168.0</td>\n",
              "      <td>1666.0</td>\n",
              "    </tr>\n",
              "    <tr>\n",
              "      <th>4</th>\n",
              "      <td>Tamil Nadu</td>\n",
              "      <td>NaN</td>\n",
              "      <td>812142</td>\n",
              "      <td>790965</td>\n",
              "      <td>12048</td>\n",
              "      <td>9129</td>\n",
              "      <td>25-12-2020 19:30</td>\n",
              "      <td>0</td>\n",
              "      <td>TN</td>\n",
              "      <td>1027</td>\n",
              "      <td>1103</td>\n",
              "      <td>12</td>\n",
              "      <td>NaN</td>\n",
              "      <td>76481545.0</td>\n",
              "      <td>555.0</td>\n",
              "      <td>5278701.0</td>\n",
              "      <td>5551255.0</td>\n",
              "      <td>6177547.0</td>\n",
              "      <td>6253792.0</td>\n",
              "      <td>6411543.0</td>\n",
              "      <td>6663746.0</td>\n",
              "      <td>5815560.0</td>\n",
              "      <td>5836456.0</td>\n",
              "      <td>5064209.0</td>\n",
              "      <td>4713056.0</td>\n",
              "      <td>3703460.0</td>\n",
              "      <td>3101142.0</td>\n",
              "      <td>2782608.0</td>\n",
              "      <td>1868370.0</td>\n",
              "      <td>1406529.0</td>\n",
              "      <td>710241.0</td>\n",
              "      <td>742010.0</td>\n",
              "      <td>6.72</td>\n",
              "      <td>110186.0</td>\n",
              "      <td>2581.0</td>\n",
              "    </tr>\n",
              "    <tr>\n",
              "      <th>5</th>\n",
              "      <td>Kerala</td>\n",
              "      <td>NaN</td>\n",
              "      <td>732085</td>\n",
              "      <td>664951</td>\n",
              "      <td>2931</td>\n",
              "      <td>64032</td>\n",
              "      <td>25-12-2020 21:52</td>\n",
              "      <td>171</td>\n",
              "      <td>KL</td>\n",
              "      <td>5397</td>\n",
              "      <td>4506</td>\n",
              "      <td>16</td>\n",
              "      <td>NaN</td>\n",
              "      <td>35330888.0</td>\n",
              "      <td>860.0</td>\n",
              "      <td>2453092.0</td>\n",
              "      <td>2555112.0</td>\n",
              "      <td>2822770.0</td>\n",
              "      <td>2610552.0</td>\n",
              "      <td>2665809.0</td>\n",
              "      <td>2604092.0</td>\n",
              "      <td>2455501.0</td>\n",
              "      <td>2579673.0</td>\n",
              "      <td>2412498.0</td>\n",
              "      <td>2348530.0</td>\n",
              "      <td>1928145.0</td>\n",
              "      <td>1742408.0</td>\n",
              "      <td>1414671.0</td>\n",
              "      <td>1002134.0</td>\n",
              "      <td>733372.0</td>\n",
              "      <td>501367.0</td>\n",
              "      <td>541849.0</td>\n",
              "      <td>6.06</td>\n",
              "      <td>48860.0</td>\n",
              "      <td>1297.0</td>\n",
              "    </tr>\n",
              "  </tbody>\n",
              "</table>\n",
              "</div>"
            ],
            "text/plain": [
              "            State  Unnamed: 1  ...  Police Force  Vaccination Centres\n",
              "1     Maharashtra         NaN  ...      213382.0               3239.0\n",
              "2       Karnataka         NaN  ...       89009.0               2943.0\n",
              "3  Andhra Pradesh         NaN  ...       61168.0               1666.0\n",
              "4      Tamil Nadu         NaN  ...      110186.0               2581.0\n",
              "5          Kerala         NaN  ...       48860.0               1297.0\n",
              "\n",
              "[5 rows x 35 columns]"
            ]
          },
          "metadata": {
            "tags": []
          },
          "execution_count": 116
        }
      ]
    },
    {
      "cell_type": "code",
      "metadata": {
        "colab": {
          "base_uri": "https://localhost:8080/",
          "height": 545
        },
        "id": "BSdzmTOqTxP6",
        "outputId": "ca7e23c3-e9d1-49d4-c797-258a812ab4f1"
      },
      "source": [
        "sns.set(style='darkgrid')\r\n",
        "sns.barplot(x='State',\r\n",
        "                y='15-19',\r\n",
        "                data=df.iloc[1:10])"
      ],
      "execution_count": null,
      "outputs": [
        {
          "output_type": "execute_result",
          "data": {
            "text/plain": [
              "<matplotlib.axes._subplots.AxesSubplot at 0x7f8ed8f64630>"
            ]
          },
          "metadata": {
            "tags": []
          },
          "execution_count": 117
        },
        {
          "output_type": "display_data",
          "data": {
            "image/png": "[encoded data removed]",
            "text/plain": [
              "<Figure size 1130.4x595.44 with 1 Axes>"
            ]
          },
          "metadata": {
            "tags": []
          }
        }
      ]
    },
    {
      "cell_type": "code",
      "metadata": {
        "colab": {
          "base_uri": "https://localhost:8080/",
          "height": 534
        },
        "id": "YTabDTV7UA-N",
        "outputId": "2aac105d-a1af-46cd-a782-7ce63c778609"
      },
      "source": [
        "sns.set(style='darkgrid')\r\n",
        "sns.barplot(x='State',\r\n",
        "                y='Confirmed',\r\n",
        "                data=df.iloc[1:10])"
      ],
      "execution_count": null,
      "outputs": [
        {
          "output_type": "execute_result",
          "data": {
            "text/plain": [
              "<matplotlib.axes._subplots.AxesSubplot at 0x7f8ed8f64208>"
            ]
          },
          "metadata": {
            "tags": []
          },
          "execution_count": 118
        },
        {
          "output_type": "display_data",
          "data": {
            "image/png": "[encoded data removed]",
            "text/plain": [
              "<Figure size 1130.4x595.44 with 1 Axes>"
            ]
          },
          "metadata": {
            "tags": []
          }
        }
      ]
    },
    {
      "cell_type": "code",
      "metadata": {
        "id": "a0Y2mcjAUNi8"
      },
      "source": [
        "from sklearn.cluster import KMeans\r\n",
        "wcss=[]"
      ],
      "execution_count": null,
      "outputs": []
    },
    {
      "cell_type": "code",
      "metadata": {
        "id": "YB4fGKQRrMEc"
      },
      "source": [
        "X1=df[['Active','15-19','State']].dropna()"
      ],
      "execution_count": null,
      "outputs": []
    },
    {
      "cell_type": "code",
      "metadata": {
        "id": "6eQb1OverNu1"
      },
      "source": [
        "X=X1[['Active','15-19']]"
      ],
      "execution_count": null,
      "outputs": []
    },
    {
      "cell_type": "code",
      "metadata": {
        "colab": {
          "base_uri": "https://localhost:8080/"
        },
        "id": "771Exh6vUutO",
        "outputId": "c03d3b71-49b8-417b-99b6-4d51e8ee397a"
      },
      "source": [
        "type(X)"
      ],
      "execution_count": null,
      "outputs": [
        {
          "output_type": "execute_result",
          "data": {
            "text/plain": [
              "pandas.core.frame.DataFrame"
            ]
          },
          "metadata": {
            "tags": []
          },
          "execution_count": 122
        }
      ]
    },
    {
      "cell_type": "code",
      "metadata": {
        "id": "hY4PkWI9U9uK"
      },
      "source": [
        "X=X.values"
      ],
      "execution_count": null,
      "outputs": []
    },
    {
      "cell_type": "code",
      "metadata": {
        "colab": {
          "base_uri": "https://localhost:8080/"
        },
        "id": "kKwSVzegVB2a",
        "outputId": "cc1f405d-65a8-4d9b-92a0-2ae49415ce99"
      },
      "source": [
        "X"
      ],
      "execution_count": null,
      "outputs": [
        {
          "output_type": "execute_result",
          "data": {
            "text/plain": [
              "array([[5.6823000e+04, 1.0627267e+07],\n",
              "       [1.3508000e+04, 5.8272770e+06],\n",
              "       [3.8610000e+03, 8.0937470e+06],\n",
              "       [9.1290000e+03, 6.2537920e+06],\n",
              "       [6.4032000e+04, 2.6105520e+06],\n",
              "       [7.2670000e+03, 1.6673750e+06],\n",
              "       [1.6159000e+04, 2.3040380e+07],\n",
              "       [1.4749000e+04, 9.0580310e+06],\n",
              "       [2.5830000e+03, 3.9253980e+06],\n",
              "       [1.1700000e+04, 7.3140170e+06],\n",
              "       [1.4759000e+04, 2.5998420e+06],\n",
              "       [4.7500000e+03, 2.6773900e+06],\n",
              "       [5.3470000e+03, 9.4726950e+06],\n",
              "       [1.0531000e+04, 5.8657600e+06],\n",
              "       [1.0461000e+04, 7.4467890e+06],\n",
              "       [3.4220000e+03, 3.0685810e+06],\n",
              "       [4.7070000e+03, 2.8176830e+06],\n",
              "       [3.4140000e+03, 1.2374620e+06],\n",
              "       [1.5870000e+03, 3.2052680e+06],\n",
              "       [5.5100000e+03, 1.1241100e+06],\n",
              "       [4.3470000e+03, 6.4046100e+05],\n",
              "       [9.8000000e+02, 1.1387500e+05],\n",
              "       [3.4900000e+02, 1.0231600e+05],\n",
              "       [1.8400000e+02, 3.5782900e+05],\n",
              "       [1.3520000e+03, 2.8700800e+05],\n",
              "       [3.4500000e+02, 1.0441800e+05],\n",
              "       [1.6800000e+02, 1.5596800e+05],\n",
              "       [2.9400000e+02, 3.2618800e+05],\n",
              "       [2.7400000e+02, 2.2962200e+05],\n",
              "       [4.1800000e+02, 6.6937000e+04],\n",
              "       [6.9000000e+01, 3.3026000e+04],\n",
              "       [1.3400000e+02, 1.1034300e+05],\n",
              "       [1.2000000e+01, 5.9418000e+04],\n",
              "       [0.0000000e+00, 5.6240000e+03]])"
            ]
          },
          "metadata": {
            "tags": []
          },
          "execution_count": 124
        }
      ]
    },
    {
      "cell_type": "code",
      "metadata": {
        "colab": {
          "base_uri": "https://localhost:8080/"
        },
        "id": "UQ7kuDyD1lv6",
        "outputId": "d16db2fe-34b1-4cc1-dd4c-ddac58cf58d2"
      },
      "source": [
        "len(X)"
      ],
      "execution_count": null,
      "outputs": [
        {
          "output_type": "execute_result",
          "data": {
            "text/plain": [
              "34"
            ]
          },
          "metadata": {
            "tags": []
          },
          "execution_count": 125
        }
      ]
    },
    {
      "cell_type": "code",
      "metadata": {
        "id": "N-YZdF1140qX"
      },
      "source": [
        "for i in range(1,11): \r\n",
        "     kmeans = KMeans(n_clusters=i, init ='k-means++', max_iter=300,  n_init=10,random_state=0 )\r\n",
        "     kmeans.fit(X)\r\n",
        "     wcss.append(kmeans.inertia_)"
      ],
      "execution_count": null,
      "outputs": []
    },
    {
      "cell_type": "code",
      "metadata": {
        "colab": {
          "base_uri": "https://localhost:8080/",
          "height": 533
        },
        "id": "9drUexn242Tf",
        "outputId": "ecf45b4d-c3ee-48d3-c86b-300b4b81d444"
      },
      "source": [
        "plt.plot(range(1,11),wcss)\r\n",
        "plt.title('The Elbow Method Graph')\r\n",
        "plt.xlabel('Number of clusters')\r\n",
        "plt.ylabel('WCSS')\r\n",
        "plt.show()"
      ],
      "execution_count": null,
      "outputs": [
        {
          "output_type": "display_data",
          "data": {
            "image/png": "[encoded data removed]",
            "text/plain": [
              "<Figure size 1130.4x595.44 with 1 Axes>"
            ]
          },
          "metadata": {
            "tags": []
          }
        }
      ]
    },
    {
      "cell_type": "code",
      "metadata": {
        "id": "4FiQd2WC5JRP"
      },
      "source": [
        "kmeans = KMeans(n_clusters=3, init ='k-means++', max_iter=300, n_init=10,random_state=0 )"
      ],
      "execution_count": null,
      "outputs": []
    },
    {
      "cell_type": "code",
      "metadata": {
        "id": "YJKSBfM_5aUJ"
      },
      "source": [
        "y_kmeans = kmeans.fit_predict(X)"
      ],
      "execution_count": null,
      "outputs": []
    },
    {
      "cell_type": "code",
      "metadata": {
        "colab": {
          "base_uri": "https://localhost:8080/"
        },
        "id": "xnU2Xpdn5eQX",
        "outputId": "b06b87a4-e753-41a2-b33c-f0109536d4ed"
      },
      "source": [
        "type(y_kmeans)"
      ],
      "execution_count": null,
      "outputs": [
        {
          "output_type": "execute_result",
          "data": {
            "text/plain": [
              "numpy.ndarray"
            ]
          },
          "metadata": {
            "tags": []
          },
          "execution_count": 130
        }
      ]
    },
    {
      "cell_type": "code",
      "metadata": {
        "colab": {
          "base_uri": "https://localhost:8080/"
        },
        "id": "VxYgTeSL5mM6",
        "outputId": "aadc9a75-de5a-42a8-b578-afed44f709f2"
      },
      "source": [
        "y_kmeans\r\n"
      ],
      "execution_count": null,
      "outputs": [
        {
          "output_type": "execute_result",
          "data": {
            "text/plain": [
              "array([1, 1, 1, 1, 0, 0, 2, 1, 0, 1, 0, 0, 1, 1, 1, 0, 0, 0, 0, 0, 0, 0,\n",
              "       0, 0, 0, 0, 0, 0, 0, 0, 0, 0, 0, 0], dtype=int32)"
            ]
          },
          "metadata": {
            "tags": []
          },
          "execution_count": 131
        }
      ]
    },
    {
      "cell_type": "code",
      "metadata": {
        "colab": {
          "base_uri": "https://localhost:8080/",
          "height": 533
        },
        "id": "2-mw2BR051j5",
        "outputId": "ef208f28-5ae6-46c7-bac0-39eb83d07ac1"
      },
      "source": [
        "plt.scatter(X[y_kmeans==0, 0], X[y_kmeans==0, 1], s=100, c='red', label ='Cluster 1')\r\n",
        "plt.scatter(X[y_kmeans==1, 0], X[y_kmeans==1, 1], s=100, c='blue', label ='Cluster 2')\r\n",
        "plt.scatter(X[y_kmeans==2, 0], X[y_kmeans==2, 1], s=100, c='green', label ='Cluster 3')\r\n",
        "plt.scatter(kmeans.cluster_centers_[:, 0], kmeans.cluster_centers_[:, 1], s=300, c='yellow', label = 'Centroids')\r\n",
        "plt.title('Clusters of Customers')\r\n",
        "plt.xlabel('Annual Income(k$)')\r\n",
        "plt.ylabel('Spending Score(1-100)')\r\n",
        "plt.show()"
      ],
      "execution_count": null,
      "outputs": [
        {
          "output_type": "display_data",
          "data": {
            "image/png": "[encoded data removed]",
            "text/plain": [
              "<Figure size 1130.4x595.44 with 1 Axes>"
            ]
          },
          "metadata": {
            "tags": []
          }
        }
      ]
    },
    {
      "cell_type": "code",
      "metadata": {
        "colab": {
          "base_uri": "https://localhost:8080/"
        },
        "id": "aPJqc7l66S07",
        "outputId": "f24b412e-d5e8-40e2-ad7b-1dac2a8ac503"
      },
      "source": [
        " for i in range(len(y_kmeans)):\r\n",
        "   print(df['State'].iloc[i:i+1],y_kmeans[i])"
      ],
      "execution_count": null,
      "outputs": [
        {
          "output_type": "stream",
          "text": [
            "1    Maharashtra\n",
            "Name: State, dtype: object 1\n",
            "2    Karnataka\n",
            "Name: State, dtype: object 1\n",
            "3    Andhra Pradesh\n",
            "Name: State, dtype: object 1\n",
            "4    Tamil Nadu\n",
            "Name: State, dtype: object 1\n",
            "5    Kerala\n",
            "Name: State, dtype: object 0\n",
            "6    Delhi\n",
            "Name: State, dtype: object 0\n",
            "7    Uttar Pradesh\n",
            "Name: State, dtype: object 2\n",
            "8    West Bengal\n",
            "Name: State, dtype: object 1\n",
            "9    Odisha\n",
            "Name: State, dtype: object 0\n",
            "10    Rajasthan\n",
            "Name: State, dtype: object 1\n",
            "11    Telangana\n",
            "Name: State, dtype: object 0\n",
            "12    Chhattisgarh\n",
            "Name: State, dtype: object 0\n",
            "13    Haryana\n",
            "Name: State, dtype: object 1\n",
            "14    Bihar\n",
            "Name: State, dtype: object 1\n",
            "15    Gujarat\n",
            "Name: State, dtype: object 1\n",
            "16    Madhya Pradesh\n",
            "Name: State, dtype: object 0\n",
            "17    Assam\n",
            "Name: State, dtype: object 0\n",
            "18    Punjab\n",
            "Name: State, dtype: object 0\n",
            "19    Jammu and Kashmir\n",
            "Name: State, dtype: object 0\n",
            "20    Jharkhand\n",
            "Name: State, dtype: object 0\n",
            "21    Uttarakhand\n",
            "Name: State, dtype: object 0\n",
            "22    Himachal Pradesh\n",
            "Name: State, dtype: object 0\n",
            "23    Goa\n",
            "Name: State, dtype: object 0\n",
            "24    Puducherry\n",
            "Name: State, dtype: object 0\n",
            "25    Tripura\n",
            "Name: State, dtype: object 0\n",
            "26    Manipur\n",
            "Name: State, dtype: object 0\n",
            "27    Chandigarh\n",
            "Name: State, dtype: object 0\n",
            "28    Arunachal Pradesh\n",
            "Name: State, dtype: object 0\n",
            "29    Meghalaya\n",
            "Name: State, dtype: object 0\n",
            "30    Nagaland\n",
            "Name: State, dtype: object 0\n",
            "31    Ladakh\n",
            "Name: State, dtype: object 0\n",
            "32    Sikkim\n",
            "Name: State, dtype: object 0\n",
            "33    Andaman and Nicobar Islands\n",
            "Name: State, dtype: object 0\n",
            "34    Mizoram\n",
            "Name: State, dtype: object 0\n"
          ],
          "name": "stdout"
        }
      ]
    },
    {
      "cell_type": "code",
      "metadata": {
        "id": "-yQKakejg0Wi"
      },
      "source": [
        "X1.reset_index(inplace=True)"
      ],
      "execution_count": null,
      "outputs": []
    },
    {
      "cell_type": "code",
      "metadata": {
        "colab": {
          "base_uri": "https://localhost:8080/",
          "height": 1000
        },
        "id": "x3Df7d4GsVun",
        "outputId": "40b56313-0e6c-48d4-aa1c-ec3d9de584c1"
      },
      "source": [
        "X1"
      ],
      "execution_count": null,
      "outputs": [
        {
          "output_type": "execute_result",
          "data": {
            "text/html": [
              "<div>\n",
              "<style scoped>\n",
              "    .dataframe tbody tr th:only-of-type {\n",
              "        vertical-align: middle;\n",
              "    }\n",
              "\n",
              "    .dataframe tbody tr th {\n",
              "        vertical-align: top;\n",
              "    }\n",
              "\n",
              "    .dataframe thead th {\n",
              "        text-align: right;\n",
              "    }\n",
              "</style>\n",
              "<table border=\"1\" class=\"dataframe\">\n",
              "  <thead>\n",
              "    <tr style=\"text-align: right;\">\n",
              "      <th></th>\n",
              "      <th>index</th>\n",
              "      <th>Active</th>\n",
              "      <th>15-19</th>\n",
              "      <th>State</th>\n",
              "    </tr>\n",
              "  </thead>\n",
              "  <tbody>\n",
              "    <tr>\n",
              "      <th>0</th>\n",
              "      <td>1</td>\n",
              "      <td>56823</td>\n",
              "      <td>10627267.0</td>\n",
              "      <td>Maharashtra</td>\n",
              "    </tr>\n",
              "    <tr>\n",
              "      <th>1</th>\n",
              "      <td>2</td>\n",
              "      <td>13508</td>\n",
              "      <td>5827277.0</td>\n",
              "      <td>Karnataka</td>\n",
              "    </tr>\n",
              "    <tr>\n",
              "      <th>2</th>\n",
              "      <td>3</td>\n",
              "      <td>3861</td>\n",
              "      <td>8093747.0</td>\n",
              "      <td>Andhra Pradesh</td>\n",
              "    </tr>\n",
              "    <tr>\n",
              "      <th>3</th>\n",
              "      <td>4</td>\n",
              "      <td>9129</td>\n",
              "      <td>6253792.0</td>\n",
              "      <td>Tamil Nadu</td>\n",
              "    </tr>\n",
              "    <tr>\n",
              "      <th>4</th>\n",
              "      <td>5</td>\n",
              "      <td>64032</td>\n",
              "      <td>2610552.0</td>\n",
              "      <td>Kerala</td>\n",
              "    </tr>\n",
              "    <tr>\n",
              "      <th>5</th>\n",
              "      <td>6</td>\n",
              "      <td>7267</td>\n",
              "      <td>1667375.0</td>\n",
              "      <td>Delhi</td>\n",
              "    </tr>\n",
              "    <tr>\n",
              "      <th>6</th>\n",
              "      <td>7</td>\n",
              "      <td>16159</td>\n",
              "      <td>23040380.0</td>\n",
              "      <td>Uttar Pradesh</td>\n",
              "    </tr>\n",
              "    <tr>\n",
              "      <th>7</th>\n",
              "      <td>8</td>\n",
              "      <td>14749</td>\n",
              "      <td>9058031.0</td>\n",
              "      <td>West Bengal</td>\n",
              "    </tr>\n",
              "    <tr>\n",
              "      <th>8</th>\n",
              "      <td>9</td>\n",
              "      <td>2583</td>\n",
              "      <td>3925398.0</td>\n",
              "      <td>Odisha</td>\n",
              "    </tr>\n",
              "    <tr>\n",
              "      <th>9</th>\n",
              "      <td>10</td>\n",
              "      <td>11700</td>\n",
              "      <td>7314017.0</td>\n",
              "      <td>Rajasthan</td>\n",
              "    </tr>\n",
              "    <tr>\n",
              "      <th>10</th>\n",
              "      <td>12</td>\n",
              "      <td>14759</td>\n",
              "      <td>2599842.0</td>\n",
              "      <td>Chhattisgarh</td>\n",
              "    </tr>\n",
              "    <tr>\n",
              "      <th>11</th>\n",
              "      <td>13</td>\n",
              "      <td>4750</td>\n",
              "      <td>2677390.0</td>\n",
              "      <td>Haryana</td>\n",
              "    </tr>\n",
              "    <tr>\n",
              "      <th>12</th>\n",
              "      <td>14</td>\n",
              "      <td>5347</td>\n",
              "      <td>9472695.0</td>\n",
              "      <td>Bihar</td>\n",
              "    </tr>\n",
              "    <tr>\n",
              "      <th>13</th>\n",
              "      <td>15</td>\n",
              "      <td>10531</td>\n",
              "      <td>5865760.0</td>\n",
              "      <td>Gujarat</td>\n",
              "    </tr>\n",
              "    <tr>\n",
              "      <th>14</th>\n",
              "      <td>16</td>\n",
              "      <td>10461</td>\n",
              "      <td>7446789.0</td>\n",
              "      <td>Madhya Pradesh</td>\n",
              "    </tr>\n",
              "    <tr>\n",
              "      <th>15</th>\n",
              "      <td>17</td>\n",
              "      <td>3422</td>\n",
              "      <td>3068581.0</td>\n",
              "      <td>Assam</td>\n",
              "    </tr>\n",
              "    <tr>\n",
              "      <th>16</th>\n",
              "      <td>18</td>\n",
              "      <td>4707</td>\n",
              "      <td>2817683.0</td>\n",
              "      <td>Punjab</td>\n",
              "    </tr>\n",
              "    <tr>\n",
              "      <th>17</th>\n",
              "      <td>19</td>\n",
              "      <td>3414</td>\n",
              "      <td>1237462.0</td>\n",
              "      <td>Jammu and Kashmir</td>\n",
              "    </tr>\n",
              "    <tr>\n",
              "      <th>18</th>\n",
              "      <td>20</td>\n",
              "      <td>1587</td>\n",
              "      <td>3205268.0</td>\n",
              "      <td>Jharkhand</td>\n",
              "    </tr>\n",
              "    <tr>\n",
              "      <th>19</th>\n",
              "      <td>21</td>\n",
              "      <td>5510</td>\n",
              "      <td>1124110.0</td>\n",
              "      <td>Uttarakhand</td>\n",
              "    </tr>\n",
              "    <tr>\n",
              "      <th>20</th>\n",
              "      <td>22</td>\n",
              "      <td>4347</td>\n",
              "      <td>640461.0</td>\n",
              "      <td>Himachal Pradesh</td>\n",
              "    </tr>\n",
              "    <tr>\n",
              "      <th>21</th>\n",
              "      <td>23</td>\n",
              "      <td>980</td>\n",
              "      <td>113875.0</td>\n",
              "      <td>Goa</td>\n",
              "    </tr>\n",
              "    <tr>\n",
              "      <th>22</th>\n",
              "      <td>24</td>\n",
              "      <td>349</td>\n",
              "      <td>102316.0</td>\n",
              "      <td>Puducherry</td>\n",
              "    </tr>\n",
              "    <tr>\n",
              "      <th>23</th>\n",
              "      <td>25</td>\n",
              "      <td>184</td>\n",
              "      <td>357829.0</td>\n",
              "      <td>Tripura</td>\n",
              "    </tr>\n",
              "    <tr>\n",
              "      <th>24</th>\n",
              "      <td>26</td>\n",
              "      <td>1352</td>\n",
              "      <td>287008.0</td>\n",
              "      <td>Manipur</td>\n",
              "    </tr>\n",
              "    <tr>\n",
              "      <th>25</th>\n",
              "      <td>27</td>\n",
              "      <td>345</td>\n",
              "      <td>104418.0</td>\n",
              "      <td>Chandigarh</td>\n",
              "    </tr>\n",
              "    <tr>\n",
              "      <th>26</th>\n",
              "      <td>28</td>\n",
              "      <td>168</td>\n",
              "      <td>155968.0</td>\n",
              "      <td>Arunachal Pradesh</td>\n",
              "    </tr>\n",
              "    <tr>\n",
              "      <th>27</th>\n",
              "      <td>29</td>\n",
              "      <td>294</td>\n",
              "      <td>326188.0</td>\n",
              "      <td>Meghalaya</td>\n",
              "    </tr>\n",
              "    <tr>\n",
              "      <th>28</th>\n",
              "      <td>30</td>\n",
              "      <td>274</td>\n",
              "      <td>229622.0</td>\n",
              "      <td>Nagaland</td>\n",
              "    </tr>\n",
              "    <tr>\n",
              "      <th>29</th>\n",
              "      <td>32</td>\n",
              "      <td>418</td>\n",
              "      <td>66937.0</td>\n",
              "      <td>Sikkim</td>\n",
              "    </tr>\n",
              "    <tr>\n",
              "      <th>30</th>\n",
              "      <td>33</td>\n",
              "      <td>69</td>\n",
              "      <td>33026.0</td>\n",
              "      <td>Andaman and Nicobar Islands</td>\n",
              "    </tr>\n",
              "    <tr>\n",
              "      <th>31</th>\n",
              "      <td>34</td>\n",
              "      <td>134</td>\n",
              "      <td>110343.0</td>\n",
              "      <td>Mizoram</td>\n",
              "    </tr>\n",
              "    <tr>\n",
              "      <th>32</th>\n",
              "      <td>35</td>\n",
              "      <td>12</td>\n",
              "      <td>59418.0</td>\n",
              "      <td>Dadra and Nagar Haveli and Daman and Diu</td>\n",
              "    </tr>\n",
              "    <tr>\n",
              "      <th>33</th>\n",
              "      <td>37</td>\n",
              "      <td>0</td>\n",
              "      <td>5624.0</td>\n",
              "      <td>Lakshadweep</td>\n",
              "    </tr>\n",
              "  </tbody>\n",
              "</table>\n",
              "</div>"
            ],
            "text/plain": [
              "    index  Active       15-19                                     State\n",
              "0       1   56823  10627267.0                               Maharashtra\n",
              "1       2   13508   5827277.0                                 Karnataka\n",
              "2       3    3861   8093747.0                            Andhra Pradesh\n",
              "3       4    9129   6253792.0                                Tamil Nadu\n",
              "4       5   64032   2610552.0                                    Kerala\n",
              "5       6    7267   1667375.0                                     Delhi\n",
              "6       7   16159  23040380.0                             Uttar Pradesh\n",
              "7       8   14749   9058031.0                               West Bengal\n",
              "8       9    2583   3925398.0                                    Odisha\n",
              "9      10   11700   7314017.0                                 Rajasthan\n",
              "10     12   14759   2599842.0                              Chhattisgarh\n",
              "11     13    4750   2677390.0                                   Haryana\n",
              "12     14    5347   9472695.0                                     Bihar\n",
              "13     15   10531   5865760.0                                   Gujarat\n",
              "14     16   10461   7446789.0                            Madhya Pradesh\n",
              "15     17    3422   3068581.0                                     Assam\n",
              "16     18    4707   2817683.0                                    Punjab\n",
              "17     19    3414   1237462.0                         Jammu and Kashmir\n",
              "18     20    1587   3205268.0                                 Jharkhand\n",
              "19     21    5510   1124110.0                               Uttarakhand\n",
              "20     22    4347    640461.0                          Himachal Pradesh\n",
              "21     23     980    113875.0                                       Goa\n",
              "22     24     349    102316.0                                Puducherry\n",
              "23     25     184    357829.0                                   Tripura\n",
              "24     26    1352    287008.0                                   Manipur\n",
              "25     27     345    104418.0                                Chandigarh\n",
              "26     28     168    155968.0                         Arunachal Pradesh\n",
              "27     29     294    326188.0                                 Meghalaya\n",
              "28     30     274    229622.0                                  Nagaland\n",
              "29     32     418     66937.0                                    Sikkim\n",
              "30     33      69     33026.0               Andaman and Nicobar Islands\n",
              "31     34     134    110343.0                                   Mizoram\n",
              "32     35      12     59418.0  Dadra and Nagar Haveli and Daman and Diu\n",
              "33     37       0      5624.0                               Lakshadweep"
            ]
          },
          "metadata": {
            "tags": []
          },
          "execution_count": 135
        }
      ]
    },
    {
      "cell_type": "code",
      "metadata": {
        "colab": {
          "base_uri": "https://localhost:8080/",
          "height": 195
        },
        "id": "b0mKHyoPsZbD",
        "outputId": "6ae1f92b-8b52-4dab-b046-0c7d92bbc65c"
      },
      "source": [
        "active_index=X1[['State']]\r\n",
        "active_index.head()"
      ],
      "execution_count": null,
      "outputs": [
        {
          "output_type": "execute_result",
          "data": {
            "text/html": [
              "<div>\n",
              "<style scoped>\n",
              "    .dataframe tbody tr th:only-of-type {\n",
              "        vertical-align: middle;\n",
              "    }\n",
              "\n",
              "    .dataframe tbody tr th {\n",
              "        vertical-align: top;\n",
              "    }\n",
              "\n",
              "    .dataframe thead th {\n",
              "        text-align: right;\n",
              "    }\n",
              "</style>\n",
              "<table border=\"1\" class=\"dataframe\">\n",
              "  <thead>\n",
              "    <tr style=\"text-align: right;\">\n",
              "      <th></th>\n",
              "      <th>State</th>\n",
              "    </tr>\n",
              "  </thead>\n",
              "  <tbody>\n",
              "    <tr>\n",
              "      <th>0</th>\n",
              "      <td>Maharashtra</td>\n",
              "    </tr>\n",
              "    <tr>\n",
              "      <th>1</th>\n",
              "      <td>Karnataka</td>\n",
              "    </tr>\n",
              "    <tr>\n",
              "      <th>2</th>\n",
              "      <td>Andhra Pradesh</td>\n",
              "    </tr>\n",
              "    <tr>\n",
              "      <th>3</th>\n",
              "      <td>Tamil Nadu</td>\n",
              "    </tr>\n",
              "    <tr>\n",
              "      <th>4</th>\n",
              "      <td>Kerala</td>\n",
              "    </tr>\n",
              "  </tbody>\n",
              "</table>\n",
              "</div>"
            ],
            "text/plain": [
              "            State\n",
              "0     Maharashtra\n",
              "1       Karnataka\n",
              "2  Andhra Pradesh\n",
              "3      Tamil Nadu\n",
              "4          Kerala"
            ]
          },
          "metadata": {
            "tags": []
          },
          "execution_count": 136
        }
      ]
    },
    {
      "cell_type": "code",
      "metadata": {
        "colab": {
          "base_uri": "https://localhost:8080/"
        },
        "id": "g8LhV-mI16rD",
        "outputId": "0400da96-ecbb-4c79-8797-f7ccb0c3a1a6"
      },
      "source": [
        "len(y_kmeans)"
      ],
      "execution_count": null,
      "outputs": [
        {
          "output_type": "execute_result",
          "data": {
            "text/plain": [
              "34"
            ]
          },
          "metadata": {
            "tags": []
          },
          "execution_count": 137
        }
      ]
    },
    {
      "cell_type": "code",
      "metadata": {
        "colab": {
          "base_uri": "https://localhost:8080/"
        },
        "id": "5WnItMOAhFj4",
        "outputId": "30a0d75a-44c3-4814-e94e-dfde11e322df"
      },
      "source": [
        "type(active_index)"
      ],
      "execution_count": null,
      "outputs": [
        {
          "output_type": "execute_result",
          "data": {
            "text/plain": [
              "pandas.core.frame.DataFrame"
            ]
          },
          "metadata": {
            "tags": []
          },
          "execution_count": 138
        }
      ]
    },
    {
      "cell_type": "code",
      "metadata": {
        "colab": {
          "base_uri": "https://localhost:8080/",
          "height": 1000
        },
        "id": "7AY1vIoWhTAn",
        "outputId": "0371e83a-4a34-4228-8757-30a952753022"
      },
      "source": [
        "index=pd.DataFrame({'index':y_kmeans})\r\n",
        "index"
      ],
      "execution_count": null,
      "outputs": [
        {
          "output_type": "execute_result",
          "data": {
            "text/html": [
              "<div>\n",
              "<style scoped>\n",
              "    .dataframe tbody tr th:only-of-type {\n",
              "        vertical-align: middle;\n",
              "    }\n",
              "\n",
              "    .dataframe tbody tr th {\n",
              "        vertical-align: top;\n",
              "    }\n",
              "\n",
              "    .dataframe thead th {\n",
              "        text-align: right;\n",
              "    }\n",
              "</style>\n",
              "<table border=\"1\" class=\"dataframe\">\n",
              "  <thead>\n",
              "    <tr style=\"text-align: right;\">\n",
              "      <th></th>\n",
              "      <th>index</th>\n",
              "    </tr>\n",
              "  </thead>\n",
              "  <tbody>\n",
              "    <tr>\n",
              "      <th>0</th>\n",
              "      <td>1</td>\n",
              "    </tr>\n",
              "    <tr>\n",
              "      <th>1</th>\n",
              "      <td>1</td>\n",
              "    </tr>\n",
              "    <tr>\n",
              "      <th>2</th>\n",
              "      <td>1</td>\n",
              "    </tr>\n",
              "    <tr>\n",
              "      <th>3</th>\n",
              "      <td>1</td>\n",
              "    </tr>\n",
              "    <tr>\n",
              "      <th>4</th>\n",
              "      <td>0</td>\n",
              "    </tr>\n",
              "    <tr>\n",
              "      <th>5</th>\n",
              "      <td>0</td>\n",
              "    </tr>\n",
              "    <tr>\n",
              "      <th>6</th>\n",
              "      <td>2</td>\n",
              "    </tr>\n",
              "    <tr>\n",
              "      <th>7</th>\n",
              "      <td>1</td>\n",
              "    </tr>\n",
              "    <tr>\n",
              "      <th>8</th>\n",
              "      <td>0</td>\n",
              "    </tr>\n",
              "    <tr>\n",
              "      <th>9</th>\n",
              "      <td>1</td>\n",
              "    </tr>\n",
              "    <tr>\n",
              "      <th>10</th>\n",
              "      <td>0</td>\n",
              "    </tr>\n",
              "    <tr>\n",
              "      <th>11</th>\n",
              "      <td>0</td>\n",
              "    </tr>\n",
              "    <tr>\n",
              "      <th>12</th>\n",
              "      <td>1</td>\n",
              "    </tr>\n",
              "    <tr>\n",
              "      <th>13</th>\n",
              "      <td>1</td>\n",
              "    </tr>\n",
              "    <tr>\n",
              "      <th>14</th>\n",
              "      <td>1</td>\n",
              "    </tr>\n",
              "    <tr>\n",
              "      <th>15</th>\n",
              "      <td>0</td>\n",
              "    </tr>\n",
              "    <tr>\n",
              "      <th>16</th>\n",
              "      <td>0</td>\n",
              "    </tr>\n",
              "    <tr>\n",
              "      <th>17</th>\n",
              "      <td>0</td>\n",
              "    </tr>\n",
              "    <tr>\n",
              "      <th>18</th>\n",
              "      <td>0</td>\n",
              "    </tr>\n",
              "    <tr>\n",
              "      <th>19</th>\n",
              "      <td>0</td>\n",
              "    </tr>\n",
              "    <tr>\n",
              "      <th>20</th>\n",
              "      <td>0</td>\n",
              "    </tr>\n",
              "    <tr>\n",
              "      <th>21</th>\n",
              "      <td>0</td>\n",
              "    </tr>\n",
              "    <tr>\n",
              "      <th>22</th>\n",
              "      <td>0</td>\n",
              "    </tr>\n",
              "    <tr>\n",
              "      <th>23</th>\n",
              "      <td>0</td>\n",
              "    </tr>\n",
              "    <tr>\n",
              "      <th>24</th>\n",
              "      <td>0</td>\n",
              "    </tr>\n",
              "    <tr>\n",
              "      <th>25</th>\n",
              "      <td>0</td>\n",
              "    </tr>\n",
              "    <tr>\n",
              "      <th>26</th>\n",
              "      <td>0</td>\n",
              "    </tr>\n",
              "    <tr>\n",
              "      <th>27</th>\n",
              "      <td>0</td>\n",
              "    </tr>\n",
              "    <tr>\n",
              "      <th>28</th>\n",
              "      <td>0</td>\n",
              "    </tr>\n",
              "    <tr>\n",
              "      <th>29</th>\n",
              "      <td>0</td>\n",
              "    </tr>\n",
              "    <tr>\n",
              "      <th>30</th>\n",
              "      <td>0</td>\n",
              "    </tr>\n",
              "    <tr>\n",
              "      <th>31</th>\n",
              "      <td>0</td>\n",
              "    </tr>\n",
              "    <tr>\n",
              "      <th>32</th>\n",
              "      <td>0</td>\n",
              "    </tr>\n",
              "    <tr>\n",
              "      <th>33</th>\n",
              "      <td>0</td>\n",
              "    </tr>\n",
              "  </tbody>\n",
              "</table>\n",
              "</div>"
            ],
            "text/plain": [
              "    index\n",
              "0       1\n",
              "1       1\n",
              "2       1\n",
              "3       1\n",
              "4       0\n",
              "5       0\n",
              "6       2\n",
              "7       1\n",
              "8       0\n",
              "9       1\n",
              "10      0\n",
              "11      0\n",
              "12      1\n",
              "13      1\n",
              "14      1\n",
              "15      0\n",
              "16      0\n",
              "17      0\n",
              "18      0\n",
              "19      0\n",
              "20      0\n",
              "21      0\n",
              "22      0\n",
              "23      0\n",
              "24      0\n",
              "25      0\n",
              "26      0\n",
              "27      0\n",
              "28      0\n",
              "29      0\n",
              "30      0\n",
              "31      0\n",
              "32      0\n",
              "33      0"
            ]
          },
          "metadata": {
            "tags": []
          },
          "execution_count": 139
        }
      ]
    },
    {
      "cell_type": "code",
      "metadata": {
        "id": "_if93AnvhXhB"
      },
      "source": [
        "active_index=active_index.join(index)"
      ],
      "execution_count": null,
      "outputs": []
    },
    {
      "cell_type": "code",
      "metadata": {
        "colab": {
          "base_uri": "https://localhost:8080/",
          "height": 225
        },
        "id": "xnk9Ahf9hbvY",
        "outputId": "c3cdfbd1-6ed1-44a8-f8cc-263353ce748f"
      },
      "source": [
        "active_index=active_index.set_index('State')\r\n",
        "active_index.head()"
      ],
      "execution_count": null,
      "outputs": [
        {
          "output_type": "execute_result",
          "data": {
            "text/html": [
              "<div>\n",
              "<style scoped>\n",
              "    .dataframe tbody tr th:only-of-type {\n",
              "        vertical-align: middle;\n",
              "    }\n",
              "\n",
              "    .dataframe tbody tr th {\n",
              "        vertical-align: top;\n",
              "    }\n",
              "\n",
              "    .dataframe thead th {\n",
              "        text-align: right;\n",
              "    }\n",
              "</style>\n",
              "<table border=\"1\" class=\"dataframe\">\n",
              "  <thead>\n",
              "    <tr style=\"text-align: right;\">\n",
              "      <th></th>\n",
              "      <th>index</th>\n",
              "    </tr>\n",
              "    <tr>\n",
              "      <th>State</th>\n",
              "      <th></th>\n",
              "    </tr>\n",
              "  </thead>\n",
              "  <tbody>\n",
              "    <tr>\n",
              "      <th>Maharashtra</th>\n",
              "      <td>1</td>\n",
              "    </tr>\n",
              "    <tr>\n",
              "      <th>Karnataka</th>\n",
              "      <td>1</td>\n",
              "    </tr>\n",
              "    <tr>\n",
              "      <th>Andhra Pradesh</th>\n",
              "      <td>1</td>\n",
              "    </tr>\n",
              "    <tr>\n",
              "      <th>Tamil Nadu</th>\n",
              "      <td>1</td>\n",
              "    </tr>\n",
              "    <tr>\n",
              "      <th>Kerala</th>\n",
              "      <td>0</td>\n",
              "    </tr>\n",
              "  </tbody>\n",
              "</table>\n",
              "</div>"
            ],
            "text/plain": [
              "                index\n",
              "State                \n",
              "Maharashtra         1\n",
              "Karnataka           1\n",
              "Andhra Pradesh      1\n",
              "Tamil Nadu          1\n",
              "Kerala              0"
            ]
          },
          "metadata": {
            "tags": []
          },
          "execution_count": 141
        }
      ]
    },
    {
      "cell_type": "code",
      "metadata": {
        "id": "qsKi0o8WhfaE"
      },
      "source": [
        "active_index.to_json('school_index')"
      ],
      "execution_count": null,
      "outputs": []
    },
    {
      "cell_type": "code",
      "metadata": {
        "colab": {
          "base_uri": "https://localhost:8080/",
          "height": 266
        },
        "id": "exmUX7dShlM4",
        "outputId": "bdb2aa4f-b4a7-4ec3-f533-80bc1d12f254"
      },
      "source": [
        "df.head()"
      ],
      "execution_count": null,
      "outputs": [
        {
          "output_type": "execute_result",
          "data": {
            "text/html": [
              "<div>\n",
              "<style scoped>\n",
              "    .dataframe tbody tr th:only-of-type {\n",
              "        vertical-align: middle;\n",
              "    }\n",
              "\n",
              "    .dataframe tbody tr th {\n",
              "        vertical-align: top;\n",
              "    }\n",
              "\n",
              "    .dataframe thead th {\n",
              "        text-align: right;\n",
              "    }\n",
              "</style>\n",
              "<table border=\"1\" class=\"dataframe\">\n",
              "  <thead>\n",
              "    <tr style=\"text-align: right;\">\n",
              "      <th></th>\n",
              "      <th>State</th>\n",
              "      <th>Unnamed: 1</th>\n",
              "      <th>Confirmed</th>\n",
              "      <th>Recovered</th>\n",
              "      <th>Deaths</th>\n",
              "      <th>Active</th>\n",
              "      <th>Last_Updated_Time</th>\n",
              "      <th>Migrated_Other</th>\n",
              "      <th>State_code</th>\n",
              "      <th>Delta_Confirmed</th>\n",
              "      <th>Delta_Recovered</th>\n",
              "      <th>Delta_Deaths</th>\n",
              "      <th>State_Notes</th>\n",
              "      <th>Population</th>\n",
              "      <th>Density</th>\n",
              "      <th>0-4</th>\n",
              "      <th>2020-05-09 00:00:00</th>\n",
              "      <th>2020-10-14 00:00:00</th>\n",
              "      <th>15-19</th>\n",
              "      <th>20-24</th>\n",
              "      <th>25-29</th>\n",
              "      <th>30-34</th>\n",
              "      <th>35-39</th>\n",
              "      <th>40-44</th>\n",
              "      <th>45-49</th>\n",
              "      <th>50-54</th>\n",
              "      <th>55-59</th>\n",
              "      <th>60-64</th>\n",
              "      <th>65-69</th>\n",
              "      <th>70-74</th>\n",
              "      <th>75-79</th>\n",
              "      <th>80+</th>\n",
              "      <th>Health Workers(%)</th>\n",
              "      <th>Police Force</th>\n",
              "      <th>Vaccination Centres</th>\n",
              "    </tr>\n",
              "  </thead>\n",
              "  <tbody>\n",
              "    <tr>\n",
              "      <th>1</th>\n",
              "      <td>Maharashtra</td>\n",
              "      <td>NaN</td>\n",
              "      <td>1913382</td>\n",
              "      <td>1806298</td>\n",
              "      <td>49129</td>\n",
              "      <td>56823</td>\n",
              "      <td>25-12-2020 22:43</td>\n",
              "      <td>1132</td>\n",
              "      <td>MH</td>\n",
              "      <td>3431</td>\n",
              "      <td>1427</td>\n",
              "      <td>71</td>\n",
              "      <td>NaN</td>\n",
              "      <td>120837347.0</td>\n",
              "      <td>365.0</td>\n",
              "      <td>9362026.0</td>\n",
              "      <td>9820654.0</td>\n",
              "      <td>10734535.0</td>\n",
              "      <td>10627267.0</td>\n",
              "      <td>11090966.0</td>\n",
              "      <td>10147113.0</td>\n",
              "      <td>8796307.0</td>\n",
              "      <td>8247160.0</td>\n",
              "      <td>7196089.0</td>\n",
              "      <td>6032454.0</td>\n",
              "      <td>4919317.0</td>\n",
              "      <td>3885814.0</td>\n",
              "      <td>3642480.0</td>\n",
              "      <td>3078352.0</td>\n",
              "      <td>2143136.0</td>\n",
              "      <td>1062773.0</td>\n",
              "      <td>1180194.0</td>\n",
              "      <td>13.67</td>\n",
              "      <td>213382.0</td>\n",
              "      <td>3239.0</td>\n",
              "    </tr>\n",
              "    <tr>\n",
              "      <th>2</th>\n",
              "      <td>Karnataka</td>\n",
              "      <td>NaN</td>\n",
              "      <td>914488</td>\n",
              "      <td>888917</td>\n",
              "      <td>12044</td>\n",
              "      <td>13508</td>\n",
              "      <td>25-12-2020 20:23</td>\n",
              "      <td>19</td>\n",
              "      <td>KA</td>\n",
              "      <td>1005</td>\n",
              "      <td>1102</td>\n",
              "      <td>5</td>\n",
              "      <td>NaN</td>\n",
              "      <td>66165886.0</td>\n",
              "      <td>319.0</td>\n",
              "      <td>5046719.0</td>\n",
              "      <td>5241509.0</td>\n",
              "      <td>5736646.0</td>\n",
              "      <td>5827277.0</td>\n",
              "      <td>6052558.0</td>\n",
              "      <td>5771606.0</td>\n",
              "      <td>4698380.0</td>\n",
              "      <td>4695451.0</td>\n",
              "      <td>3826712.0</td>\n",
              "      <td>3519782.0</td>\n",
              "      <td>2699270.0</td>\n",
              "      <td>2142504.0</td>\n",
              "      <td>2060052.0</td>\n",
              "      <td>1520119.0</td>\n",
              "      <td>1061125.0</td>\n",
              "      <td>524426.0</td>\n",
              "      <td>625310.0</td>\n",
              "      <td>5.27</td>\n",
              "      <td>89009.0</td>\n",
              "      <td>2943.0</td>\n",
              "    </tr>\n",
              "    <tr>\n",
              "      <th>3</th>\n",
              "      <td>Andhra Pradesh</td>\n",
              "      <td>NaN</td>\n",
              "      <td>880430</td>\n",
              "      <td>869478</td>\n",
              "      <td>7091</td>\n",
              "      <td>3861</td>\n",
              "      <td>25-12-2020 19:09</td>\n",
              "      <td>0</td>\n",
              "      <td>AP</td>\n",
              "      <td>355</td>\n",
              "      <td>354</td>\n",
              "      <td>2</td>\n",
              "      <td>NaN</td>\n",
              "      <td>52883163.0</td>\n",
              "      <td>308.0</td>\n",
              "      <td>6284765.0</td>\n",
              "      <td>7304432.0</td>\n",
              "      <td>8201595.0</td>\n",
              "      <td>8093747.0</td>\n",
              "      <td>8132094.0</td>\n",
              "      <td>7799036.0</td>\n",
              "      <td>6584371.0</td>\n",
              "      <td>6507339.0</td>\n",
              "      <td>5399473.0</td>\n",
              "      <td>4657269.0</td>\n",
              "      <td>3657386.0</td>\n",
              "      <td>2909598.0</td>\n",
              "      <td>3199837.0</td>\n",
              "      <td>2167854.0</td>\n",
              "      <td>1519358.0</td>\n",
              "      <td>636989.0</td>\n",
              "      <td>754203.0</td>\n",
              "      <td>7.83</td>\n",
              "      <td>61168.0</td>\n",
              "      <td>1666.0</td>\n",
              "    </tr>\n",
              "    <tr>\n",
              "      <th>4</th>\n",
              "      <td>Tamil Nadu</td>\n",
              "      <td>NaN</td>\n",
              "      <td>812142</td>\n",
              "      <td>790965</td>\n",
              "      <td>12048</td>\n",
              "      <td>9129</td>\n",
              "      <td>25-12-2020 19:30</td>\n",
              "      <td>0</td>\n",
              "      <td>TN</td>\n",
              "      <td>1027</td>\n",
              "      <td>1103</td>\n",
              "      <td>12</td>\n",
              "      <td>NaN</td>\n",
              "      <td>76481545.0</td>\n",
              "      <td>555.0</td>\n",
              "      <td>5278701.0</td>\n",
              "      <td>5551255.0</td>\n",
              "      <td>6177547.0</td>\n",
              "      <td>6253792.0</td>\n",
              "      <td>6411543.0</td>\n",
              "      <td>6663746.0</td>\n",
              "      <td>5815560.0</td>\n",
              "      <td>5836456.0</td>\n",
              "      <td>5064209.0</td>\n",
              "      <td>4713056.0</td>\n",
              "      <td>3703460.0</td>\n",
              "      <td>3101142.0</td>\n",
              "      <td>2782608.0</td>\n",
              "      <td>1868370.0</td>\n",
              "      <td>1406529.0</td>\n",
              "      <td>710241.0</td>\n",
              "      <td>742010.0</td>\n",
              "      <td>6.72</td>\n",
              "      <td>110186.0</td>\n",
              "      <td>2581.0</td>\n",
              "    </tr>\n",
              "    <tr>\n",
              "      <th>5</th>\n",
              "      <td>Kerala</td>\n",
              "      <td>NaN</td>\n",
              "      <td>732085</td>\n",
              "      <td>664951</td>\n",
              "      <td>2931</td>\n",
              "      <td>64032</td>\n",
              "      <td>25-12-2020 21:52</td>\n",
              "      <td>171</td>\n",
              "      <td>KL</td>\n",
              "      <td>5397</td>\n",
              "      <td>4506</td>\n",
              "      <td>16</td>\n",
              "      <td>NaN</td>\n",
              "      <td>35330888.0</td>\n",
              "      <td>860.0</td>\n",
              "      <td>2453092.0</td>\n",
              "      <td>2555112.0</td>\n",
              "      <td>2822770.0</td>\n",
              "      <td>2610552.0</td>\n",
              "      <td>2665809.0</td>\n",
              "      <td>2604092.0</td>\n",
              "      <td>2455501.0</td>\n",
              "      <td>2579673.0</td>\n",
              "      <td>2412498.0</td>\n",
              "      <td>2348530.0</td>\n",
              "      <td>1928145.0</td>\n",
              "      <td>1742408.0</td>\n",
              "      <td>1414671.0</td>\n",
              "      <td>1002134.0</td>\n",
              "      <td>733372.0</td>\n",
              "      <td>501367.0</td>\n",
              "      <td>541849.0</td>\n",
              "      <td>6.06</td>\n",
              "      <td>48860.0</td>\n",
              "      <td>1297.0</td>\n",
              "    </tr>\n",
              "  </tbody>\n",
              "</table>\n",
              "</div>"
            ],
            "text/plain": [
              "            State  Unnamed: 1  ...  Police Force  Vaccination Centres\n",
              "1     Maharashtra         NaN  ...      213382.0               3239.0\n",
              "2       Karnataka         NaN  ...       89009.0               2943.0\n",
              "3  Andhra Pradesh         NaN  ...       61168.0               1666.0\n",
              "4      Tamil Nadu         NaN  ...      110186.0               2581.0\n",
              "5          Kerala         NaN  ...       48860.0               1297.0\n",
              "\n",
              "[5 rows x 35 columns]"
            ]
          },
          "metadata": {
            "tags": []
          },
          "execution_count": 143
        }
      ]
    },
    {
      "cell_type": "code",
      "metadata": {
        "colab": {
          "base_uri": "https://localhost:8080/"
        },
        "id": "QRrykxsqhobq",
        "outputId": "2757ca5e-18c1-4f2e-dfec-6f83f66cd858"
      },
      "source": [
        " for i in range(len(y_kmeans)):\r\n",
        "   print(df['State'].iloc[i:i+1],y_kmeans[i])"
      ],
      "execution_count": null,
      "outputs": [
        {
          "output_type": "stream",
          "text": [
            "1    Maharashtra\n",
            "Name: State, dtype: object 1\n",
            "2    Karnataka\n",
            "Name: State, dtype: object 1\n",
            "3    Andhra Pradesh\n",
            "Name: State, dtype: object 1\n",
            "4    Tamil Nadu\n",
            "Name: State, dtype: object 1\n",
            "5    Kerala\n",
            "Name: State, dtype: object 0\n",
            "6    Delhi\n",
            "Name: State, dtype: object 0\n",
            "7    Uttar Pradesh\n",
            "Name: State, dtype: object 2\n",
            "8    West Bengal\n",
            "Name: State, dtype: object 1\n",
            "9    Odisha\n",
            "Name: State, dtype: object 0\n",
            "10    Rajasthan\n",
            "Name: State, dtype: object 1\n",
            "11    Telangana\n",
            "Name: State, dtype: object 0\n",
            "12    Chhattisgarh\n",
            "Name: State, dtype: object 0\n",
            "13    Haryana\n",
            "Name: State, dtype: object 1\n",
            "14    Bihar\n",
            "Name: State, dtype: object 1\n",
            "15    Gujarat\n",
            "Name: State, dtype: object 1\n",
            "16    Madhya Pradesh\n",
            "Name: State, dtype: object 0\n",
            "17    Assam\n",
            "Name: State, dtype: object 0\n",
            "18    Punjab\n",
            "Name: State, dtype: object 0\n",
            "19    Jammu and Kashmir\n",
            "Name: State, dtype: object 0\n",
            "20    Jharkhand\n",
            "Name: State, dtype: object 0\n",
            "21    Uttarakhand\n",
            "Name: State, dtype: object 0\n",
            "22    Himachal Pradesh\n",
            "Name: State, dtype: object 0\n",
            "23    Goa\n",
            "Name: State, dtype: object 0\n",
            "24    Puducherry\n",
            "Name: State, dtype: object 0\n",
            "25    Tripura\n",
            "Name: State, dtype: object 0\n",
            "26    Manipur\n",
            "Name: State, dtype: object 0\n",
            "27    Chandigarh\n",
            "Name: State, dtype: object 0\n",
            "28    Arunachal Pradesh\n",
            "Name: State, dtype: object 0\n",
            "29    Meghalaya\n",
            "Name: State, dtype: object 0\n",
            "30    Nagaland\n",
            "Name: State, dtype: object 0\n",
            "31    Ladakh\n",
            "Name: State, dtype: object 0\n",
            "32    Sikkim\n",
            "Name: State, dtype: object 0\n",
            "33    Andaman and Nicobar Islands\n",
            "Name: State, dtype: object 0\n",
            "34    Mizoram\n",
            "Name: State, dtype: object 0\n"
          ],
          "name": "stdout"
        }
      ]
    },
    {
      "cell_type": "code",
      "metadata": {
        "id": "TMbnqlfdhtSZ"
      },
      "source": [
        "import json"
      ],
      "execution_count": null,
      "outputs": []
    },
    {
      "cell_type": "code",
      "metadata": {
        "id": "QWsIzV8ThxEB",
        "colab": {
          "base_uri": "https://localhost:8080/"
        },
        "outputId": "e196e407-5e83-4904-b060-3bab3aa52e1c"
      },
      "source": [
        "with open('./school_index') as f:\r\n",
        "        data = json.load(f)\r\n",
        "\r\n",
        "data        "
      ],
      "execution_count": null,
      "outputs": [
        {
          "output_type": "execute_result",
          "data": {
            "text/plain": [
              "{'index': {'Andaman and Nicobar Islands': 0,\n",
              "  'Andhra Pradesh': 1,\n",
              "  'Arunachal Pradesh': 0,\n",
              "  'Assam': 0,\n",
              "  'Bihar': 1,\n",
              "  'Chandigarh': 0,\n",
              "  'Chhattisgarh': 0,\n",
              "  'Dadra and Nagar Haveli and Daman and Diu': 0,\n",
              "  'Delhi': 0,\n",
              "  'Goa': 0,\n",
              "  'Gujarat': 1,\n",
              "  'Haryana': 0,\n",
              "  'Himachal Pradesh': 0,\n",
              "  'Jammu and Kashmir': 0,\n",
              "  'Jharkhand': 0,\n",
              "  'Karnataka': 1,\n",
              "  'Kerala': 0,\n",
              "  'Lakshadweep': 0,\n",
              "  'Madhya Pradesh': 1,\n",
              "  'Maharashtra': 1,\n",
              "  'Manipur': 0,\n",
              "  'Meghalaya': 0,\n",
              "  'Mizoram': 0,\n",
              "  'Nagaland': 0,\n",
              "  'Odisha': 0,\n",
              "  'Puducherry': 0,\n",
              "  'Punjab': 0,\n",
              "  'Rajasthan': 1,\n",
              "  'Sikkim': 0,\n",
              "  'Tamil Nadu': 1,\n",
              "  'Tripura': 0,\n",
              "  'Uttar Pradesh': 2,\n",
              "  'Uttarakhand': 0,\n",
              "  'West Bengal': 1}}"
            ]
          },
          "metadata": {
            "tags": []
          },
          "execution_count": 146
        }
      ]
    },
    {
      "cell_type": "code",
      "metadata": {
        "id": "WUJLX4hWh3iR"
      },
      "source": [
        ""
      ],
      "execution_count": null,
      "outputs": []
    }
  ]
}