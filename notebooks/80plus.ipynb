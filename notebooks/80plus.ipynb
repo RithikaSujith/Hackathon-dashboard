{
  "nbformat": 4,
  "nbformat_minor": 0,
  "metadata": {
    "colab": {
      "name": "80plus.ipynb",
      "provenance": []
    },
    "kernelspec": {
      "name": "python3",
      "display_name": "Python 3"
    }
  },
  "cells": [
    {
      "cell_type": "code",
      "metadata": {
        "id": "zDG8xYWs3ajC"
      },
      "source": [
        "import pandas as pd\r\n",
        "import numpy as np\r\n",
        "\r\n",
        "import seaborn as sns\r\n",
        "import matplotlib.pyplot as plt\r\n",
        "%matplotlib inline\r\n",
        "sns.set(rc={'figure.figsize':(15.7,8.27)})"
      ],
      "execution_count": null,
      "outputs": []
    },
    {
      "cell_type": "code",
      "metadata": {
        "id": "xvreOQCK31_c"
      },
      "source": [
        "df=pd.read_excel('state_wise_updated (1).xlsx')"
      ],
      "execution_count": null,
      "outputs": []
    },
    {
      "cell_type": "code",
      "metadata": {
        "colab": {
          "base_uri": "https://localhost:8080/",
          "height": 249
        },
        "id": "URwXgznj3_Cb",
        "outputId": "2fd906e3-977b-4bdc-b72a-29d70f60a93f"
      },
      "source": [
        "df.head()"
      ],
      "execution_count": null,
      "outputs": [
        {
          "output_type": "execute_result",
          "data": {
            "text/html": [
              "<div>\n",
              "<style scoped>\n",
              "    .dataframe tbody tr th:only-of-type {\n",
              "        vertical-align: middle;\n",
              "    }\n",
              "\n",
              "    .dataframe tbody tr th {\n",
              "        vertical-align: top;\n",
              "    }\n",
              "\n",
              "    .dataframe thead th {\n",
              "        text-align: right;\n",
              "    }\n",
              "</style>\n",
              "<table border=\"1\" class=\"dataframe\">\n",
              "  <thead>\n",
              "    <tr style=\"text-align: right;\">\n",
              "      <th></th>\n",
              "      <th>State</th>\n",
              "      <th>Unnamed: 1</th>\n",
              "      <th>Confirmed</th>\n",
              "      <th>Recovered</th>\n",
              "      <th>Deaths</th>\n",
              "      <th>Active</th>\n",
              "      <th>Last_Updated_Time</th>\n",
              "      <th>Migrated_Other</th>\n",
              "      <th>State_code</th>\n",
              "      <th>Delta_Confirmed</th>\n",
              "      <th>Delta_Recovered</th>\n",
              "      <th>Delta_Deaths</th>\n",
              "      <th>State_Notes</th>\n",
              "      <th>Population</th>\n",
              "      <th>Density</th>\n",
              "      <th>0-4</th>\n",
              "      <th>2020-05-09 00:00:00</th>\n",
              "      <th>2020-10-14 00:00:00</th>\n",
              "      <th>15-19</th>\n",
              "      <th>20-24</th>\n",
              "      <th>25-29</th>\n",
              "      <th>30-34</th>\n",
              "      <th>35-39</th>\n",
              "      <th>40-44</th>\n",
              "      <th>45-49</th>\n",
              "      <th>50-54</th>\n",
              "      <th>55-59</th>\n",
              "      <th>60-64</th>\n",
              "      <th>65-69</th>\n",
              "      <th>70-74</th>\n",
              "      <th>75-79</th>\n",
              "      <th>80+</th>\n",
              "      <th>Health Workers(%)</th>\n",
              "      <th>Police Force</th>\n",
              "      <th>Vaccination Centres</th>\n",
              "    </tr>\n",
              "  </thead>\n",
              "  <tbody>\n",
              "    <tr>\n",
              "      <th>0</th>\n",
              "      <td>Total</td>\n",
              "      <td>NaN</td>\n",
              "      <td>10169804</td>\n",
              "      <td>9739332</td>\n",
              "      <td>147379</td>\n",
              "      <td>280310</td>\n",
              "      <td>25-12-2020 23:29</td>\n",
              "      <td>2783</td>\n",
              "      <td>TT</td>\n",
              "      <td>22336</td>\n",
              "      <td>22134</td>\n",
              "      <td>251</td>\n",
              "      <td>NaN</td>\n",
              "      <td>1.397322e+09</td>\n",
              "      <td>382.0</td>\n",
              "      <td>112806778.0</td>\n",
              "      <td>126928126.0</td>\n",
              "      <td>132709212.0</td>\n",
              "      <td>120526449.0</td>\n",
              "      <td>111424222.0</td>\n",
              "      <td>101413965.0</td>\n",
              "      <td>88594951.0</td>\n",
              "      <td>85140684.0</td>\n",
              "      <td>72438112.0</td>\n",
              "      <td>62318327.0</td>\n",
              "      <td>49069254.0</td>\n",
              "      <td>39146055.0</td>\n",
              "      <td>37663707.0</td>\n",
              "      <td>26454983.0</td>\n",
              "      <td>19208842.0</td>\n",
              "      <td>9232503.0</td>\n",
              "      <td>11289005.0</td>\n",
              "      <td>NaN</td>\n",
              "      <td>2067270.0</td>\n",
              "      <td>37725.0</td>\n",
              "    </tr>\n",
              "    <tr>\n",
              "      <th>1</th>\n",
              "      <td>Maharashtra</td>\n",
              "      <td>NaN</td>\n",
              "      <td>1913382</td>\n",
              "      <td>1806298</td>\n",
              "      <td>49129</td>\n",
              "      <td>56823</td>\n",
              "      <td>25-12-2020 22:43</td>\n",
              "      <td>1132</td>\n",
              "      <td>MH</td>\n",
              "      <td>3431</td>\n",
              "      <td>1427</td>\n",
              "      <td>71</td>\n",
              "      <td>NaN</td>\n",
              "      <td>1.208373e+08</td>\n",
              "      <td>365.0</td>\n",
              "      <td>9362026.0</td>\n",
              "      <td>9820654.0</td>\n",
              "      <td>10734535.0</td>\n",
              "      <td>10627267.0</td>\n",
              "      <td>11090966.0</td>\n",
              "      <td>10147113.0</td>\n",
              "      <td>8796307.0</td>\n",
              "      <td>8247160.0</td>\n",
              "      <td>7196089.0</td>\n",
              "      <td>6032454.0</td>\n",
              "      <td>4919317.0</td>\n",
              "      <td>3885814.0</td>\n",
              "      <td>3642480.0</td>\n",
              "      <td>3078352.0</td>\n",
              "      <td>2143136.0</td>\n",
              "      <td>1062773.0</td>\n",
              "      <td>1180194.0</td>\n",
              "      <td>13.67</td>\n",
              "      <td>213382.0</td>\n",
              "      <td>3239.0</td>\n",
              "    </tr>\n",
              "    <tr>\n",
              "      <th>2</th>\n",
              "      <td>Karnataka</td>\n",
              "      <td>NaN</td>\n",
              "      <td>914488</td>\n",
              "      <td>888917</td>\n",
              "      <td>12044</td>\n",
              "      <td>13508</td>\n",
              "      <td>25-12-2020 20:23</td>\n",
              "      <td>19</td>\n",
              "      <td>KA</td>\n",
              "      <td>1005</td>\n",
              "      <td>1102</td>\n",
              "      <td>5</td>\n",
              "      <td>NaN</td>\n",
              "      <td>6.616589e+07</td>\n",
              "      <td>319.0</td>\n",
              "      <td>5046719.0</td>\n",
              "      <td>5241509.0</td>\n",
              "      <td>5736646.0</td>\n",
              "      <td>5827277.0</td>\n",
              "      <td>6052558.0</td>\n",
              "      <td>5771606.0</td>\n",
              "      <td>4698380.0</td>\n",
              "      <td>4695451.0</td>\n",
              "      <td>3826712.0</td>\n",
              "      <td>3519782.0</td>\n",
              "      <td>2699270.0</td>\n",
              "      <td>2142504.0</td>\n",
              "      <td>2060052.0</td>\n",
              "      <td>1520119.0</td>\n",
              "      <td>1061125.0</td>\n",
              "      <td>524426.0</td>\n",
              "      <td>625310.0</td>\n",
              "      <td>5.27</td>\n",
              "      <td>89009.0</td>\n",
              "      <td>2943.0</td>\n",
              "    </tr>\n",
              "    <tr>\n",
              "      <th>3</th>\n",
              "      <td>Andhra Pradesh</td>\n",
              "      <td>NaN</td>\n",
              "      <td>880430</td>\n",
              "      <td>869478</td>\n",
              "      <td>7091</td>\n",
              "      <td>3861</td>\n",
              "      <td>25-12-2020 19:09</td>\n",
              "      <td>0</td>\n",
              "      <td>AP</td>\n",
              "      <td>355</td>\n",
              "      <td>354</td>\n",
              "      <td>2</td>\n",
              "      <td>NaN</td>\n",
              "      <td>5.288316e+07</td>\n",
              "      <td>308.0</td>\n",
              "      <td>6284765.0</td>\n",
              "      <td>7304432.0</td>\n",
              "      <td>8201595.0</td>\n",
              "      <td>8093747.0</td>\n",
              "      <td>8132094.0</td>\n",
              "      <td>7799036.0</td>\n",
              "      <td>6584371.0</td>\n",
              "      <td>6507339.0</td>\n",
              "      <td>5399473.0</td>\n",
              "      <td>4657269.0</td>\n",
              "      <td>3657386.0</td>\n",
              "      <td>2909598.0</td>\n",
              "      <td>3199837.0</td>\n",
              "      <td>2167854.0</td>\n",
              "      <td>1519358.0</td>\n",
              "      <td>636989.0</td>\n",
              "      <td>754203.0</td>\n",
              "      <td>7.83</td>\n",
              "      <td>61168.0</td>\n",
              "      <td>1666.0</td>\n",
              "    </tr>\n",
              "    <tr>\n",
              "      <th>4</th>\n",
              "      <td>Tamil Nadu</td>\n",
              "      <td>NaN</td>\n",
              "      <td>812142</td>\n",
              "      <td>790965</td>\n",
              "      <td>12048</td>\n",
              "      <td>9129</td>\n",
              "      <td>25-12-2020 19:30</td>\n",
              "      <td>0</td>\n",
              "      <td>TN</td>\n",
              "      <td>1027</td>\n",
              "      <td>1103</td>\n",
              "      <td>12</td>\n",
              "      <td>NaN</td>\n",
              "      <td>7.648154e+07</td>\n",
              "      <td>555.0</td>\n",
              "      <td>5278701.0</td>\n",
              "      <td>5551255.0</td>\n",
              "      <td>6177547.0</td>\n",
              "      <td>6253792.0</td>\n",
              "      <td>6411543.0</td>\n",
              "      <td>6663746.0</td>\n",
              "      <td>5815560.0</td>\n",
              "      <td>5836456.0</td>\n",
              "      <td>5064209.0</td>\n",
              "      <td>4713056.0</td>\n",
              "      <td>3703460.0</td>\n",
              "      <td>3101142.0</td>\n",
              "      <td>2782608.0</td>\n",
              "      <td>1868370.0</td>\n",
              "      <td>1406529.0</td>\n",
              "      <td>710241.0</td>\n",
              "      <td>742010.0</td>\n",
              "      <td>6.72</td>\n",
              "      <td>110186.0</td>\n",
              "      <td>2581.0</td>\n",
              "    </tr>\n",
              "  </tbody>\n",
              "</table>\n",
              "</div>"
            ],
            "text/plain": [
              "            State  Unnamed: 1  ...  Police Force  Vaccination Centres\n",
              "0           Total         NaN  ...     2067270.0              37725.0\n",
              "1     Maharashtra         NaN  ...      213382.0               3239.0\n",
              "2       Karnataka         NaN  ...       89009.0               2943.0\n",
              "3  Andhra Pradesh         NaN  ...       61168.0               1666.0\n",
              "4      Tamil Nadu         NaN  ...      110186.0               2581.0\n",
              "\n",
              "[5 rows x 35 columns]"
            ]
          },
          "metadata": {
            "tags": []
          },
          "execution_count": 44
        }
      ]
    },
    {
      "cell_type": "code",
      "metadata": {
        "id": "tIhqVEnJ4ESj"
      },
      "source": [
        "df=df.drop([0],axis=0)"
      ],
      "execution_count": null,
      "outputs": []
    },
    {
      "cell_type": "code",
      "metadata": {
        "colab": {
          "base_uri": "https://localhost:8080/",
          "height": 266
        },
        "id": "BD0DTbDd4waD",
        "outputId": "be151b35-3ddd-43ba-9cba-95ddec832bbc"
      },
      "source": [
        "df.head()"
      ],
      "execution_count": null,
      "outputs": [
        {
          "output_type": "execute_result",
          "data": {
            "text/html": [
              "<div>\n",
              "<style scoped>\n",
              "    .dataframe tbody tr th:only-of-type {\n",
              "        vertical-align: middle;\n",
              "    }\n",
              "\n",
              "    .dataframe tbody tr th {\n",
              "        vertical-align: top;\n",
              "    }\n",
              "\n",
              "    .dataframe thead th {\n",
              "        text-align: right;\n",
              "    }\n",
              "</style>\n",
              "<table border=\"1\" class=\"dataframe\">\n",
              "  <thead>\n",
              "    <tr style=\"text-align: right;\">\n",
              "      <th></th>\n",
              "      <th>State</th>\n",
              "      <th>Unnamed: 1</th>\n",
              "      <th>Confirmed</th>\n",
              "      <th>Recovered</th>\n",
              "      <th>Deaths</th>\n",
              "      <th>Active</th>\n",
              "      <th>Last_Updated_Time</th>\n",
              "      <th>Migrated_Other</th>\n",
              "      <th>State_code</th>\n",
              "      <th>Delta_Confirmed</th>\n",
              "      <th>Delta_Recovered</th>\n",
              "      <th>Delta_Deaths</th>\n",
              "      <th>State_Notes</th>\n",
              "      <th>Population</th>\n",
              "      <th>Density</th>\n",
              "      <th>0-4</th>\n",
              "      <th>2020-05-09 00:00:00</th>\n",
              "      <th>2020-10-14 00:00:00</th>\n",
              "      <th>15-19</th>\n",
              "      <th>20-24</th>\n",
              "      <th>25-29</th>\n",
              "      <th>30-34</th>\n",
              "      <th>35-39</th>\n",
              "      <th>40-44</th>\n",
              "      <th>45-49</th>\n",
              "      <th>50-54</th>\n",
              "      <th>55-59</th>\n",
              "      <th>60-64</th>\n",
              "      <th>65-69</th>\n",
              "      <th>70-74</th>\n",
              "      <th>75-79</th>\n",
              "      <th>80+</th>\n",
              "      <th>Health Workers(%)</th>\n",
              "      <th>Police Force</th>\n",
              "      <th>Vaccination Centres</th>\n",
              "    </tr>\n",
              "  </thead>\n",
              "  <tbody>\n",
              "    <tr>\n",
              "      <th>1</th>\n",
              "      <td>Maharashtra</td>\n",
              "      <td>NaN</td>\n",
              "      <td>1913382</td>\n",
              "      <td>1806298</td>\n",
              "      <td>49129</td>\n",
              "      <td>56823</td>\n",
              "      <td>25-12-2020 22:43</td>\n",
              "      <td>1132</td>\n",
              "      <td>MH</td>\n",
              "      <td>3431</td>\n",
              "      <td>1427</td>\n",
              "      <td>71</td>\n",
              "      <td>NaN</td>\n",
              "      <td>120837347.0</td>\n",
              "      <td>365.0</td>\n",
              "      <td>9362026.0</td>\n",
              "      <td>9820654.0</td>\n",
              "      <td>10734535.0</td>\n",
              "      <td>10627267.0</td>\n",
              "      <td>11090966.0</td>\n",
              "      <td>10147113.0</td>\n",
              "      <td>8796307.0</td>\n",
              "      <td>8247160.0</td>\n",
              "      <td>7196089.0</td>\n",
              "      <td>6032454.0</td>\n",
              "      <td>4919317.0</td>\n",
              "      <td>3885814.0</td>\n",
              "      <td>3642480.0</td>\n",
              "      <td>3078352.0</td>\n",
              "      <td>2143136.0</td>\n",
              "      <td>1062773.0</td>\n",
              "      <td>1180194.0</td>\n",
              "      <td>13.67</td>\n",
              "      <td>213382.0</td>\n",
              "      <td>3239.0</td>\n",
              "    </tr>\n",
              "    <tr>\n",
              "      <th>2</th>\n",
              "      <td>Karnataka</td>\n",
              "      <td>NaN</td>\n",
              "      <td>914488</td>\n",
              "      <td>888917</td>\n",
              "      <td>12044</td>\n",
              "      <td>13508</td>\n",
              "      <td>25-12-2020 20:23</td>\n",
              "      <td>19</td>\n",
              "      <td>KA</td>\n",
              "      <td>1005</td>\n",
              "      <td>1102</td>\n",
              "      <td>5</td>\n",
              "      <td>NaN</td>\n",
              "      <td>66165886.0</td>\n",
              "      <td>319.0</td>\n",
              "      <td>5046719.0</td>\n",
              "      <td>5241509.0</td>\n",
              "      <td>5736646.0</td>\n",
              "      <td>5827277.0</td>\n",
              "      <td>6052558.0</td>\n",
              "      <td>5771606.0</td>\n",
              "      <td>4698380.0</td>\n",
              "      <td>4695451.0</td>\n",
              "      <td>3826712.0</td>\n",
              "      <td>3519782.0</td>\n",
              "      <td>2699270.0</td>\n",
              "      <td>2142504.0</td>\n",
              "      <td>2060052.0</td>\n",
              "      <td>1520119.0</td>\n",
              "      <td>1061125.0</td>\n",
              "      <td>524426.0</td>\n",
              "      <td>625310.0</td>\n",
              "      <td>5.27</td>\n",
              "      <td>89009.0</td>\n",
              "      <td>2943.0</td>\n",
              "    </tr>\n",
              "    <tr>\n",
              "      <th>3</th>\n",
              "      <td>Andhra Pradesh</td>\n",
              "      <td>NaN</td>\n",
              "      <td>880430</td>\n",
              "      <td>869478</td>\n",
              "      <td>7091</td>\n",
              "      <td>3861</td>\n",
              "      <td>25-12-2020 19:09</td>\n",
              "      <td>0</td>\n",
              "      <td>AP</td>\n",
              "      <td>355</td>\n",
              "      <td>354</td>\n",
              "      <td>2</td>\n",
              "      <td>NaN</td>\n",
              "      <td>52883163.0</td>\n",
              "      <td>308.0</td>\n",
              "      <td>6284765.0</td>\n",
              "      <td>7304432.0</td>\n",
              "      <td>8201595.0</td>\n",
              "      <td>8093747.0</td>\n",
              "      <td>8132094.0</td>\n",
              "      <td>7799036.0</td>\n",
              "      <td>6584371.0</td>\n",
              "      <td>6507339.0</td>\n",
              "      <td>5399473.0</td>\n",
              "      <td>4657269.0</td>\n",
              "      <td>3657386.0</td>\n",
              "      <td>2909598.0</td>\n",
              "      <td>3199837.0</td>\n",
              "      <td>2167854.0</td>\n",
              "      <td>1519358.0</td>\n",
              "      <td>636989.0</td>\n",
              "      <td>754203.0</td>\n",
              "      <td>7.83</td>\n",
              "      <td>61168.0</td>\n",
              "      <td>1666.0</td>\n",
              "    </tr>\n",
              "    <tr>\n",
              "      <th>4</th>\n",
              "      <td>Tamil Nadu</td>\n",
              "      <td>NaN</td>\n",
              "      <td>812142</td>\n",
              "      <td>790965</td>\n",
              "      <td>12048</td>\n",
              "      <td>9129</td>\n",
              "      <td>25-12-2020 19:30</td>\n",
              "      <td>0</td>\n",
              "      <td>TN</td>\n",
              "      <td>1027</td>\n",
              "      <td>1103</td>\n",
              "      <td>12</td>\n",
              "      <td>NaN</td>\n",
              "      <td>76481545.0</td>\n",
              "      <td>555.0</td>\n",
              "      <td>5278701.0</td>\n",
              "      <td>5551255.0</td>\n",
              "      <td>6177547.0</td>\n",
              "      <td>6253792.0</td>\n",
              "      <td>6411543.0</td>\n",
              "      <td>6663746.0</td>\n",
              "      <td>5815560.0</td>\n",
              "      <td>5836456.0</td>\n",
              "      <td>5064209.0</td>\n",
              "      <td>4713056.0</td>\n",
              "      <td>3703460.0</td>\n",
              "      <td>3101142.0</td>\n",
              "      <td>2782608.0</td>\n",
              "      <td>1868370.0</td>\n",
              "      <td>1406529.0</td>\n",
              "      <td>710241.0</td>\n",
              "      <td>742010.0</td>\n",
              "      <td>6.72</td>\n",
              "      <td>110186.0</td>\n",
              "      <td>2581.0</td>\n",
              "    </tr>\n",
              "    <tr>\n",
              "      <th>5</th>\n",
              "      <td>Kerala</td>\n",
              "      <td>NaN</td>\n",
              "      <td>732085</td>\n",
              "      <td>664951</td>\n",
              "      <td>2931</td>\n",
              "      <td>64032</td>\n",
              "      <td>25-12-2020 21:52</td>\n",
              "      <td>171</td>\n",
              "      <td>KL</td>\n",
              "      <td>5397</td>\n",
              "      <td>4506</td>\n",
              "      <td>16</td>\n",
              "      <td>NaN</td>\n",
              "      <td>35330888.0</td>\n",
              "      <td>860.0</td>\n",
              "      <td>2453092.0</td>\n",
              "      <td>2555112.0</td>\n",
              "      <td>2822770.0</td>\n",
              "      <td>2610552.0</td>\n",
              "      <td>2665809.0</td>\n",
              "      <td>2604092.0</td>\n",
              "      <td>2455501.0</td>\n",
              "      <td>2579673.0</td>\n",
              "      <td>2412498.0</td>\n",
              "      <td>2348530.0</td>\n",
              "      <td>1928145.0</td>\n",
              "      <td>1742408.0</td>\n",
              "      <td>1414671.0</td>\n",
              "      <td>1002134.0</td>\n",
              "      <td>733372.0</td>\n",
              "      <td>501367.0</td>\n",
              "      <td>541849.0</td>\n",
              "      <td>6.06</td>\n",
              "      <td>48860.0</td>\n",
              "      <td>1297.0</td>\n",
              "    </tr>\n",
              "  </tbody>\n",
              "</table>\n",
              "</div>"
            ],
            "text/plain": [
              "            State  Unnamed: 1  ...  Police Force  Vaccination Centres\n",
              "1     Maharashtra         NaN  ...      213382.0               3239.0\n",
              "2       Karnataka         NaN  ...       89009.0               2943.0\n",
              "3  Andhra Pradesh         NaN  ...       61168.0               1666.0\n",
              "4      Tamil Nadu         NaN  ...      110186.0               2581.0\n",
              "5          Kerala         NaN  ...       48860.0               1297.0\n",
              "\n",
              "[5 rows x 35 columns]"
            ]
          },
          "metadata": {
            "tags": []
          },
          "execution_count": 46
        }
      ]
    },
    {
      "cell_type": "code",
      "metadata": {
        "colab": {
          "base_uri": "https://localhost:8080/",
          "height": 545
        },
        "id": "E_K8WqVK5w5Q",
        "outputId": "3a44cb1f-f619-4727-fd3f-d62030843f4e"
      },
      "source": [
        "sns.set(style='darkgrid')\r\n",
        "sns.barplot(x='State',\r\n",
        "                y='80+',\r\n",
        "                data=df.iloc[1:10])"
      ],
      "execution_count": null,
      "outputs": [
        {
          "output_type": "execute_result",
          "data": {
            "text/plain": [
              "<matplotlib.axes._subplots.AxesSubplot at 0x7f2a58f04470>"
            ]
          },
          "metadata": {
            "tags": []
          },
          "execution_count": 47
        },
        {
          "output_type": "display_data",
          "data": {
            "image/png": "[encoded data removed]",
            "text/plain": [
              "<Figure size 1130.4x595.44 with 1 Axes>"
            ]
          },
          "metadata": {
            "tags": []
          }
        }
      ]
    },
    {
      "cell_type": "code",
      "metadata": {
        "colab": {
          "base_uri": "https://localhost:8080/",
          "height": 534
        },
        "id": "PBYr9HWa53hP",
        "outputId": "a086ee01-b1f6-4c20-a017-0340290a33f6"
      },
      "source": [
        "sns.set(style='darkgrid')\r\n",
        "sns.barplot(x='State',\r\n",
        "                y='Confirmed',\r\n",
        "                data=df.iloc[1:10])"
      ],
      "execution_count": null,
      "outputs": [
        {
          "output_type": "execute_result",
          "data": {
            "text/plain": [
              "<matplotlib.axes._subplots.AxesSubplot at 0x7f2a58e7b860>"
            ]
          },
          "metadata": {
            "tags": []
          },
          "execution_count": 48
        },
        {
          "output_type": "display_data",
          "data": {
            "image/png": "[encoded data removed]",
            "text/plain": [
              "<Figure size 1130.4x595.44 with 1 Axes>"
            ]
          },
          "metadata": {
            "tags": []
          }
        }
      ]
    },
    {
      "cell_type": "code",
      "metadata": {
        "id": "so1KfzEk79qY"
      },
      "source": [
        "from sklearn.cluster import KMeans\r\n",
        "wcss=[]"
      ],
      "execution_count": null,
      "outputs": []
    },
    {
      "cell_type": "code",
      "metadata": {
        "id": "gn0NOupL8AVP"
      },
      "source": [
        "X1=df[['Active','80+','State']].dropna()"
      ],
      "execution_count": null,
      "outputs": []
    },
    {
      "cell_type": "code",
      "metadata": {
        "id": "9k9dzXQy8FDn"
      },
      "source": [
        "X=X1[['Active','80+']]"
      ],
      "execution_count": null,
      "outputs": []
    },
    {
      "cell_type": "code",
      "metadata": {
        "colab": {
          "base_uri": "https://localhost:8080/"
        },
        "id": "WbfFHld_8J64",
        "outputId": "024c9af3-a46a-4243-a88b-f03ca090833e"
      },
      "source": [
        "type(X)"
      ],
      "execution_count": null,
      "outputs": [
        {
          "output_type": "execute_result",
          "data": {
            "text/plain": [
              "pandas.core.frame.DataFrame"
            ]
          },
          "metadata": {
            "tags": []
          },
          "execution_count": 52
        }
      ]
    },
    {
      "cell_type": "code",
      "metadata": {
        "id": "_JfhNZdO8Mn3"
      },
      "source": [
        "X=X.values"
      ],
      "execution_count": null,
      "outputs": []
    },
    {
      "cell_type": "code",
      "metadata": {
        "colab": {
          "base_uri": "https://localhost:8080/"
        },
        "id": "qdpkXkmm8SJ4",
        "outputId": "47047645-5489-44bf-9305-2257b6d6f3a8"
      },
      "source": [
        "X"
      ],
      "execution_count": null,
      "outputs": [
        {
          "output_type": "execute_result",
          "data": {
            "text/plain": [
              "array([[5.682300e+04, 1.180194e+06],\n",
              "       [1.350800e+04, 6.253100e+05],\n",
              "       [3.861000e+03, 7.542030e+05],\n",
              "       [9.129000e+03, 7.420100e+05],\n",
              "       [6.403200e+04, 5.418490e+05],\n",
              "       [7.267000e+03, 1.130310e+05],\n",
              "       [1.615900e+04, 1.812484e+06],\n",
              "       [1.474900e+04, 8.835610e+05],\n",
              "       [2.583000e+03, 3.979920e+05],\n",
              "       [1.170000e+04, 5.870530e+05],\n",
              "       [1.475900e+04, 1.867790e+05],\n",
              "       [4.750000e+03, 2.745890e+05],\n",
              "       [5.347000e+03, 6.793480e+05],\n",
              "       [1.053100e+04, 5.490620e+05],\n",
              "       [1.046100e+04, 6.680690e+05],\n",
              "       [3.422000e+03, 2.295750e+05],\n",
              "       [4.707000e+03, 3.795010e+05],\n",
              "       [3.414000e+03, 1.268700e+05],\n",
              "       [1.587000e+03, 1.887370e+05],\n",
              "       [5.510000e+03, 1.049050e+05],\n",
              "       [4.347000e+03, 1.067370e+05],\n",
              "       [9.800000e+02, 1.578100e+04],\n",
              "       [3.490000e+02, 1.331500e+04],\n",
              "       [1.840000e+02, 3.952500e+04],\n",
              "       [1.352000e+03, 2.579400e+04],\n",
              "       [3.450000e+02, 7.631000e+03],\n",
              "       [1.680000e+02, 7.439000e+03],\n",
              "       [2.940000e+02, 1.587700e+04],\n",
              "       [2.740000e+02, 1.380600e+04],\n",
              "       [4.180000e+02, 4.642000e+03],\n",
              "       [6.900000e+01, 2.473000e+03],\n",
              "       [1.340000e+02, 8.174000e+03],\n",
              "       [1.200000e+01, 2.208000e+03],\n",
              "       [0.000000e+00, 4.810000e+02]])"
            ]
          },
          "metadata": {
            "tags": []
          },
          "execution_count": 54
        }
      ]
    },
    {
      "cell_type": "code",
      "metadata": {
        "colab": {
          "base_uri": "https://localhost:8080/"
        },
        "id": "NnQuRLzK8XZ_",
        "outputId": "9327a37d-587a-4d60-c858-4fd9ba6eb9dd"
      },
      "source": [
        "len(X)"
      ],
      "execution_count": null,
      "outputs": [
        {
          "output_type": "execute_result",
          "data": {
            "text/plain": [
              "34"
            ]
          },
          "metadata": {
            "tags": []
          },
          "execution_count": 55
        }
      ]
    },
    {
      "cell_type": "code",
      "metadata": {
        "id": "aUemMUGq8Yng"
      },
      "source": [
        "for i in range(1,11): \r\n",
        "     kmeans = KMeans(n_clusters=i, init ='k-means++', max_iter=300,  n_init=10,random_state=0 )\r\n",
        "     kmeans.fit(X)\r\n",
        "     wcss.append(kmeans.inertia_)"
      ],
      "execution_count": null,
      "outputs": []
    },
    {
      "cell_type": "code",
      "metadata": {
        "colab": {
          "base_uri": "https://localhost:8080/",
          "height": 533
        },
        "id": "ppDlTX4Z8dtY",
        "outputId": "5d75992b-0daf-4d92-937f-19527234c5f7"
      },
      "source": [
        "plt.plot(range(1,11),wcss)\r\n",
        "plt.title('The Elbow Method Graph')\r\n",
        "plt.xlabel('Number of clusters')\r\n",
        "plt.ylabel('WCSS')\r\n",
        "plt.show()"
      ],
      "execution_count": null,
      "outputs": [
        {
          "output_type": "display_data",
          "data": {
            "image/png": "[encoded data removed]",
            "text/plain": [
              "<Figure size 1130.4x595.44 with 1 Axes>"
            ]
          },
          "metadata": {
            "tags": []
          }
        }
      ]
    },
    {
      "cell_type": "code",
      "metadata": {
        "id": "xLwAjdoJ8faa"
      },
      "source": [
        "kmeans = KMeans(n_clusters=3, init ='k-means++', max_iter=300, n_init=10,random_state=0 )"
      ],
      "execution_count": null,
      "outputs": []
    },
    {
      "cell_type": "code",
      "metadata": {
        "id": "GdvcpxIE8kcI"
      },
      "source": [
        "y_kmeans = kmeans.fit_predict(X)"
      ],
      "execution_count": null,
      "outputs": []
    },
    {
      "cell_type": "code",
      "metadata": {
        "colab": {
          "base_uri": "https://localhost:8080/"
        },
        "id": "Y9RLUBCF8lwR",
        "outputId": "5393b9dc-e984-4769-fbeb-c2c332804ffd"
      },
      "source": [
        "type(y_kmeans)"
      ],
      "execution_count": null,
      "outputs": [
        {
          "output_type": "execute_result",
          "data": {
            "text/plain": [
              "numpy.ndarray"
            ]
          },
          "metadata": {
            "tags": []
          },
          "execution_count": 60
        }
      ]
    },
    {
      "cell_type": "code",
      "metadata": {
        "colab": {
          "base_uri": "https://localhost:8080/"
        },
        "id": "tmQA480_8oi_",
        "outputId": "6579e44d-cb12-44b6-cdd0-e2aa9a53451c"
      },
      "source": [
        "y_kmeans"
      ],
      "execution_count": null,
      "outputs": [
        {
          "output_type": "execute_result",
          "data": {
            "text/plain": [
              "array([2, 0, 0, 0, 0, 1, 2, 0, 0, 0, 1, 1, 0, 0, 0, 1, 0, 1, 1, 1, 1, 1,\n",
              "       1, 1, 1, 1, 1, 1, 1, 1, 1, 1, 1, 1], dtype=int32)"
            ]
          },
          "metadata": {
            "tags": []
          },
          "execution_count": 61
        }
      ]
    },
    {
      "cell_type": "code",
      "metadata": {
        "colab": {
          "base_uri": "https://localhost:8080/",
          "height": 533
        },
        "id": "G1-I0ap-8rc4",
        "outputId": "0b498bd5-4017-4576-d79d-9881b2882359"
      },
      "source": [
        "plt.scatter(X[y_kmeans==0, 0], X[y_kmeans==0, 1], s=100, c='red', label ='Cluster 1')\r\n",
        "plt.scatter(X[y_kmeans==1, 0], X[y_kmeans==1, 1], s=100, c='blue', label ='Cluster 2')\r\n",
        "plt.scatter(X[y_kmeans==2, 0], X[y_kmeans==2, 1], s=100, c='green', label ='Cluster 3')\r\n",
        "plt.scatter(kmeans.cluster_centers_[:, 0], kmeans.cluster_centers_[:, 1], s=300, c='yellow', label = 'Centroids')\r\n",
        "plt.title('Clusters of Customers')\r\n",
        "plt.xlabel('Annual Income(k$)')\r\n",
        "plt.ylabel('Spending Score(1-100')\r\n",
        "plt.show()"
      ],
      "execution_count": null,
      "outputs": [
        {
          "output_type": "display_data",
          "data": {
            "image/png": "[encoded data removed]",
            "text/plain": [
              "<Figure size 1130.4x595.44 with 1 Axes>"
            ]
          },
          "metadata": {
            "tags": []
          }
        }
      ]
    },
    {
      "cell_type": "code",
      "metadata": {
        "colab": {
          "base_uri": "https://localhost:8080/"
        },
        "id": "x7XDqKt48wKA",
        "outputId": "7c327197-7173-4fa3-d885-3d46126709f0"
      },
      "source": [
        " for i in range(len(y_kmeans)):\r\n",
        "   print(df['State'].iloc[i:i+1],y_kmeans[i])"
      ],
      "execution_count": null,
      "outputs": [
        {
          "output_type": "stream",
          "text": [
            "1    Maharashtra\n",
            "Name: State, dtype: object 2\n",
            "2    Karnataka\n",
            "Name: State, dtype: object 0\n",
            "3    Andhra Pradesh\n",
            "Name: State, dtype: object 0\n",
            "4    Tamil Nadu\n",
            "Name: State, dtype: object 0\n",
            "5    Kerala\n",
            "Name: State, dtype: object 0\n",
            "6    Delhi\n",
            "Name: State, dtype: object 1\n",
            "7    Uttar Pradesh\n",
            "Name: State, dtype: object 2\n",
            "8    West Bengal\n",
            "Name: State, dtype: object 0\n",
            "9    Odisha\n",
            "Name: State, dtype: object 0\n",
            "10    Rajasthan\n",
            "Name: State, dtype: object 0\n",
            "11    Telangana\n",
            "Name: State, dtype: object 1\n",
            "12    Chhattisgarh\n",
            "Name: State, dtype: object 1\n",
            "13    Haryana\n",
            "Name: State, dtype: object 0\n",
            "14    Bihar\n",
            "Name: State, dtype: object 0\n",
            "15    Gujarat\n",
            "Name: State, dtype: object 0\n",
            "16    Madhya Pradesh\n",
            "Name: State, dtype: object 1\n",
            "17    Assam\n",
            "Name: State, dtype: object 0\n",
            "18    Punjab\n",
            "Name: State, dtype: object 1\n",
            "19    Jammu and Kashmir\n",
            "Name: State, dtype: object 1\n",
            "20    Jharkhand\n",
            "Name: State, dtype: object 1\n",
            "21    Uttarakhand\n",
            "Name: State, dtype: object 1\n",
            "22    Himachal Pradesh\n",
            "Name: State, dtype: object 1\n",
            "23    Goa\n",
            "Name: State, dtype: object 1\n",
            "24    Puducherry\n",
            "Name: State, dtype: object 1\n",
            "25    Tripura\n",
            "Name: State, dtype: object 1\n",
            "26    Manipur\n",
            "Name: State, dtype: object 1\n",
            "27    Chandigarh\n",
            "Name: State, dtype: object 1\n",
            "28    Arunachal Pradesh\n",
            "Name: State, dtype: object 1\n",
            "29    Meghalaya\n",
            "Name: State, dtype: object 1\n",
            "30    Nagaland\n",
            "Name: State, dtype: object 1\n",
            "31    Ladakh\n",
            "Name: State, dtype: object 1\n",
            "32    Sikkim\n",
            "Name: State, dtype: object 1\n",
            "33    Andaman and Nicobar Islands\n",
            "Name: State, dtype: object 1\n",
            "34    Mizoram\n",
            "Name: State, dtype: object 1\n"
          ],
          "name": "stdout"
        }
      ]
    },
    {
      "cell_type": "code",
      "metadata": {
        "id": "lv0q11IK8znp"
      },
      "source": [
        "X1.reset_index(inplace=True)"
      ],
      "execution_count": null,
      "outputs": []
    },
    {
      "cell_type": "code",
      "metadata": {
        "colab": {
          "base_uri": "https://localhost:8080/",
          "height": 1000
        },
        "id": "aPwaLuuY83kc",
        "outputId": "b0f557da-05dc-4aee-e89e-c6a9ad980416"
      },
      "source": [
        "X1"
      ],
      "execution_count": null,
      "outputs": [
        {
          "output_type": "execute_result",
          "data": {
            "text/html": [
              "<div>\n",
              "<style scoped>\n",
              "    .dataframe tbody tr th:only-of-type {\n",
              "        vertical-align: middle;\n",
              "    }\n",
              "\n",
              "    .dataframe tbody tr th {\n",
              "        vertical-align: top;\n",
              "    }\n",
              "\n",
              "    .dataframe thead th {\n",
              "        text-align: right;\n",
              "    }\n",
              "</style>\n",
              "<table border=\"1\" class=\"dataframe\">\n",
              "  <thead>\n",
              "    <tr style=\"text-align: right;\">\n",
              "      <th></th>\n",
              "      <th>index</th>\n",
              "      <th>Active</th>\n",
              "      <th>80+</th>\n",
              "      <th>State</th>\n",
              "    </tr>\n",
              "  </thead>\n",
              "  <tbody>\n",
              "    <tr>\n",
              "      <th>0</th>\n",
              "      <td>1</td>\n",
              "      <td>56823</td>\n",
              "      <td>1180194.0</td>\n",
              "      <td>Maharashtra</td>\n",
              "    </tr>\n",
              "    <tr>\n",
              "      <th>1</th>\n",
              "      <td>2</td>\n",
              "      <td>13508</td>\n",
              "      <td>625310.0</td>\n",
              "      <td>Karnataka</td>\n",
              "    </tr>\n",
              "    <tr>\n",
              "      <th>2</th>\n",
              "      <td>3</td>\n",
              "      <td>3861</td>\n",
              "      <td>754203.0</td>\n",
              "      <td>Andhra Pradesh</td>\n",
              "    </tr>\n",
              "    <tr>\n",
              "      <th>3</th>\n",
              "      <td>4</td>\n",
              "      <td>9129</td>\n",
              "      <td>742010.0</td>\n",
              "      <td>Tamil Nadu</td>\n",
              "    </tr>\n",
              "    <tr>\n",
              "      <th>4</th>\n",
              "      <td>5</td>\n",
              "      <td>64032</td>\n",
              "      <td>541849.0</td>\n",
              "      <td>Kerala</td>\n",
              "    </tr>\n",
              "    <tr>\n",
              "      <th>5</th>\n",
              "      <td>6</td>\n",
              "      <td>7267</td>\n",
              "      <td>113031.0</td>\n",
              "      <td>Delhi</td>\n",
              "    </tr>\n",
              "    <tr>\n",
              "      <th>6</th>\n",
              "      <td>7</td>\n",
              "      <td>16159</td>\n",
              "      <td>1812484.0</td>\n",
              "      <td>Uttar Pradesh</td>\n",
              "    </tr>\n",
              "    <tr>\n",
              "      <th>7</th>\n",
              "      <td>8</td>\n",
              "      <td>14749</td>\n",
              "      <td>883561.0</td>\n",
              "      <td>West Bengal</td>\n",
              "    </tr>\n",
              "    <tr>\n",
              "      <th>8</th>\n",
              "      <td>9</td>\n",
              "      <td>2583</td>\n",
              "      <td>397992.0</td>\n",
              "      <td>Odisha</td>\n",
              "    </tr>\n",
              "    <tr>\n",
              "      <th>9</th>\n",
              "      <td>10</td>\n",
              "      <td>11700</td>\n",
              "      <td>587053.0</td>\n",
              "      <td>Rajasthan</td>\n",
              "    </tr>\n",
              "    <tr>\n",
              "      <th>10</th>\n",
              "      <td>12</td>\n",
              "      <td>14759</td>\n",
              "      <td>186779.0</td>\n",
              "      <td>Chhattisgarh</td>\n",
              "    </tr>\n",
              "    <tr>\n",
              "      <th>11</th>\n",
              "      <td>13</td>\n",
              "      <td>4750</td>\n",
              "      <td>274589.0</td>\n",
              "      <td>Haryana</td>\n",
              "    </tr>\n",
              "    <tr>\n",
              "      <th>12</th>\n",
              "      <td>14</td>\n",
              "      <td>5347</td>\n",
              "      <td>679348.0</td>\n",
              "      <td>Bihar</td>\n",
              "    </tr>\n",
              "    <tr>\n",
              "      <th>13</th>\n",
              "      <td>15</td>\n",
              "      <td>10531</td>\n",
              "      <td>549062.0</td>\n",
              "      <td>Gujarat</td>\n",
              "    </tr>\n",
              "    <tr>\n",
              "      <th>14</th>\n",
              "      <td>16</td>\n",
              "      <td>10461</td>\n",
              "      <td>668069.0</td>\n",
              "      <td>Madhya Pradesh</td>\n",
              "    </tr>\n",
              "    <tr>\n",
              "      <th>15</th>\n",
              "      <td>17</td>\n",
              "      <td>3422</td>\n",
              "      <td>229575.0</td>\n",
              "      <td>Assam</td>\n",
              "    </tr>\n",
              "    <tr>\n",
              "      <th>16</th>\n",
              "      <td>18</td>\n",
              "      <td>4707</td>\n",
              "      <td>379501.0</td>\n",
              "      <td>Punjab</td>\n",
              "    </tr>\n",
              "    <tr>\n",
              "      <th>17</th>\n",
              "      <td>19</td>\n",
              "      <td>3414</td>\n",
              "      <td>126870.0</td>\n",
              "      <td>Jammu and Kashmir</td>\n",
              "    </tr>\n",
              "    <tr>\n",
              "      <th>18</th>\n",
              "      <td>20</td>\n",
              "      <td>1587</td>\n",
              "      <td>188737.0</td>\n",
              "      <td>Jharkhand</td>\n",
              "    </tr>\n",
              "    <tr>\n",
              "      <th>19</th>\n",
              "      <td>21</td>\n",
              "      <td>5510</td>\n",
              "      <td>104905.0</td>\n",
              "      <td>Uttarakhand</td>\n",
              "    </tr>\n",
              "    <tr>\n",
              "      <th>20</th>\n",
              "      <td>22</td>\n",
              "      <td>4347</td>\n",
              "      <td>106737.0</td>\n",
              "      <td>Himachal Pradesh</td>\n",
              "    </tr>\n",
              "    <tr>\n",
              "      <th>21</th>\n",
              "      <td>23</td>\n",
              "      <td>980</td>\n",
              "      <td>15781.0</td>\n",
              "      <td>Goa</td>\n",
              "    </tr>\n",
              "    <tr>\n",
              "      <th>22</th>\n",
              "      <td>24</td>\n",
              "      <td>349</td>\n",
              "      <td>13315.0</td>\n",
              "      <td>Puducherry</td>\n",
              "    </tr>\n",
              "    <tr>\n",
              "      <th>23</th>\n",
              "      <td>25</td>\n",
              "      <td>184</td>\n",
              "      <td>39525.0</td>\n",
              "      <td>Tripura</td>\n",
              "    </tr>\n",
              "    <tr>\n",
              "      <th>24</th>\n",
              "      <td>26</td>\n",
              "      <td>1352</td>\n",
              "      <td>25794.0</td>\n",
              "      <td>Manipur</td>\n",
              "    </tr>\n",
              "    <tr>\n",
              "      <th>25</th>\n",
              "      <td>27</td>\n",
              "      <td>345</td>\n",
              "      <td>7631.0</td>\n",
              "      <td>Chandigarh</td>\n",
              "    </tr>\n",
              "    <tr>\n",
              "      <th>26</th>\n",
              "      <td>28</td>\n",
              "      <td>168</td>\n",
              "      <td>7439.0</td>\n",
              "      <td>Arunachal Pradesh</td>\n",
              "    </tr>\n",
              "    <tr>\n",
              "      <th>27</th>\n",
              "      <td>29</td>\n",
              "      <td>294</td>\n",
              "      <td>15877.0</td>\n",
              "      <td>Meghalaya</td>\n",
              "    </tr>\n",
              "    <tr>\n",
              "      <th>28</th>\n",
              "      <td>30</td>\n",
              "      <td>274</td>\n",
              "      <td>13806.0</td>\n",
              "      <td>Nagaland</td>\n",
              "    </tr>\n",
              "    <tr>\n",
              "      <th>29</th>\n",
              "      <td>32</td>\n",
              "      <td>418</td>\n",
              "      <td>4642.0</td>\n",
              "      <td>Sikkim</td>\n",
              "    </tr>\n",
              "    <tr>\n",
              "      <th>30</th>\n",
              "      <td>33</td>\n",
              "      <td>69</td>\n",
              "      <td>2473.0</td>\n",
              "      <td>Andaman and Nicobar Islands</td>\n",
              "    </tr>\n",
              "    <tr>\n",
              "      <th>31</th>\n",
              "      <td>34</td>\n",
              "      <td>134</td>\n",
              "      <td>8174.0</td>\n",
              "      <td>Mizoram</td>\n",
              "    </tr>\n",
              "    <tr>\n",
              "      <th>32</th>\n",
              "      <td>35</td>\n",
              "      <td>12</td>\n",
              "      <td>2208.0</td>\n",
              "      <td>Dadra and Nagar Haveli and Daman and Diu</td>\n",
              "    </tr>\n",
              "    <tr>\n",
              "      <th>33</th>\n",
              "      <td>37</td>\n",
              "      <td>0</td>\n",
              "      <td>481.0</td>\n",
              "      <td>Lakshadweep</td>\n",
              "    </tr>\n",
              "  </tbody>\n",
              "</table>\n",
              "</div>"
            ],
            "text/plain": [
              "    index  Active        80+                                     State\n",
              "0       1   56823  1180194.0                               Maharashtra\n",
              "1       2   13508   625310.0                                 Karnataka\n",
              "2       3    3861   754203.0                            Andhra Pradesh\n",
              "3       4    9129   742010.0                                Tamil Nadu\n",
              "4       5   64032   541849.0                                    Kerala\n",
              "5       6    7267   113031.0                                     Delhi\n",
              "6       7   16159  1812484.0                             Uttar Pradesh\n",
              "7       8   14749   883561.0                               West Bengal\n",
              "8       9    2583   397992.0                                    Odisha\n",
              "9      10   11700   587053.0                                 Rajasthan\n",
              "10     12   14759   186779.0                              Chhattisgarh\n",
              "11     13    4750   274589.0                                   Haryana\n",
              "12     14    5347   679348.0                                     Bihar\n",
              "13     15   10531   549062.0                                   Gujarat\n",
              "14     16   10461   668069.0                            Madhya Pradesh\n",
              "15     17    3422   229575.0                                     Assam\n",
              "16     18    4707   379501.0                                    Punjab\n",
              "17     19    3414   126870.0                         Jammu and Kashmir\n",
              "18     20    1587   188737.0                                 Jharkhand\n",
              "19     21    5510   104905.0                               Uttarakhand\n",
              "20     22    4347   106737.0                          Himachal Pradesh\n",
              "21     23     980    15781.0                                       Goa\n",
              "22     24     349    13315.0                                Puducherry\n",
              "23     25     184    39525.0                                   Tripura\n",
              "24     26    1352    25794.0                                   Manipur\n",
              "25     27     345     7631.0                                Chandigarh\n",
              "26     28     168     7439.0                         Arunachal Pradesh\n",
              "27     29     294    15877.0                                 Meghalaya\n",
              "28     30     274    13806.0                                  Nagaland\n",
              "29     32     418     4642.0                                    Sikkim\n",
              "30     33      69     2473.0               Andaman and Nicobar Islands\n",
              "31     34     134     8174.0                                   Mizoram\n",
              "32     35      12     2208.0  Dadra and Nagar Haveli and Daman and Diu\n",
              "33     37       0      481.0                               Lakshadweep"
            ]
          },
          "metadata": {
            "tags": []
          },
          "execution_count": 65
        }
      ]
    },
    {
      "cell_type": "code",
      "metadata": {
        "colab": {
          "base_uri": "https://localhost:8080/",
          "height": 195
        },
        "id": "5jWd4FvV86kB",
        "outputId": "3ed4c4e0-3971-4924-9c21-5d1b867c7242"
      },
      "source": [
        "active_index=X1[['State']]\r\n",
        "active_index.head()"
      ],
      "execution_count": null,
      "outputs": [
        {
          "output_type": "execute_result",
          "data": {
            "text/html": [
              "<div>\n",
              "<style scoped>\n",
              "    .dataframe tbody tr th:only-of-type {\n",
              "        vertical-align: middle;\n",
              "    }\n",
              "\n",
              "    .dataframe tbody tr th {\n",
              "        vertical-align: top;\n",
              "    }\n",
              "\n",
              "    .dataframe thead th {\n",
              "        text-align: right;\n",
              "    }\n",
              "</style>\n",
              "<table border=\"1\" class=\"dataframe\">\n",
              "  <thead>\n",
              "    <tr style=\"text-align: right;\">\n",
              "      <th></th>\n",
              "      <th>State</th>\n",
              "    </tr>\n",
              "  </thead>\n",
              "  <tbody>\n",
              "    <tr>\n",
              "      <th>0</th>\n",
              "      <td>Maharashtra</td>\n",
              "    </tr>\n",
              "    <tr>\n",
              "      <th>1</th>\n",
              "      <td>Karnataka</td>\n",
              "    </tr>\n",
              "    <tr>\n",
              "      <th>2</th>\n",
              "      <td>Andhra Pradesh</td>\n",
              "    </tr>\n",
              "    <tr>\n",
              "      <th>3</th>\n",
              "      <td>Tamil Nadu</td>\n",
              "    </tr>\n",
              "    <tr>\n",
              "      <th>4</th>\n",
              "      <td>Kerala</td>\n",
              "    </tr>\n",
              "  </tbody>\n",
              "</table>\n",
              "</div>"
            ],
            "text/plain": [
              "            State\n",
              "0     Maharashtra\n",
              "1       Karnataka\n",
              "2  Andhra Pradesh\n",
              "3      Tamil Nadu\n",
              "4          Kerala"
            ]
          },
          "metadata": {
            "tags": []
          },
          "execution_count": 66
        }
      ]
    },
    {
      "cell_type": "code",
      "metadata": {
        "colab": {
          "base_uri": "https://localhost:8080/"
        },
        "id": "LDzgcIAE89rR",
        "outputId": "1f447bb0-f9d2-4cbc-c854-fdfb0d3c5550"
      },
      "source": [
        "len(y_kmeans)"
      ],
      "execution_count": null,
      "outputs": [
        {
          "output_type": "execute_result",
          "data": {
            "text/plain": [
              "34"
            ]
          },
          "metadata": {
            "tags": []
          },
          "execution_count": 67
        }
      ]
    },
    {
      "cell_type": "code",
      "metadata": {
        "colab": {
          "base_uri": "https://localhost:8080/"
        },
        "id": "Bp8vvavy9AWx",
        "outputId": "d2ba63e8-f9b5-45dd-b2d0-874faf6a2a63"
      },
      "source": [
        "type(active_index)"
      ],
      "execution_count": null,
      "outputs": [
        {
          "output_type": "execute_result",
          "data": {
            "text/plain": [
              "pandas.core.frame.DataFrame"
            ]
          },
          "metadata": {
            "tags": []
          },
          "execution_count": 68
        }
      ]
    },
    {
      "cell_type": "code",
      "metadata": {
        "colab": {
          "base_uri": "https://localhost:8080/",
          "height": 1000
        },
        "id": "61NW3Xa49DfT",
        "outputId": "99935ea4-6453-4e95-b93d-0c0bbf87da88"
      },
      "source": [
        "index=pd.DataFrame({'index':y_kmeans})\r\n",
        "index"
      ],
      "execution_count": null,
      "outputs": [
        {
          "output_type": "execute_result",
          "data": {
            "text/html": [
              "<div>\n",
              "<style scoped>\n",
              "    .dataframe tbody tr th:only-of-type {\n",
              "        vertical-align: middle;\n",
              "    }\n",
              "\n",
              "    .dataframe tbody tr th {\n",
              "        vertical-align: top;\n",
              "    }\n",
              "\n",
              "    .dataframe thead th {\n",
              "        text-align: right;\n",
              "    }\n",
              "</style>\n",
              "<table border=\"1\" class=\"dataframe\">\n",
              "  <thead>\n",
              "    <tr style=\"text-align: right;\">\n",
              "      <th></th>\n",
              "      <th>index</th>\n",
              "    </tr>\n",
              "  </thead>\n",
              "  <tbody>\n",
              "    <tr>\n",
              "      <th>0</th>\n",
              "      <td>2</td>\n",
              "    </tr>\n",
              "    <tr>\n",
              "      <th>1</th>\n",
              "      <td>0</td>\n",
              "    </tr>\n",
              "    <tr>\n",
              "      <th>2</th>\n",
              "      <td>0</td>\n",
              "    </tr>\n",
              "    <tr>\n",
              "      <th>3</th>\n",
              "      <td>0</td>\n",
              "    </tr>\n",
              "    <tr>\n",
              "      <th>4</th>\n",
              "      <td>0</td>\n",
              "    </tr>\n",
              "    <tr>\n",
              "      <th>5</th>\n",
              "      <td>1</td>\n",
              "    </tr>\n",
              "    <tr>\n",
              "      <th>6</th>\n",
              "      <td>2</td>\n",
              "    </tr>\n",
              "    <tr>\n",
              "      <th>7</th>\n",
              "      <td>0</td>\n",
              "    </tr>\n",
              "    <tr>\n",
              "      <th>8</th>\n",
              "      <td>0</td>\n",
              "    </tr>\n",
              "    <tr>\n",
              "      <th>9</th>\n",
              "      <td>0</td>\n",
              "    </tr>\n",
              "    <tr>\n",
              "      <th>10</th>\n",
              "      <td>1</td>\n",
              "    </tr>\n",
              "    <tr>\n",
              "      <th>11</th>\n",
              "      <td>1</td>\n",
              "    </tr>\n",
              "    <tr>\n",
              "      <th>12</th>\n",
              "      <td>0</td>\n",
              "    </tr>\n",
              "    <tr>\n",
              "      <th>13</th>\n",
              "      <td>0</td>\n",
              "    </tr>\n",
              "    <tr>\n",
              "      <th>14</th>\n",
              "      <td>0</td>\n",
              "    </tr>\n",
              "    <tr>\n",
              "      <th>15</th>\n",
              "      <td>1</td>\n",
              "    </tr>\n",
              "    <tr>\n",
              "      <th>16</th>\n",
              "      <td>0</td>\n",
              "    </tr>\n",
              "    <tr>\n",
              "      <th>17</th>\n",
              "      <td>1</td>\n",
              "    </tr>\n",
              "    <tr>\n",
              "      <th>18</th>\n",
              "      <td>1</td>\n",
              "    </tr>\n",
              "    <tr>\n",
              "      <th>19</th>\n",
              "      <td>1</td>\n",
              "    </tr>\n",
              "    <tr>\n",
              "      <th>20</th>\n",
              "      <td>1</td>\n",
              "    </tr>\n",
              "    <tr>\n",
              "      <th>21</th>\n",
              "      <td>1</td>\n",
              "    </tr>\n",
              "    <tr>\n",
              "      <th>22</th>\n",
              "      <td>1</td>\n",
              "    </tr>\n",
              "    <tr>\n",
              "      <th>23</th>\n",
              "      <td>1</td>\n",
              "    </tr>\n",
              "    <tr>\n",
              "      <th>24</th>\n",
              "      <td>1</td>\n",
              "    </tr>\n",
              "    <tr>\n",
              "      <th>25</th>\n",
              "      <td>1</td>\n",
              "    </tr>\n",
              "    <tr>\n",
              "      <th>26</th>\n",
              "      <td>1</td>\n",
              "    </tr>\n",
              "    <tr>\n",
              "      <th>27</th>\n",
              "      <td>1</td>\n",
              "    </tr>\n",
              "    <tr>\n",
              "      <th>28</th>\n",
              "      <td>1</td>\n",
              "    </tr>\n",
              "    <tr>\n",
              "      <th>29</th>\n",
              "      <td>1</td>\n",
              "    </tr>\n",
              "    <tr>\n",
              "      <th>30</th>\n",
              "      <td>1</td>\n",
              "    </tr>\n",
              "    <tr>\n",
              "      <th>31</th>\n",
              "      <td>1</td>\n",
              "    </tr>\n",
              "    <tr>\n",
              "      <th>32</th>\n",
              "      <td>1</td>\n",
              "    </tr>\n",
              "    <tr>\n",
              "      <th>33</th>\n",
              "      <td>1</td>\n",
              "    </tr>\n",
              "  </tbody>\n",
              "</table>\n",
              "</div>"
            ],
            "text/plain": [
              "    index\n",
              "0       2\n",
              "1       0\n",
              "2       0\n",
              "3       0\n",
              "4       0\n",
              "5       1\n",
              "6       2\n",
              "7       0\n",
              "8       0\n",
              "9       0\n",
              "10      1\n",
              "11      1\n",
              "12      0\n",
              "13      0\n",
              "14      0\n",
              "15      1\n",
              "16      0\n",
              "17      1\n",
              "18      1\n",
              "19      1\n",
              "20      1\n",
              "21      1\n",
              "22      1\n",
              "23      1\n",
              "24      1\n",
              "25      1\n",
              "26      1\n",
              "27      1\n",
              "28      1\n",
              "29      1\n",
              "30      1\n",
              "31      1\n",
              "32      1\n",
              "33      1"
            ]
          },
          "metadata": {
            "tags": []
          },
          "execution_count": 69
        }
      ]
    },
    {
      "cell_type": "code",
      "metadata": {
        "colab": {
          "base_uri": "https://localhost:8080/"
        },
        "id": "3-WvOTUf9HAI",
        "outputId": "5cb36273-8b8e-4536-ea88-307a29e2d9a1"
      },
      "source": [
        "len(index)"
      ],
      "execution_count": null,
      "outputs": [
        {
          "output_type": "execute_result",
          "data": {
            "text/plain": [
              "34"
            ]
          },
          "metadata": {
            "tags": []
          },
          "execution_count": 70
        }
      ]
    },
    {
      "cell_type": "code",
      "metadata": {
        "colab": {
          "base_uri": "https://localhost:8080/"
        },
        "id": "4P38MDYs9KNp",
        "outputId": "8ad047c2-94ee-4e4f-f2c5-2441d14ae507"
      },
      "source": [
        "len(active_index)"
      ],
      "execution_count": null,
      "outputs": [
        {
          "output_type": "execute_result",
          "data": {
            "text/plain": [
              "34"
            ]
          },
          "metadata": {
            "tags": []
          },
          "execution_count": 71
        }
      ]
    },
    {
      "cell_type": "code",
      "metadata": {
        "id": "N79ukVl59M65"
      },
      "source": [
        "active_index=active_index.join(index)"
      ],
      "execution_count": null,
      "outputs": []
    },
    {
      "cell_type": "code",
      "metadata": {
        "id": "2brGwN769Piq",
        "colab": {
          "base_uri": "https://localhost:8080/",
          "height": 225
        },
        "outputId": "c8247313-45dc-4bf3-eac7-b800011421e3"
      },
      "source": [
        "active_index=active_index.set_index('State')\r\n",
        "active_index.head()"
      ],
      "execution_count": null,
      "outputs": [
        {
          "output_type": "execute_result",
          "data": {
            "text/html": [
              "<div>\n",
              "<style scoped>\n",
              "    .dataframe tbody tr th:only-of-type {\n",
              "        vertical-align: middle;\n",
              "    }\n",
              "\n",
              "    .dataframe tbody tr th {\n",
              "        vertical-align: top;\n",
              "    }\n",
              "\n",
              "    .dataframe thead th {\n",
              "        text-align: right;\n",
              "    }\n",
              "</style>\n",
              "<table border=\"1\" class=\"dataframe\">\n",
              "  <thead>\n",
              "    <tr style=\"text-align: right;\">\n",
              "      <th></th>\n",
              "      <th>index</th>\n",
              "    </tr>\n",
              "    <tr>\n",
              "      <th>State</th>\n",
              "      <th></th>\n",
              "    </tr>\n",
              "  </thead>\n",
              "  <tbody>\n",
              "    <tr>\n",
              "      <th>Maharashtra</th>\n",
              "      <td>2</td>\n",
              "    </tr>\n",
              "    <tr>\n",
              "      <th>Karnataka</th>\n",
              "      <td>0</td>\n",
              "    </tr>\n",
              "    <tr>\n",
              "      <th>Andhra Pradesh</th>\n",
              "      <td>0</td>\n",
              "    </tr>\n",
              "    <tr>\n",
              "      <th>Tamil Nadu</th>\n",
              "      <td>0</td>\n",
              "    </tr>\n",
              "    <tr>\n",
              "      <th>Kerala</th>\n",
              "      <td>0</td>\n",
              "    </tr>\n",
              "  </tbody>\n",
              "</table>\n",
              "</div>"
            ],
            "text/plain": [
              "                index\n",
              "State                \n",
              "Maharashtra         2\n",
              "Karnataka           0\n",
              "Andhra Pradesh      0\n",
              "Tamil Nadu          0\n",
              "Kerala              0"
            ]
          },
          "metadata": {
            "tags": []
          },
          "execution_count": 73
        }
      ]
    },
    {
      "cell_type": "code",
      "metadata": {
        "id": "A_wiIRI09SsZ",
        "colab": {
          "base_uri": "https://localhost:8080/",
          "height": 225
        },
        "outputId": "d781b253-65aa-46d6-fa57-e88a1d6fee9b"
      },
      "source": [
        "active_index.tail()"
      ],
      "execution_count": null,
      "outputs": [
        {
          "output_type": "execute_result",
          "data": {
            "text/html": [
              "<div>\n",
              "<style scoped>\n",
              "    .dataframe tbody tr th:only-of-type {\n",
              "        vertical-align: middle;\n",
              "    }\n",
              "\n",
              "    .dataframe tbody tr th {\n",
              "        vertical-align: top;\n",
              "    }\n",
              "\n",
              "    .dataframe thead th {\n",
              "        text-align: right;\n",
              "    }\n",
              "</style>\n",
              "<table border=\"1\" class=\"dataframe\">\n",
              "  <thead>\n",
              "    <tr style=\"text-align: right;\">\n",
              "      <th></th>\n",
              "      <th>index</th>\n",
              "    </tr>\n",
              "    <tr>\n",
              "      <th>State</th>\n",
              "      <th></th>\n",
              "    </tr>\n",
              "  </thead>\n",
              "  <tbody>\n",
              "    <tr>\n",
              "      <th>Sikkim</th>\n",
              "      <td>1</td>\n",
              "    </tr>\n",
              "    <tr>\n",
              "      <th>Andaman and Nicobar Islands</th>\n",
              "      <td>1</td>\n",
              "    </tr>\n",
              "    <tr>\n",
              "      <th>Mizoram</th>\n",
              "      <td>1</td>\n",
              "    </tr>\n",
              "    <tr>\n",
              "      <th>Dadra and Nagar Haveli and Daman and Diu</th>\n",
              "      <td>1</td>\n",
              "    </tr>\n",
              "    <tr>\n",
              "      <th>Lakshadweep</th>\n",
              "      <td>1</td>\n",
              "    </tr>\n",
              "  </tbody>\n",
              "</table>\n",
              "</div>"
            ],
            "text/plain": [
              "                                          index\n",
              "State                                          \n",
              "Sikkim                                        1\n",
              "Andaman and Nicobar Islands                   1\n",
              "Mizoram                                       1\n",
              "Dadra and Nagar Haveli and Daman and Diu      1\n",
              "Lakshadweep                                   1"
            ]
          },
          "metadata": {
            "tags": []
          },
          "execution_count": 74
        }
      ]
    },
    {
      "cell_type": "code",
      "metadata": {
        "id": "zoFWZ-I6U7GE"
      },
      "source": [
        "active_index.to_json('80plus_index')"
      ],
      "execution_count": null,
      "outputs": []
    },
    {
      "cell_type": "code",
      "metadata": {
        "colab": {
          "base_uri": "https://localhost:8080/",
          "height": 266
        },
        "id": "crWsiQ4WU_CB",
        "outputId": "dce806df-d9f3-42f9-ef9a-d336a595d20a"
      },
      "source": [
        "df.head()"
      ],
      "execution_count": null,
      "outputs": [
        {
          "output_type": "execute_result",
          "data": {
            "text/html": [
              "<div>\n",
              "<style scoped>\n",
              "    .dataframe tbody tr th:only-of-type {\n",
              "        vertical-align: middle;\n",
              "    }\n",
              "\n",
              "    .dataframe tbody tr th {\n",
              "        vertical-align: top;\n",
              "    }\n",
              "\n",
              "    .dataframe thead th {\n",
              "        text-align: right;\n",
              "    }\n",
              "</style>\n",
              "<table border=\"1\" class=\"dataframe\">\n",
              "  <thead>\n",
              "    <tr style=\"text-align: right;\">\n",
              "      <th></th>\n",
              "      <th>State</th>\n",
              "      <th>Unnamed: 1</th>\n",
              "      <th>Confirmed</th>\n",
              "      <th>Recovered</th>\n",
              "      <th>Deaths</th>\n",
              "      <th>Active</th>\n",
              "      <th>Last_Updated_Time</th>\n",
              "      <th>Migrated_Other</th>\n",
              "      <th>State_code</th>\n",
              "      <th>Delta_Confirmed</th>\n",
              "      <th>Delta_Recovered</th>\n",
              "      <th>Delta_Deaths</th>\n",
              "      <th>State_Notes</th>\n",
              "      <th>Population</th>\n",
              "      <th>Density</th>\n",
              "      <th>0-4</th>\n",
              "      <th>2020-05-09 00:00:00</th>\n",
              "      <th>2020-10-14 00:00:00</th>\n",
              "      <th>15-19</th>\n",
              "      <th>20-24</th>\n",
              "      <th>25-29</th>\n",
              "      <th>30-34</th>\n",
              "      <th>35-39</th>\n",
              "      <th>40-44</th>\n",
              "      <th>45-49</th>\n",
              "      <th>50-54</th>\n",
              "      <th>55-59</th>\n",
              "      <th>60-64</th>\n",
              "      <th>65-69</th>\n",
              "      <th>70-74</th>\n",
              "      <th>75-79</th>\n",
              "      <th>80+</th>\n",
              "      <th>Health Workers(%)</th>\n",
              "      <th>Police Force</th>\n",
              "      <th>Vaccination Centres</th>\n",
              "    </tr>\n",
              "  </thead>\n",
              "  <tbody>\n",
              "    <tr>\n",
              "      <th>1</th>\n",
              "      <td>Maharashtra</td>\n",
              "      <td>NaN</td>\n",
              "      <td>1913382</td>\n",
              "      <td>1806298</td>\n",
              "      <td>49129</td>\n",
              "      <td>56823</td>\n",
              "      <td>25-12-2020 22:43</td>\n",
              "      <td>1132</td>\n",
              "      <td>MH</td>\n",
              "      <td>3431</td>\n",
              "      <td>1427</td>\n",
              "      <td>71</td>\n",
              "      <td>NaN</td>\n",
              "      <td>120837347.0</td>\n",
              "      <td>365.0</td>\n",
              "      <td>9362026.0</td>\n",
              "      <td>9820654.0</td>\n",
              "      <td>10734535.0</td>\n",
              "      <td>10627267.0</td>\n",
              "      <td>11090966.0</td>\n",
              "      <td>10147113.0</td>\n",
              "      <td>8796307.0</td>\n",
              "      <td>8247160.0</td>\n",
              "      <td>7196089.0</td>\n",
              "      <td>6032454.0</td>\n",
              "      <td>4919317.0</td>\n",
              "      <td>3885814.0</td>\n",
              "      <td>3642480.0</td>\n",
              "      <td>3078352.0</td>\n",
              "      <td>2143136.0</td>\n",
              "      <td>1062773.0</td>\n",
              "      <td>1180194.0</td>\n",
              "      <td>13.67</td>\n",
              "      <td>213382.0</td>\n",
              "      <td>3239.0</td>\n",
              "    </tr>\n",
              "    <tr>\n",
              "      <th>2</th>\n",
              "      <td>Karnataka</td>\n",
              "      <td>NaN</td>\n",
              "      <td>914488</td>\n",
              "      <td>888917</td>\n",
              "      <td>12044</td>\n",
              "      <td>13508</td>\n",
              "      <td>25-12-2020 20:23</td>\n",
              "      <td>19</td>\n",
              "      <td>KA</td>\n",
              "      <td>1005</td>\n",
              "      <td>1102</td>\n",
              "      <td>5</td>\n",
              "      <td>NaN</td>\n",
              "      <td>66165886.0</td>\n",
              "      <td>319.0</td>\n",
              "      <td>5046719.0</td>\n",
              "      <td>5241509.0</td>\n",
              "      <td>5736646.0</td>\n",
              "      <td>5827277.0</td>\n",
              "      <td>6052558.0</td>\n",
              "      <td>5771606.0</td>\n",
              "      <td>4698380.0</td>\n",
              "      <td>4695451.0</td>\n",
              "      <td>3826712.0</td>\n",
              "      <td>3519782.0</td>\n",
              "      <td>2699270.0</td>\n",
              "      <td>2142504.0</td>\n",
              "      <td>2060052.0</td>\n",
              "      <td>1520119.0</td>\n",
              "      <td>1061125.0</td>\n",
              "      <td>524426.0</td>\n",
              "      <td>625310.0</td>\n",
              "      <td>5.27</td>\n",
              "      <td>89009.0</td>\n",
              "      <td>2943.0</td>\n",
              "    </tr>\n",
              "    <tr>\n",
              "      <th>3</th>\n",
              "      <td>Andhra Pradesh</td>\n",
              "      <td>NaN</td>\n",
              "      <td>880430</td>\n",
              "      <td>869478</td>\n",
              "      <td>7091</td>\n",
              "      <td>3861</td>\n",
              "      <td>25-12-2020 19:09</td>\n",
              "      <td>0</td>\n",
              "      <td>AP</td>\n",
              "      <td>355</td>\n",
              "      <td>354</td>\n",
              "      <td>2</td>\n",
              "      <td>NaN</td>\n",
              "      <td>52883163.0</td>\n",
              "      <td>308.0</td>\n",
              "      <td>6284765.0</td>\n",
              "      <td>7304432.0</td>\n",
              "      <td>8201595.0</td>\n",
              "      <td>8093747.0</td>\n",
              "      <td>8132094.0</td>\n",
              "      <td>7799036.0</td>\n",
              "      <td>6584371.0</td>\n",
              "      <td>6507339.0</td>\n",
              "      <td>5399473.0</td>\n",
              "      <td>4657269.0</td>\n",
              "      <td>3657386.0</td>\n",
              "      <td>2909598.0</td>\n",
              "      <td>3199837.0</td>\n",
              "      <td>2167854.0</td>\n",
              "      <td>1519358.0</td>\n",
              "      <td>636989.0</td>\n",
              "      <td>754203.0</td>\n",
              "      <td>7.83</td>\n",
              "      <td>61168.0</td>\n",
              "      <td>1666.0</td>\n",
              "    </tr>\n",
              "    <tr>\n",
              "      <th>4</th>\n",
              "      <td>Tamil Nadu</td>\n",
              "      <td>NaN</td>\n",
              "      <td>812142</td>\n",
              "      <td>790965</td>\n",
              "      <td>12048</td>\n",
              "      <td>9129</td>\n",
              "      <td>25-12-2020 19:30</td>\n",
              "      <td>0</td>\n",
              "      <td>TN</td>\n",
              "      <td>1027</td>\n",
              "      <td>1103</td>\n",
              "      <td>12</td>\n",
              "      <td>NaN</td>\n",
              "      <td>76481545.0</td>\n",
              "      <td>555.0</td>\n",
              "      <td>5278701.0</td>\n",
              "      <td>5551255.0</td>\n",
              "      <td>6177547.0</td>\n",
              "      <td>6253792.0</td>\n",
              "      <td>6411543.0</td>\n",
              "      <td>6663746.0</td>\n",
              "      <td>5815560.0</td>\n",
              "      <td>5836456.0</td>\n",
              "      <td>5064209.0</td>\n",
              "      <td>4713056.0</td>\n",
              "      <td>3703460.0</td>\n",
              "      <td>3101142.0</td>\n",
              "      <td>2782608.0</td>\n",
              "      <td>1868370.0</td>\n",
              "      <td>1406529.0</td>\n",
              "      <td>710241.0</td>\n",
              "      <td>742010.0</td>\n",
              "      <td>6.72</td>\n",
              "      <td>110186.0</td>\n",
              "      <td>2581.0</td>\n",
              "    </tr>\n",
              "    <tr>\n",
              "      <th>5</th>\n",
              "      <td>Kerala</td>\n",
              "      <td>NaN</td>\n",
              "      <td>732085</td>\n",
              "      <td>664951</td>\n",
              "      <td>2931</td>\n",
              "      <td>64032</td>\n",
              "      <td>25-12-2020 21:52</td>\n",
              "      <td>171</td>\n",
              "      <td>KL</td>\n",
              "      <td>5397</td>\n",
              "      <td>4506</td>\n",
              "      <td>16</td>\n",
              "      <td>NaN</td>\n",
              "      <td>35330888.0</td>\n",
              "      <td>860.0</td>\n",
              "      <td>2453092.0</td>\n",
              "      <td>2555112.0</td>\n",
              "      <td>2822770.0</td>\n",
              "      <td>2610552.0</td>\n",
              "      <td>2665809.0</td>\n",
              "      <td>2604092.0</td>\n",
              "      <td>2455501.0</td>\n",
              "      <td>2579673.0</td>\n",
              "      <td>2412498.0</td>\n",
              "      <td>2348530.0</td>\n",
              "      <td>1928145.0</td>\n",
              "      <td>1742408.0</td>\n",
              "      <td>1414671.0</td>\n",
              "      <td>1002134.0</td>\n",
              "      <td>733372.0</td>\n",
              "      <td>501367.0</td>\n",
              "      <td>541849.0</td>\n",
              "      <td>6.06</td>\n",
              "      <td>48860.0</td>\n",
              "      <td>1297.0</td>\n",
              "    </tr>\n",
              "  </tbody>\n",
              "</table>\n",
              "</div>"
            ],
            "text/plain": [
              "            State  Unnamed: 1  ...  Police Force  Vaccination Centres\n",
              "1     Maharashtra         NaN  ...      213382.0               3239.0\n",
              "2       Karnataka         NaN  ...       89009.0               2943.0\n",
              "3  Andhra Pradesh         NaN  ...       61168.0               1666.0\n",
              "4      Tamil Nadu         NaN  ...      110186.0               2581.0\n",
              "5          Kerala         NaN  ...       48860.0               1297.0\n",
              "\n",
              "[5 rows x 35 columns]"
            ]
          },
          "metadata": {
            "tags": []
          },
          "execution_count": 76
        }
      ]
    },
    {
      "cell_type": "code",
      "metadata": {
        "colab": {
          "base_uri": "https://localhost:8080/"
        },
        "id": "_26cDrxJVCUc",
        "outputId": "e7121ffc-8697-45b8-8c0d-2d81f55025bb"
      },
      "source": [
        " for i in range(len(y_kmeans)):\r\n",
        "   print(df['State'].iloc[i:i+1],y_kmeans[i])"
      ],
      "execution_count": null,
      "outputs": [
        {
          "output_type": "stream",
          "text": [
            "1    Maharashtra\n",
            "Name: State, dtype: object 2\n",
            "2    Karnataka\n",
            "Name: State, dtype: object 0\n",
            "3    Andhra Pradesh\n",
            "Name: State, dtype: object 0\n",
            "4    Tamil Nadu\n",
            "Name: State, dtype: object 0\n",
            "5    Kerala\n",
            "Name: State, dtype: object 0\n",
            "6    Delhi\n",
            "Name: State, dtype: object 1\n",
            "7    Uttar Pradesh\n",
            "Name: State, dtype: object 2\n",
            "8    West Bengal\n",
            "Name: State, dtype: object 0\n",
            "9    Odisha\n",
            "Name: State, dtype: object 0\n",
            "10    Rajasthan\n",
            "Name: State, dtype: object 0\n",
            "11    Telangana\n",
            "Name: State, dtype: object 1\n",
            "12    Chhattisgarh\n",
            "Name: State, dtype: object 1\n",
            "13    Haryana\n",
            "Name: State, dtype: object 0\n",
            "14    Bihar\n",
            "Name: State, dtype: object 0\n",
            "15    Gujarat\n",
            "Name: State, dtype: object 0\n",
            "16    Madhya Pradesh\n",
            "Name: State, dtype: object 1\n",
            "17    Assam\n",
            "Name: State, dtype: object 0\n",
            "18    Punjab\n",
            "Name: State, dtype: object 1\n",
            "19    Jammu and Kashmir\n",
            "Name: State, dtype: object 1\n",
            "20    Jharkhand\n",
            "Name: State, dtype: object 1\n",
            "21    Uttarakhand\n",
            "Name: State, dtype: object 1\n",
            "22    Himachal Pradesh\n",
            "Name: State, dtype: object 1\n",
            "23    Goa\n",
            "Name: State, dtype: object 1\n",
            "24    Puducherry\n",
            "Name: State, dtype: object 1\n",
            "25    Tripura\n",
            "Name: State, dtype: object 1\n",
            "26    Manipur\n",
            "Name: State, dtype: object 1\n",
            "27    Chandigarh\n",
            "Name: State, dtype: object 1\n",
            "28    Arunachal Pradesh\n",
            "Name: State, dtype: object 1\n",
            "29    Meghalaya\n",
            "Name: State, dtype: object 1\n",
            "30    Nagaland\n",
            "Name: State, dtype: object 1\n",
            "31    Ladakh\n",
            "Name: State, dtype: object 1\n",
            "32    Sikkim\n",
            "Name: State, dtype: object 1\n",
            "33    Andaman and Nicobar Islands\n",
            "Name: State, dtype: object 1\n",
            "34    Mizoram\n",
            "Name: State, dtype: object 1\n"
          ],
          "name": "stdout"
        }
      ]
    },
    {
      "cell_type": "code",
      "metadata": {
        "id": "GJ7SjrfdVF0C"
      },
      "source": [
        "import json"
      ],
      "execution_count": null,
      "outputs": []
    },
    {
      "cell_type": "code",
      "metadata": {
        "colab": {
          "base_uri": "https://localhost:8080/"
        },
        "id": "XpFjkliyVLgd",
        "outputId": "2c10d6aa-bf21-46ec-8e6a-fdf98ef18665"
      },
      "source": [
        "with open('./80plus_index') as f:\r\n",
        "        data = json.load(f)\r\n",
        "\r\n",
        "data     "
      ],
      "execution_count": null,
      "outputs": [
        {
          "output_type": "execute_result",
          "data": {
            "text/plain": [
              "{'index': {'Andaman and Nicobar Islands': 1,\n",
              "  'Andhra Pradesh': 0,\n",
              "  'Arunachal Pradesh': 1,\n",
              "  'Assam': 1,\n",
              "  'Bihar': 0,\n",
              "  'Chandigarh': 1,\n",
              "  'Chhattisgarh': 1,\n",
              "  'Dadra and Nagar Haveli and Daman and Diu': 1,\n",
              "  'Delhi': 1,\n",
              "  'Goa': 1,\n",
              "  'Gujarat': 0,\n",
              "  'Haryana': 1,\n",
              "  'Himachal Pradesh': 1,\n",
              "  'Jammu and Kashmir': 1,\n",
              "  'Jharkhand': 1,\n",
              "  'Karnataka': 0,\n",
              "  'Kerala': 0,\n",
              "  'Lakshadweep': 1,\n",
              "  'Madhya Pradesh': 0,\n",
              "  'Maharashtra': 2,\n",
              "  'Manipur': 1,\n",
              "  'Meghalaya': 1,\n",
              "  'Mizoram': 1,\n",
              "  'Nagaland': 1,\n",
              "  'Odisha': 0,\n",
              "  'Puducherry': 1,\n",
              "  'Punjab': 0,\n",
              "  'Rajasthan': 0,\n",
              "  'Sikkim': 1,\n",
              "  'Tamil Nadu': 0,\n",
              "  'Tripura': 1,\n",
              "  'Uttar Pradesh': 2,\n",
              "  'Uttarakhand': 1,\n",
              "  'West Bengal': 0}}"
            ]
          },
          "metadata": {
            "tags": []
          },
          "execution_count": 79
        }
      ]
    }
  ]
}