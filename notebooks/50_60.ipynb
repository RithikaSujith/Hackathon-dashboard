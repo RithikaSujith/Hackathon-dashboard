{
  "nbformat": 4,
  "nbformat_minor": 0,
  "metadata": {
    "colab": {
      "name": "50-60.ipynb",
      "provenance": []
    },
    "kernelspec": {
      "name": "python3",
      "display_name": "Python 3"
    }
  },
  "cells": [
    {
      "cell_type": "code",
      "metadata": {
        "id": "slr6Cpx57tyG"
      },
      "source": [
        "import pandas as pd\r\n",
        "import numpy as np\r\n",
        "\r\n",
        "import seaborn as sns\r\n",
        "import matplotlib.pyplot as plt\r\n",
        "%matplotlib inline\r\n",
        "sns.set(rc={'figure.figsize':(15.7,8.27)})"
      ],
      "execution_count": null,
      "outputs": []
    },
    {
      "cell_type": "code",
      "metadata": {
        "id": "WhdcihHQ7yVn"
      },
      "source": [
        "df=pd.read_excel('state_wise_updated (1).xlsx')"
      ],
      "execution_count": null,
      "outputs": []
    },
    {
      "cell_type": "code",
      "metadata": {
        "colab": {
          "base_uri": "https://localhost:8080/",
          "height": 249
        },
        "id": "eOwJtDxK8Nn-",
        "outputId": "3b389875-81a7-49f9-80c9-ec39b2d70db0"
      },
      "source": [
        "df.head()"
      ],
      "execution_count": null,
      "outputs": [
        {
          "output_type": "execute_result",
          "data": {
            "text/html": [
              "<div>\n",
              "<style scoped>\n",
              "    .dataframe tbody tr th:only-of-type {\n",
              "        vertical-align: middle;\n",
              "    }\n",
              "\n",
              "    .dataframe tbody tr th {\n",
              "        vertical-align: top;\n",
              "    }\n",
              "\n",
              "    .dataframe thead th {\n",
              "        text-align: right;\n",
              "    }\n",
              "</style>\n",
              "<table border=\"1\" class=\"dataframe\">\n",
              "  <thead>\n",
              "    <tr style=\"text-align: right;\">\n",
              "      <th></th>\n",
              "      <th>State</th>\n",
              "      <th>Unnamed: 1</th>\n",
              "      <th>Confirmed</th>\n",
              "      <th>Recovered</th>\n",
              "      <th>Deaths</th>\n",
              "      <th>Active</th>\n",
              "      <th>Last_Updated_Time</th>\n",
              "      <th>Migrated_Other</th>\n",
              "      <th>State_code</th>\n",
              "      <th>Delta_Confirmed</th>\n",
              "      <th>Delta_Recovered</th>\n",
              "      <th>Delta_Deaths</th>\n",
              "      <th>State_Notes</th>\n",
              "      <th>Population</th>\n",
              "      <th>Density</th>\n",
              "      <th>0-4</th>\n",
              "      <th>2020-05-09 00:00:00</th>\n",
              "      <th>2020-10-14 00:00:00</th>\n",
              "      <th>15-19</th>\n",
              "      <th>20-24</th>\n",
              "      <th>25-29</th>\n",
              "      <th>30-34</th>\n",
              "      <th>35-39</th>\n",
              "      <th>40-44</th>\n",
              "      <th>45-49</th>\n",
              "      <th>50-54</th>\n",
              "      <th>55-59</th>\n",
              "      <th>60-64</th>\n",
              "      <th>65-69</th>\n",
              "      <th>70-74</th>\n",
              "      <th>75-79</th>\n",
              "      <th>80+</th>\n",
              "      <th>Health Workers(%)</th>\n",
              "      <th>Police Force</th>\n",
              "      <th>Vaccination Centres</th>\n",
              "    </tr>\n",
              "  </thead>\n",
              "  <tbody>\n",
              "    <tr>\n",
              "      <th>0</th>\n",
              "      <td>Total</td>\n",
              "      <td>NaN</td>\n",
              "      <td>10169804</td>\n",
              "      <td>9739332</td>\n",
              "      <td>147379</td>\n",
              "      <td>280310</td>\n",
              "      <td>25-12-2020 23:29</td>\n",
              "      <td>2783</td>\n",
              "      <td>TT</td>\n",
              "      <td>22336</td>\n",
              "      <td>22134</td>\n",
              "      <td>251</td>\n",
              "      <td>NaN</td>\n",
              "      <td>1.397322e+09</td>\n",
              "      <td>382.0</td>\n",
              "      <td>112806778.0</td>\n",
              "      <td>126928126.0</td>\n",
              "      <td>132709212.0</td>\n",
              "      <td>120526449.0</td>\n",
              "      <td>111424222.0</td>\n",
              "      <td>101413965.0</td>\n",
              "      <td>88594951.0</td>\n",
              "      <td>85140684.0</td>\n",
              "      <td>72438112.0</td>\n",
              "      <td>62318327.0</td>\n",
              "      <td>49069254.0</td>\n",
              "      <td>39146055.0</td>\n",
              "      <td>37663707.0</td>\n",
              "      <td>26454983.0</td>\n",
              "      <td>19208842.0</td>\n",
              "      <td>9232503.0</td>\n",
              "      <td>11289005.0</td>\n",
              "      <td>NaN</td>\n",
              "      <td>2067270.0</td>\n",
              "      <td>37725.0</td>\n",
              "    </tr>\n",
              "    <tr>\n",
              "      <th>1</th>\n",
              "      <td>Maharashtra</td>\n",
              "      <td>NaN</td>\n",
              "      <td>1913382</td>\n",
              "      <td>1806298</td>\n",
              "      <td>49129</td>\n",
              "      <td>56823</td>\n",
              "      <td>25-12-2020 22:43</td>\n",
              "      <td>1132</td>\n",
              "      <td>MH</td>\n",
              "      <td>3431</td>\n",
              "      <td>1427</td>\n",
              "      <td>71</td>\n",
              "      <td>NaN</td>\n",
              "      <td>1.208373e+08</td>\n",
              "      <td>365.0</td>\n",
              "      <td>9362026.0</td>\n",
              "      <td>9820654.0</td>\n",
              "      <td>10734535.0</td>\n",
              "      <td>10627267.0</td>\n",
              "      <td>11090966.0</td>\n",
              "      <td>10147113.0</td>\n",
              "      <td>8796307.0</td>\n",
              "      <td>8247160.0</td>\n",
              "      <td>7196089.0</td>\n",
              "      <td>6032454.0</td>\n",
              "      <td>4919317.0</td>\n",
              "      <td>3885814.0</td>\n",
              "      <td>3642480.0</td>\n",
              "      <td>3078352.0</td>\n",
              "      <td>2143136.0</td>\n",
              "      <td>1062773.0</td>\n",
              "      <td>1180194.0</td>\n",
              "      <td>13.67</td>\n",
              "      <td>213382.0</td>\n",
              "      <td>3239.0</td>\n",
              "    </tr>\n",
              "    <tr>\n",
              "      <th>2</th>\n",
              "      <td>Karnataka</td>\n",
              "      <td>NaN</td>\n",
              "      <td>914488</td>\n",
              "      <td>888917</td>\n",
              "      <td>12044</td>\n",
              "      <td>13508</td>\n",
              "      <td>25-12-2020 20:23</td>\n",
              "      <td>19</td>\n",
              "      <td>KA</td>\n",
              "      <td>1005</td>\n",
              "      <td>1102</td>\n",
              "      <td>5</td>\n",
              "      <td>NaN</td>\n",
              "      <td>6.616589e+07</td>\n",
              "      <td>319.0</td>\n",
              "      <td>5046719.0</td>\n",
              "      <td>5241509.0</td>\n",
              "      <td>5736646.0</td>\n",
              "      <td>5827277.0</td>\n",
              "      <td>6052558.0</td>\n",
              "      <td>5771606.0</td>\n",
              "      <td>4698380.0</td>\n",
              "      <td>4695451.0</td>\n",
              "      <td>3826712.0</td>\n",
              "      <td>3519782.0</td>\n",
              "      <td>2699270.0</td>\n",
              "      <td>2142504.0</td>\n",
              "      <td>2060052.0</td>\n",
              "      <td>1520119.0</td>\n",
              "      <td>1061125.0</td>\n",
              "      <td>524426.0</td>\n",
              "      <td>625310.0</td>\n",
              "      <td>5.27</td>\n",
              "      <td>89009.0</td>\n",
              "      <td>2943.0</td>\n",
              "    </tr>\n",
              "    <tr>\n",
              "      <th>3</th>\n",
              "      <td>Andhra Pradesh</td>\n",
              "      <td>NaN</td>\n",
              "      <td>880430</td>\n",
              "      <td>869478</td>\n",
              "      <td>7091</td>\n",
              "      <td>3861</td>\n",
              "      <td>25-12-2020 19:09</td>\n",
              "      <td>0</td>\n",
              "      <td>AP</td>\n",
              "      <td>355</td>\n",
              "      <td>354</td>\n",
              "      <td>2</td>\n",
              "      <td>NaN</td>\n",
              "      <td>5.288316e+07</td>\n",
              "      <td>308.0</td>\n",
              "      <td>6284765.0</td>\n",
              "      <td>7304432.0</td>\n",
              "      <td>8201595.0</td>\n",
              "      <td>8093747.0</td>\n",
              "      <td>8132094.0</td>\n",
              "      <td>7799036.0</td>\n",
              "      <td>6584371.0</td>\n",
              "      <td>6507339.0</td>\n",
              "      <td>5399473.0</td>\n",
              "      <td>4657269.0</td>\n",
              "      <td>3657386.0</td>\n",
              "      <td>2909598.0</td>\n",
              "      <td>3199837.0</td>\n",
              "      <td>2167854.0</td>\n",
              "      <td>1519358.0</td>\n",
              "      <td>636989.0</td>\n",
              "      <td>754203.0</td>\n",
              "      <td>7.83</td>\n",
              "      <td>61168.0</td>\n",
              "      <td>1666.0</td>\n",
              "    </tr>\n",
              "    <tr>\n",
              "      <th>4</th>\n",
              "      <td>Tamil Nadu</td>\n",
              "      <td>NaN</td>\n",
              "      <td>812142</td>\n",
              "      <td>790965</td>\n",
              "      <td>12048</td>\n",
              "      <td>9129</td>\n",
              "      <td>25-12-2020 19:30</td>\n",
              "      <td>0</td>\n",
              "      <td>TN</td>\n",
              "      <td>1027</td>\n",
              "      <td>1103</td>\n",
              "      <td>12</td>\n",
              "      <td>NaN</td>\n",
              "      <td>7.648154e+07</td>\n",
              "      <td>555.0</td>\n",
              "      <td>5278701.0</td>\n",
              "      <td>5551255.0</td>\n",
              "      <td>6177547.0</td>\n",
              "      <td>6253792.0</td>\n",
              "      <td>6411543.0</td>\n",
              "      <td>6663746.0</td>\n",
              "      <td>5815560.0</td>\n",
              "      <td>5836456.0</td>\n",
              "      <td>5064209.0</td>\n",
              "      <td>4713056.0</td>\n",
              "      <td>3703460.0</td>\n",
              "      <td>3101142.0</td>\n",
              "      <td>2782608.0</td>\n",
              "      <td>1868370.0</td>\n",
              "      <td>1406529.0</td>\n",
              "      <td>710241.0</td>\n",
              "      <td>742010.0</td>\n",
              "      <td>6.72</td>\n",
              "      <td>110186.0</td>\n",
              "      <td>2581.0</td>\n",
              "    </tr>\n",
              "  </tbody>\n",
              "</table>\n",
              "</div>"
            ],
            "text/plain": [
              "            State  Unnamed: 1  ...  Police Force  Vaccination Centres\n",
              "0           Total         NaN  ...     2067270.0              37725.0\n",
              "1     Maharashtra         NaN  ...      213382.0               3239.0\n",
              "2       Karnataka         NaN  ...       89009.0               2943.0\n",
              "3  Andhra Pradesh         NaN  ...       61168.0               1666.0\n",
              "4      Tamil Nadu         NaN  ...      110186.0               2581.0\n",
              "\n",
              "[5 rows x 35 columns]"
            ]
          },
          "metadata": {
            "tags": []
          },
          "execution_count": 5
        }
      ]
    },
    {
      "cell_type": "code",
      "metadata": {
        "id": "iFsdPQsUddAf"
      },
      "source": [
        "df=df.drop([0],axis=0)"
      ],
      "execution_count": null,
      "outputs": []
    },
    {
      "cell_type": "code",
      "metadata": {
        "id": "r2Wv_exJ8PHL"
      },
      "source": [
        "df[\"50+\"]=df[\"50-54\"]+df[\"55-59\"]"
      ],
      "execution_count": null,
      "outputs": []
    },
    {
      "cell_type": "code",
      "metadata": {
        "colab": {
          "base_uri": "https://localhost:8080/",
          "height": 266
        },
        "id": "s-G_nDG2At0R",
        "outputId": "e62db5fd-51b9-4e61-ea9e-f5208406033f"
      },
      "source": [
        "df.head()\r\n"
      ],
      "execution_count": null,
      "outputs": [
        {
          "output_type": "execute_result",
          "data": {
            "text/html": [
              "<div>\n",
              "<style scoped>\n",
              "    .dataframe tbody tr th:only-of-type {\n",
              "        vertical-align: middle;\n",
              "    }\n",
              "\n",
              "    .dataframe tbody tr th {\n",
              "        vertical-align: top;\n",
              "    }\n",
              "\n",
              "    .dataframe thead th {\n",
              "        text-align: right;\n",
              "    }\n",
              "</style>\n",
              "<table border=\"1\" class=\"dataframe\">\n",
              "  <thead>\n",
              "    <tr style=\"text-align: right;\">\n",
              "      <th></th>\n",
              "      <th>State</th>\n",
              "      <th>Unnamed: 1</th>\n",
              "      <th>Confirmed</th>\n",
              "      <th>Recovered</th>\n",
              "      <th>Deaths</th>\n",
              "      <th>Active</th>\n",
              "      <th>Last_Updated_Time</th>\n",
              "      <th>Migrated_Other</th>\n",
              "      <th>State_code</th>\n",
              "      <th>Delta_Confirmed</th>\n",
              "      <th>Delta_Recovered</th>\n",
              "      <th>Delta_Deaths</th>\n",
              "      <th>State_Notes</th>\n",
              "      <th>Population</th>\n",
              "      <th>Density</th>\n",
              "      <th>0-4</th>\n",
              "      <th>2020-05-09 00:00:00</th>\n",
              "      <th>2020-10-14 00:00:00</th>\n",
              "      <th>15-19</th>\n",
              "      <th>20-24</th>\n",
              "      <th>25-29</th>\n",
              "      <th>30-34</th>\n",
              "      <th>35-39</th>\n",
              "      <th>40-44</th>\n",
              "      <th>45-49</th>\n",
              "      <th>50-54</th>\n",
              "      <th>55-59</th>\n",
              "      <th>60-64</th>\n",
              "      <th>65-69</th>\n",
              "      <th>70-74</th>\n",
              "      <th>75-79</th>\n",
              "      <th>80+</th>\n",
              "      <th>Health Workers(%)</th>\n",
              "      <th>Police Force</th>\n",
              "      <th>Vaccination Centres</th>\n",
              "      <th>50+</th>\n",
              "    </tr>\n",
              "  </thead>\n",
              "  <tbody>\n",
              "    <tr>\n",
              "      <th>1</th>\n",
              "      <td>Maharashtra</td>\n",
              "      <td>NaN</td>\n",
              "      <td>1913382</td>\n",
              "      <td>1806298</td>\n",
              "      <td>49129</td>\n",
              "      <td>56823</td>\n",
              "      <td>25-12-2020 22:43</td>\n",
              "      <td>1132</td>\n",
              "      <td>MH</td>\n",
              "      <td>3431</td>\n",
              "      <td>1427</td>\n",
              "      <td>71</td>\n",
              "      <td>NaN</td>\n",
              "      <td>120837347.0</td>\n",
              "      <td>365.0</td>\n",
              "      <td>9362026.0</td>\n",
              "      <td>9820654.0</td>\n",
              "      <td>10734535.0</td>\n",
              "      <td>10627267.0</td>\n",
              "      <td>11090966.0</td>\n",
              "      <td>10147113.0</td>\n",
              "      <td>8796307.0</td>\n",
              "      <td>8247160.0</td>\n",
              "      <td>7196089.0</td>\n",
              "      <td>6032454.0</td>\n",
              "      <td>4919317.0</td>\n",
              "      <td>3885814.0</td>\n",
              "      <td>3642480.0</td>\n",
              "      <td>3078352.0</td>\n",
              "      <td>2143136.0</td>\n",
              "      <td>1062773.0</td>\n",
              "      <td>1180194.0</td>\n",
              "      <td>13.67</td>\n",
              "      <td>213382.0</td>\n",
              "      <td>3239.0</td>\n",
              "      <td>8805131.0</td>\n",
              "    </tr>\n",
              "    <tr>\n",
              "      <th>2</th>\n",
              "      <td>Karnataka</td>\n",
              "      <td>NaN</td>\n",
              "      <td>914488</td>\n",
              "      <td>888917</td>\n",
              "      <td>12044</td>\n",
              "      <td>13508</td>\n",
              "      <td>25-12-2020 20:23</td>\n",
              "      <td>19</td>\n",
              "      <td>KA</td>\n",
              "      <td>1005</td>\n",
              "      <td>1102</td>\n",
              "      <td>5</td>\n",
              "      <td>NaN</td>\n",
              "      <td>66165886.0</td>\n",
              "      <td>319.0</td>\n",
              "      <td>5046719.0</td>\n",
              "      <td>5241509.0</td>\n",
              "      <td>5736646.0</td>\n",
              "      <td>5827277.0</td>\n",
              "      <td>6052558.0</td>\n",
              "      <td>5771606.0</td>\n",
              "      <td>4698380.0</td>\n",
              "      <td>4695451.0</td>\n",
              "      <td>3826712.0</td>\n",
              "      <td>3519782.0</td>\n",
              "      <td>2699270.0</td>\n",
              "      <td>2142504.0</td>\n",
              "      <td>2060052.0</td>\n",
              "      <td>1520119.0</td>\n",
              "      <td>1061125.0</td>\n",
              "      <td>524426.0</td>\n",
              "      <td>625310.0</td>\n",
              "      <td>5.27</td>\n",
              "      <td>89009.0</td>\n",
              "      <td>2943.0</td>\n",
              "      <td>4841774.0</td>\n",
              "    </tr>\n",
              "    <tr>\n",
              "      <th>3</th>\n",
              "      <td>Andhra Pradesh</td>\n",
              "      <td>NaN</td>\n",
              "      <td>880430</td>\n",
              "      <td>869478</td>\n",
              "      <td>7091</td>\n",
              "      <td>3861</td>\n",
              "      <td>25-12-2020 19:09</td>\n",
              "      <td>0</td>\n",
              "      <td>AP</td>\n",
              "      <td>355</td>\n",
              "      <td>354</td>\n",
              "      <td>2</td>\n",
              "      <td>NaN</td>\n",
              "      <td>52883163.0</td>\n",
              "      <td>308.0</td>\n",
              "      <td>6284765.0</td>\n",
              "      <td>7304432.0</td>\n",
              "      <td>8201595.0</td>\n",
              "      <td>8093747.0</td>\n",
              "      <td>8132094.0</td>\n",
              "      <td>7799036.0</td>\n",
              "      <td>6584371.0</td>\n",
              "      <td>6507339.0</td>\n",
              "      <td>5399473.0</td>\n",
              "      <td>4657269.0</td>\n",
              "      <td>3657386.0</td>\n",
              "      <td>2909598.0</td>\n",
              "      <td>3199837.0</td>\n",
              "      <td>2167854.0</td>\n",
              "      <td>1519358.0</td>\n",
              "      <td>636989.0</td>\n",
              "      <td>754203.0</td>\n",
              "      <td>7.83</td>\n",
              "      <td>61168.0</td>\n",
              "      <td>1666.0</td>\n",
              "      <td>6566984.0</td>\n",
              "    </tr>\n",
              "    <tr>\n",
              "      <th>4</th>\n",
              "      <td>Tamil Nadu</td>\n",
              "      <td>NaN</td>\n",
              "      <td>812142</td>\n",
              "      <td>790965</td>\n",
              "      <td>12048</td>\n",
              "      <td>9129</td>\n",
              "      <td>25-12-2020 19:30</td>\n",
              "      <td>0</td>\n",
              "      <td>TN</td>\n",
              "      <td>1027</td>\n",
              "      <td>1103</td>\n",
              "      <td>12</td>\n",
              "      <td>NaN</td>\n",
              "      <td>76481545.0</td>\n",
              "      <td>555.0</td>\n",
              "      <td>5278701.0</td>\n",
              "      <td>5551255.0</td>\n",
              "      <td>6177547.0</td>\n",
              "      <td>6253792.0</td>\n",
              "      <td>6411543.0</td>\n",
              "      <td>6663746.0</td>\n",
              "      <td>5815560.0</td>\n",
              "      <td>5836456.0</td>\n",
              "      <td>5064209.0</td>\n",
              "      <td>4713056.0</td>\n",
              "      <td>3703460.0</td>\n",
              "      <td>3101142.0</td>\n",
              "      <td>2782608.0</td>\n",
              "      <td>1868370.0</td>\n",
              "      <td>1406529.0</td>\n",
              "      <td>710241.0</td>\n",
              "      <td>742010.0</td>\n",
              "      <td>6.72</td>\n",
              "      <td>110186.0</td>\n",
              "      <td>2581.0</td>\n",
              "      <td>6804602.0</td>\n",
              "    </tr>\n",
              "    <tr>\n",
              "      <th>5</th>\n",
              "      <td>Kerala</td>\n",
              "      <td>NaN</td>\n",
              "      <td>732085</td>\n",
              "      <td>664951</td>\n",
              "      <td>2931</td>\n",
              "      <td>64032</td>\n",
              "      <td>25-12-2020 21:52</td>\n",
              "      <td>171</td>\n",
              "      <td>KL</td>\n",
              "      <td>5397</td>\n",
              "      <td>4506</td>\n",
              "      <td>16</td>\n",
              "      <td>NaN</td>\n",
              "      <td>35330888.0</td>\n",
              "      <td>860.0</td>\n",
              "      <td>2453092.0</td>\n",
              "      <td>2555112.0</td>\n",
              "      <td>2822770.0</td>\n",
              "      <td>2610552.0</td>\n",
              "      <td>2665809.0</td>\n",
              "      <td>2604092.0</td>\n",
              "      <td>2455501.0</td>\n",
              "      <td>2579673.0</td>\n",
              "      <td>2412498.0</td>\n",
              "      <td>2348530.0</td>\n",
              "      <td>1928145.0</td>\n",
              "      <td>1742408.0</td>\n",
              "      <td>1414671.0</td>\n",
              "      <td>1002134.0</td>\n",
              "      <td>733372.0</td>\n",
              "      <td>501367.0</td>\n",
              "      <td>541849.0</td>\n",
              "      <td>6.06</td>\n",
              "      <td>48860.0</td>\n",
              "      <td>1297.0</td>\n",
              "      <td>3670553.0</td>\n",
              "    </tr>\n",
              "  </tbody>\n",
              "</table>\n",
              "</div>"
            ],
            "text/plain": [
              "            State  Unnamed: 1  ...  Vaccination Centres        50+\n",
              "1     Maharashtra         NaN  ...               3239.0  8805131.0\n",
              "2       Karnataka         NaN  ...               2943.0  4841774.0\n",
              "3  Andhra Pradesh         NaN  ...               1666.0  6566984.0\n",
              "4      Tamil Nadu         NaN  ...               2581.0  6804602.0\n",
              "5          Kerala         NaN  ...               1297.0  3670553.0\n",
              "\n",
              "[5 rows x 36 columns]"
            ]
          },
          "metadata": {
            "tags": []
          },
          "execution_count": 8
        }
      ]
    },
    {
      "cell_type": "code",
      "metadata": {
        "colab": {
          "base_uri": "https://localhost:8080/",
          "height": 545
        },
        "id": "BARL0JYO8bKr",
        "outputId": "776abb3f-09f0-43cb-e72f-b87224c4e4cf"
      },
      "source": [
        "sns.set(style='darkgrid')\r\n",
        "sns.barplot(x='State',\r\n",
        "                y='50+',\r\n",
        "                data=df.iloc[1:10])"
      ],
      "execution_count": null,
      "outputs": [
        {
          "output_type": "execute_result",
          "data": {
            "text/plain": [
              "<matplotlib.axes._subplots.AxesSubplot at 0x7f8515952438>"
            ]
          },
          "metadata": {
            "tags": []
          },
          "execution_count": 9
        },
        {
          "output_type": "display_data",
          "data": {
            "image/png": "[encoded data removed]",
            "text/plain": [
              "<Figure size 1130.4x595.44 with 1 Axes>"
            ]
          },
          "metadata": {
            "tags": []
          }
        }
      ]
    },
    {
      "cell_type": "code",
      "metadata": {
        "colab": {
          "base_uri": "https://localhost:8080/",
          "height": 534
        },
        "id": "gem1TTrq8m0r",
        "outputId": "9700741b-6647-4f2a-b6e9-f979c6cfbf06"
      },
      "source": [
        "sns.set(style='darkgrid')\r\n",
        "sns.barplot(x='State',\r\n",
        "                y='Confirmed',\r\n",
        "                data=df.iloc[1:10])"
      ],
      "execution_count": null,
      "outputs": [
        {
          "output_type": "execute_result",
          "data": {
            "text/plain": [
              "<matplotlib.axes._subplots.AxesSubplot at 0x7f85163fbe48>"
            ]
          },
          "metadata": {
            "tags": []
          },
          "execution_count": 10
        },
        {
          "output_type": "display_data",
          "data": {
            "image/png": "[encoded data removed]",
            "text/plain": [
              "<Figure size 1130.4x595.44 with 1 Axes>"
            ]
          },
          "metadata": {
            "tags": []
          }
        }
      ]
    },
    {
      "cell_type": "code",
      "metadata": {
        "id": "hB1tOCbC9-z8"
      },
      "source": [
        "from sklearn.cluster import KMeans\r\n",
        "wcss=[]"
      ],
      "execution_count": null,
      "outputs": []
    },
    {
      "cell_type": "code",
      "metadata": {
        "id": "FtESp7cJwYMw"
      },
      "source": [
        "X1=df[['Active','50+','State']].dropna()"
      ],
      "execution_count": null,
      "outputs": []
    },
    {
      "cell_type": "code",
      "metadata": {
        "id": "-XkpVjpfwfIA"
      },
      "source": [
        "X=X1[['Active','50+']]"
      ],
      "execution_count": null,
      "outputs": []
    },
    {
      "cell_type": "code",
      "metadata": {
        "colab": {
          "base_uri": "https://localhost:8080/"
        },
        "id": "q6PPUePg-Hg0",
        "outputId": "a2da09c1-dc44-48c2-f9ed-6a2c3b2d53f6"
      },
      "source": [
        "type(X)"
      ],
      "execution_count": null,
      "outputs": [
        {
          "output_type": "execute_result",
          "data": {
            "text/plain": [
              "pandas.core.frame.DataFrame"
            ]
          },
          "metadata": {
            "tags": []
          },
          "execution_count": 14
        }
      ]
    },
    {
      "cell_type": "code",
      "metadata": {
        "id": "Uddm4Qpf-dw9"
      },
      "source": [
        "X=X.values"
      ],
      "execution_count": null,
      "outputs": []
    },
    {
      "cell_type": "code",
      "metadata": {
        "colab": {
          "base_uri": "https://localhost:8080/"
        },
        "id": "adgtc5Gr-ggd",
        "outputId": "85613801-cfc3-4ac2-be69-4183edd615a1"
      },
      "source": [
        "X"
      ],
      "execution_count": null,
      "outputs": [
        {
          "output_type": "execute_result",
          "data": {
            "text/plain": [
              "array([[5.6823000e+04, 8.8051310e+06],\n",
              "       [1.3508000e+04, 4.8417740e+06],\n",
              "       [3.8610000e+03, 6.5669840e+06],\n",
              "       [9.1290000e+03, 6.8046020e+06],\n",
              "       [6.4032000e+04, 3.6705530e+06],\n",
              "       [7.2670000e+03, 1.1963610e+06],\n",
              "       [1.6159000e+04, 1.2051169e+07],\n",
              "       [1.4749000e+04, 7.5265300e+06],\n",
              "       [2.5830000e+03, 3.3315320e+06],\n",
              "       [1.1700000e+04, 4.4142570e+06],\n",
              "       [1.4759000e+04, 1.7823000e+06],\n",
              "       [4.7500000e+03, 1.7161660e+06],\n",
              "       [5.3470000e+03, 6.1094180e+06],\n",
              "       [1.0531000e+04, 4.7521300e+06],\n",
              "       [1.0461000e+04, 4.7524490e+06],\n",
              "       [3.4220000e+03, 2.0491880e+06],\n",
              "       [4.7070000e+03, 2.2110190e+06],\n",
              "       [3.4140000e+03, 8.0859700e+05],\n",
              "       [1.5870000e+03, 2.1714150e+06],\n",
              "       [5.5100000e+03, 7.1561900e+05],\n",
              "       [4.3470000e+03, 5.9754700e+05],\n",
              "       [9.8000000e+02, 1.4214500e+05],\n",
              "       [3.4900000e+02, 1.1103200e+05],\n",
              "       [1.8400000e+02, 2.7906000e+05],\n",
              "       [1.3520000e+03, 2.0977600e+05],\n",
              "       [3.4500000e+02, 8.1867000e+04],\n",
              "       [1.6800000e+02, 7.5996000e+04],\n",
              "       [2.9400000e+02, 1.4885200e+05],\n",
              "       [2.7400000e+02, 1.0925700e+05],\n",
              "       [4.1800000e+02, 4.1973000e+04],\n",
              "       [6.9000000e+01, 3.1090000e+04],\n",
              "       [1.3400000e+02, 7.5433000e+04],\n",
              "       [1.2000000e+01, 2.8120000e+04],\n",
              "       [0.0000000e+00, 5.9670000e+03]])"
            ]
          },
          "metadata": {
            "tags": []
          },
          "execution_count": 16
        }
      ]
    },
    {
      "cell_type": "code",
      "metadata": {
        "colab": {
          "base_uri": "https://localhost:8080/"
        },
        "id": "aTb1tGhO2p_a",
        "outputId": "4afbed17-d30a-49a0-8721-30ce3cd11cdc"
      },
      "source": [
        "len(X)"
      ],
      "execution_count": null,
      "outputs": [
        {
          "output_type": "execute_result",
          "data": {
            "text/plain": [
              "34"
            ]
          },
          "metadata": {
            "tags": []
          },
          "execution_count": 17
        }
      ]
    },
    {
      "cell_type": "code",
      "metadata": {
        "id": "YOHEo-xE-rHx"
      },
      "source": [
        "for i in range(1,11): \r\n",
        "     kmeans = KMeans(n_clusters=i, init ='k-means++', max_iter=300,  n_init=10,random_state=0 )\r\n",
        "     kmeans.fit(X)\r\n",
        "     wcss.append(kmeans.inertia_)"
      ],
      "execution_count": null,
      "outputs": []
    },
    {
      "cell_type": "code",
      "metadata": {
        "colab": {
          "base_uri": "https://localhost:8080/",
          "height": 533
        },
        "id": "Oo32em-y-xzf",
        "outputId": "d5300c8b-65fd-4b91-eda5-bcea2c0a174a"
      },
      "source": [
        "plt.plot(range(1,11),wcss)\r\n",
        "plt.title('The Elbow Method Graph')\r\n",
        "plt.xlabel('Number of clusters')\r\n",
        "plt.ylabel('WCSS')\r\n",
        "plt.show()"
      ],
      "execution_count": null,
      "outputs": [
        {
          "output_type": "display_data",
          "data": {
            "image/png": "[encoded data removed]",
            "text/plain": [
              "<Figure size 1130.4x595.44 with 1 Axes>"
            ]
          },
          "metadata": {
            "tags": []
          }
        }
      ]
    },
    {
      "cell_type": "code",
      "metadata": {
        "id": "OQJWoype-3E2"
      },
      "source": [
        "kmeans = KMeans(n_clusters=3, init ='k-means++', max_iter=300, n_init=10,random_state=0 )"
      ],
      "execution_count": null,
      "outputs": []
    },
    {
      "cell_type": "code",
      "metadata": {
        "id": "8tp1k-op-7qX"
      },
      "source": [
        "y_kmeans = kmeans.fit_predict(X)"
      ],
      "execution_count": null,
      "outputs": []
    },
    {
      "cell_type": "code",
      "metadata": {
        "colab": {
          "base_uri": "https://localhost:8080/"
        },
        "id": "1yJxeLEA-84P",
        "outputId": "1c774569-2319-4f3a-d0eb-dc1bd3cbd8cc"
      },
      "source": [
        "type(y_kmeans)"
      ],
      "execution_count": null,
      "outputs": [
        {
          "output_type": "execute_result",
          "data": {
            "text/plain": [
              "numpy.ndarray"
            ]
          },
          "metadata": {
            "tags": []
          },
          "execution_count": 22
        }
      ]
    },
    {
      "cell_type": "code",
      "metadata": {
        "colab": {
          "base_uri": "https://localhost:8080/"
        },
        "id": "KFlJ67e2_Bgi",
        "outputId": "1ea375f7-6c71-4083-e0a7-c0a3eba41709"
      },
      "source": [
        "y_kmeans"
      ],
      "execution_count": null,
      "outputs": [
        {
          "output_type": "execute_result",
          "data": {
            "text/plain": [
              "array([2, 0, 0, 0, 0, 1, 2, 2, 0, 0, 1, 1, 0, 0, 0, 1, 1, 1, 1, 1, 1, 1,\n",
              "       1, 1, 1, 1, 1, 1, 1, 1, 1, 1, 1, 1], dtype=int32)"
            ]
          },
          "metadata": {
            "tags": []
          },
          "execution_count": 23
        }
      ]
    },
    {
      "cell_type": "code",
      "metadata": {
        "colab": {
          "base_uri": "https://localhost:8080/",
          "height": 533
        },
        "id": "abbduFjk_PS4",
        "outputId": "f7477ae9-230f-4fc3-c032-b44247182a9a"
      },
      "source": [
        "plt.scatter(X[y_kmeans==0, 0], X[y_kmeans==0, 1], s=100, c='red', label ='Cluster 1')\r\n",
        "plt.scatter(X[y_kmeans==1, 0], X[y_kmeans==1, 1], s=100, c='blue', label ='Cluster 2')\r\n",
        "plt.scatter(X[y_kmeans==2, 0], X[y_kmeans==2, 1], s=100, c='green', label ='Cluster 3')\r\n",
        "plt.scatter(kmeans.cluster_centers_[:, 0], kmeans.cluster_centers_[:, 1], s=300, c='yellow', label = 'Centroids')\r\n",
        "plt.title('Clusters of Customers')\r\n",
        "plt.xlabel('Annual Income(k$)')\r\n",
        "plt.ylabel('Spending Score(1-100')\r\n",
        "plt.show()"
      ],
      "execution_count": null,
      "outputs": [
        {
          "output_type": "display_data",
          "data": {
            "image/png": "[encoded data removed]",
            "text/plain": [
              "<Figure size 1130.4x595.44 with 1 Axes>"
            ]
          },
          "metadata": {
            "tags": []
          }
        }
      ]
    },
    {
      "cell_type": "code",
      "metadata": {
        "colab": {
          "base_uri": "https://localhost:8080/"
        },
        "id": "_oy0mSmg_WbA",
        "outputId": "9e12de6e-d7cb-403e-8474-62d3c86ec66f"
      },
      "source": [
        " for i in range(len(y_kmeans)):\r\n",
        "   print(df['State'].iloc[i:i+1],y_kmeans[i])"
      ],
      "execution_count": null,
      "outputs": [
        {
          "output_type": "stream",
          "text": [
            "1    Maharashtra\n",
            "Name: State, dtype: object 2\n",
            "2    Karnataka\n",
            "Name: State, dtype: object 0\n",
            "3    Andhra Pradesh\n",
            "Name: State, dtype: object 0\n",
            "4    Tamil Nadu\n",
            "Name: State, dtype: object 0\n",
            "5    Kerala\n",
            "Name: State, dtype: object 0\n",
            "6    Delhi\n",
            "Name: State, dtype: object 1\n",
            "7    Uttar Pradesh\n",
            "Name: State, dtype: object 2\n",
            "8    West Bengal\n",
            "Name: State, dtype: object 2\n",
            "9    Odisha\n",
            "Name: State, dtype: object 0\n",
            "10    Rajasthan\n",
            "Name: State, dtype: object 0\n",
            "11    Telangana\n",
            "Name: State, dtype: object 1\n",
            "12    Chhattisgarh\n",
            "Name: State, dtype: object 1\n",
            "13    Haryana\n",
            "Name: State, dtype: object 0\n",
            "14    Bihar\n",
            "Name: State, dtype: object 0\n",
            "15    Gujarat\n",
            "Name: State, dtype: object 0\n",
            "16    Madhya Pradesh\n",
            "Name: State, dtype: object 1\n",
            "17    Assam\n",
            "Name: State, dtype: object 1\n",
            "18    Punjab\n",
            "Name: State, dtype: object 1\n",
            "19    Jammu and Kashmir\n",
            "Name: State, dtype: object 1\n",
            "20    Jharkhand\n",
            "Name: State, dtype: object 1\n",
            "21    Uttarakhand\n",
            "Name: State, dtype: object 1\n",
            "22    Himachal Pradesh\n",
            "Name: State, dtype: object 1\n",
            "23    Goa\n",
            "Name: State, dtype: object 1\n",
            "24    Puducherry\n",
            "Name: State, dtype: object 1\n",
            "25    Tripura\n",
            "Name: State, dtype: object 1\n",
            "26    Manipur\n",
            "Name: State, dtype: object 1\n",
            "27    Chandigarh\n",
            "Name: State, dtype: object 1\n",
            "28    Arunachal Pradesh\n",
            "Name: State, dtype: object 1\n",
            "29    Meghalaya\n",
            "Name: State, dtype: object 1\n",
            "30    Nagaland\n",
            "Name: State, dtype: object 1\n",
            "31    Ladakh\n",
            "Name: State, dtype: object 1\n",
            "32    Sikkim\n",
            "Name: State, dtype: object 1\n",
            "33    Andaman and Nicobar Islands\n",
            "Name: State, dtype: object 1\n",
            "34    Mizoram\n",
            "Name: State, dtype: object 1\n"
          ],
          "name": "stdout"
        }
      ]
    },
    {
      "cell_type": "code",
      "metadata": {
        "id": "l_4LdrTXj0qO"
      },
      "source": [
        "X1.reset_index(inplace=True)"
      ],
      "execution_count": null,
      "outputs": []
    },
    {
      "cell_type": "code",
      "metadata": {
        "colab": {
          "base_uri": "https://localhost:8080/",
          "height": 1000
        },
        "id": "zpE39sQK0Rhr",
        "outputId": "9a740d1d-379f-4919-eebe-387c51a18d19"
      },
      "source": [
        "X1"
      ],
      "execution_count": null,
      "outputs": [
        {
          "output_type": "execute_result",
          "data": {
            "text/html": [
              "<div>\n",
              "<style scoped>\n",
              "    .dataframe tbody tr th:only-of-type {\n",
              "        vertical-align: middle;\n",
              "    }\n",
              "\n",
              "    .dataframe tbody tr th {\n",
              "        vertical-align: top;\n",
              "    }\n",
              "\n",
              "    .dataframe thead th {\n",
              "        text-align: right;\n",
              "    }\n",
              "</style>\n",
              "<table border=\"1\" class=\"dataframe\">\n",
              "  <thead>\n",
              "    <tr style=\"text-align: right;\">\n",
              "      <th></th>\n",
              "      <th>index</th>\n",
              "      <th>Active</th>\n",
              "      <th>50+</th>\n",
              "      <th>State</th>\n",
              "    </tr>\n",
              "  </thead>\n",
              "  <tbody>\n",
              "    <tr>\n",
              "      <th>0</th>\n",
              "      <td>1</td>\n",
              "      <td>56823</td>\n",
              "      <td>8805131.0</td>\n",
              "      <td>Maharashtra</td>\n",
              "    </tr>\n",
              "    <tr>\n",
              "      <th>1</th>\n",
              "      <td>2</td>\n",
              "      <td>13508</td>\n",
              "      <td>4841774.0</td>\n",
              "      <td>Karnataka</td>\n",
              "    </tr>\n",
              "    <tr>\n",
              "      <th>2</th>\n",
              "      <td>3</td>\n",
              "      <td>3861</td>\n",
              "      <td>6566984.0</td>\n",
              "      <td>Andhra Pradesh</td>\n",
              "    </tr>\n",
              "    <tr>\n",
              "      <th>3</th>\n",
              "      <td>4</td>\n",
              "      <td>9129</td>\n",
              "      <td>6804602.0</td>\n",
              "      <td>Tamil Nadu</td>\n",
              "    </tr>\n",
              "    <tr>\n",
              "      <th>4</th>\n",
              "      <td>5</td>\n",
              "      <td>64032</td>\n",
              "      <td>3670553.0</td>\n",
              "      <td>Kerala</td>\n",
              "    </tr>\n",
              "    <tr>\n",
              "      <th>5</th>\n",
              "      <td>6</td>\n",
              "      <td>7267</td>\n",
              "      <td>1196361.0</td>\n",
              "      <td>Delhi</td>\n",
              "    </tr>\n",
              "    <tr>\n",
              "      <th>6</th>\n",
              "      <td>7</td>\n",
              "      <td>16159</td>\n",
              "      <td>12051169.0</td>\n",
              "      <td>Uttar Pradesh</td>\n",
              "    </tr>\n",
              "    <tr>\n",
              "      <th>7</th>\n",
              "      <td>8</td>\n",
              "      <td>14749</td>\n",
              "      <td>7526530.0</td>\n",
              "      <td>West Bengal</td>\n",
              "    </tr>\n",
              "    <tr>\n",
              "      <th>8</th>\n",
              "      <td>9</td>\n",
              "      <td>2583</td>\n",
              "      <td>3331532.0</td>\n",
              "      <td>Odisha</td>\n",
              "    </tr>\n",
              "    <tr>\n",
              "      <th>9</th>\n",
              "      <td>10</td>\n",
              "      <td>11700</td>\n",
              "      <td>4414257.0</td>\n",
              "      <td>Rajasthan</td>\n",
              "    </tr>\n",
              "    <tr>\n",
              "      <th>10</th>\n",
              "      <td>12</td>\n",
              "      <td>14759</td>\n",
              "      <td>1782300.0</td>\n",
              "      <td>Chhattisgarh</td>\n",
              "    </tr>\n",
              "    <tr>\n",
              "      <th>11</th>\n",
              "      <td>13</td>\n",
              "      <td>4750</td>\n",
              "      <td>1716166.0</td>\n",
              "      <td>Haryana</td>\n",
              "    </tr>\n",
              "    <tr>\n",
              "      <th>12</th>\n",
              "      <td>14</td>\n",
              "      <td>5347</td>\n",
              "      <td>6109418.0</td>\n",
              "      <td>Bihar</td>\n",
              "    </tr>\n",
              "    <tr>\n",
              "      <th>13</th>\n",
              "      <td>15</td>\n",
              "      <td>10531</td>\n",
              "      <td>4752130.0</td>\n",
              "      <td>Gujarat</td>\n",
              "    </tr>\n",
              "    <tr>\n",
              "      <th>14</th>\n",
              "      <td>16</td>\n",
              "      <td>10461</td>\n",
              "      <td>4752449.0</td>\n",
              "      <td>Madhya Pradesh</td>\n",
              "    </tr>\n",
              "    <tr>\n",
              "      <th>15</th>\n",
              "      <td>17</td>\n",
              "      <td>3422</td>\n",
              "      <td>2049188.0</td>\n",
              "      <td>Assam</td>\n",
              "    </tr>\n",
              "    <tr>\n",
              "      <th>16</th>\n",
              "      <td>18</td>\n",
              "      <td>4707</td>\n",
              "      <td>2211019.0</td>\n",
              "      <td>Punjab</td>\n",
              "    </tr>\n",
              "    <tr>\n",
              "      <th>17</th>\n",
              "      <td>19</td>\n",
              "      <td>3414</td>\n",
              "      <td>808597.0</td>\n",
              "      <td>Jammu and Kashmir</td>\n",
              "    </tr>\n",
              "    <tr>\n",
              "      <th>18</th>\n",
              "      <td>20</td>\n",
              "      <td>1587</td>\n",
              "      <td>2171415.0</td>\n",
              "      <td>Jharkhand</td>\n",
              "    </tr>\n",
              "    <tr>\n",
              "      <th>19</th>\n",
              "      <td>21</td>\n",
              "      <td>5510</td>\n",
              "      <td>715619.0</td>\n",
              "      <td>Uttarakhand</td>\n",
              "    </tr>\n",
              "    <tr>\n",
              "      <th>20</th>\n",
              "      <td>22</td>\n",
              "      <td>4347</td>\n",
              "      <td>597547.0</td>\n",
              "      <td>Himachal Pradesh</td>\n",
              "    </tr>\n",
              "    <tr>\n",
              "      <th>21</th>\n",
              "      <td>23</td>\n",
              "      <td>980</td>\n",
              "      <td>142145.0</td>\n",
              "      <td>Goa</td>\n",
              "    </tr>\n",
              "    <tr>\n",
              "      <th>22</th>\n",
              "      <td>24</td>\n",
              "      <td>349</td>\n",
              "      <td>111032.0</td>\n",
              "      <td>Puducherry</td>\n",
              "    </tr>\n",
              "    <tr>\n",
              "      <th>23</th>\n",
              "      <td>25</td>\n",
              "      <td>184</td>\n",
              "      <td>279060.0</td>\n",
              "      <td>Tripura</td>\n",
              "    </tr>\n",
              "    <tr>\n",
              "      <th>24</th>\n",
              "      <td>26</td>\n",
              "      <td>1352</td>\n",
              "      <td>209776.0</td>\n",
              "      <td>Manipur</td>\n",
              "    </tr>\n",
              "    <tr>\n",
              "      <th>25</th>\n",
              "      <td>27</td>\n",
              "      <td>345</td>\n",
              "      <td>81867.0</td>\n",
              "      <td>Chandigarh</td>\n",
              "    </tr>\n",
              "    <tr>\n",
              "      <th>26</th>\n",
              "      <td>28</td>\n",
              "      <td>168</td>\n",
              "      <td>75996.0</td>\n",
              "      <td>Arunachal Pradesh</td>\n",
              "    </tr>\n",
              "    <tr>\n",
              "      <th>27</th>\n",
              "      <td>29</td>\n",
              "      <td>294</td>\n",
              "      <td>148852.0</td>\n",
              "      <td>Meghalaya</td>\n",
              "    </tr>\n",
              "    <tr>\n",
              "      <th>28</th>\n",
              "      <td>30</td>\n",
              "      <td>274</td>\n",
              "      <td>109257.0</td>\n",
              "      <td>Nagaland</td>\n",
              "    </tr>\n",
              "    <tr>\n",
              "      <th>29</th>\n",
              "      <td>32</td>\n",
              "      <td>418</td>\n",
              "      <td>41973.0</td>\n",
              "      <td>Sikkim</td>\n",
              "    </tr>\n",
              "    <tr>\n",
              "      <th>30</th>\n",
              "      <td>33</td>\n",
              "      <td>69</td>\n",
              "      <td>31090.0</td>\n",
              "      <td>Andaman and Nicobar Islands</td>\n",
              "    </tr>\n",
              "    <tr>\n",
              "      <th>31</th>\n",
              "      <td>34</td>\n",
              "      <td>134</td>\n",
              "      <td>75433.0</td>\n",
              "      <td>Mizoram</td>\n",
              "    </tr>\n",
              "    <tr>\n",
              "      <th>32</th>\n",
              "      <td>35</td>\n",
              "      <td>12</td>\n",
              "      <td>28120.0</td>\n",
              "      <td>Dadra and Nagar Haveli and Daman and Diu</td>\n",
              "    </tr>\n",
              "    <tr>\n",
              "      <th>33</th>\n",
              "      <td>37</td>\n",
              "      <td>0</td>\n",
              "      <td>5967.0</td>\n",
              "      <td>Lakshadweep</td>\n",
              "    </tr>\n",
              "  </tbody>\n",
              "</table>\n",
              "</div>"
            ],
            "text/plain": [
              "    index  Active         50+                                     State\n",
              "0       1   56823   8805131.0                               Maharashtra\n",
              "1       2   13508   4841774.0                                 Karnataka\n",
              "2       3    3861   6566984.0                            Andhra Pradesh\n",
              "3       4    9129   6804602.0                                Tamil Nadu\n",
              "4       5   64032   3670553.0                                    Kerala\n",
              "5       6    7267   1196361.0                                     Delhi\n",
              "6       7   16159  12051169.0                             Uttar Pradesh\n",
              "7       8   14749   7526530.0                               West Bengal\n",
              "8       9    2583   3331532.0                                    Odisha\n",
              "9      10   11700   4414257.0                                 Rajasthan\n",
              "10     12   14759   1782300.0                              Chhattisgarh\n",
              "11     13    4750   1716166.0                                   Haryana\n",
              "12     14    5347   6109418.0                                     Bihar\n",
              "13     15   10531   4752130.0                                   Gujarat\n",
              "14     16   10461   4752449.0                            Madhya Pradesh\n",
              "15     17    3422   2049188.0                                     Assam\n",
              "16     18    4707   2211019.0                                    Punjab\n",
              "17     19    3414    808597.0                         Jammu and Kashmir\n",
              "18     20    1587   2171415.0                                 Jharkhand\n",
              "19     21    5510    715619.0                               Uttarakhand\n",
              "20     22    4347    597547.0                          Himachal Pradesh\n",
              "21     23     980    142145.0                                       Goa\n",
              "22     24     349    111032.0                                Puducherry\n",
              "23     25     184    279060.0                                   Tripura\n",
              "24     26    1352    209776.0                                   Manipur\n",
              "25     27     345     81867.0                                Chandigarh\n",
              "26     28     168     75996.0                         Arunachal Pradesh\n",
              "27     29     294    148852.0                                 Meghalaya\n",
              "28     30     274    109257.0                                  Nagaland\n",
              "29     32     418     41973.0                                    Sikkim\n",
              "30     33      69     31090.0               Andaman and Nicobar Islands\n",
              "31     34     134     75433.0                                   Mizoram\n",
              "32     35      12     28120.0  Dadra and Nagar Haveli and Daman and Diu\n",
              "33     37       0      5967.0                               Lakshadweep"
            ]
          },
          "metadata": {
            "tags": []
          },
          "execution_count": 27
        }
      ]
    },
    {
      "cell_type": "code",
      "metadata": {
        "colab": {
          "base_uri": "https://localhost:8080/",
          "height": 195
        },
        "id": "82XxRZzkj-nF",
        "outputId": "2eba7ae3-52d8-4b83-9ea8-bb29358c1293"
      },
      "source": [
        "active_index=X1[['State']]\r\n",
        "active_index.head()"
      ],
      "execution_count": null,
      "outputs": [
        {
          "output_type": "execute_result",
          "data": {
            "text/html": [
              "<div>\n",
              "<style scoped>\n",
              "    .dataframe tbody tr th:only-of-type {\n",
              "        vertical-align: middle;\n",
              "    }\n",
              "\n",
              "    .dataframe tbody tr th {\n",
              "        vertical-align: top;\n",
              "    }\n",
              "\n",
              "    .dataframe thead th {\n",
              "        text-align: right;\n",
              "    }\n",
              "</style>\n",
              "<table border=\"1\" class=\"dataframe\">\n",
              "  <thead>\n",
              "    <tr style=\"text-align: right;\">\n",
              "      <th></th>\n",
              "      <th>State</th>\n",
              "    </tr>\n",
              "  </thead>\n",
              "  <tbody>\n",
              "    <tr>\n",
              "      <th>0</th>\n",
              "      <td>Maharashtra</td>\n",
              "    </tr>\n",
              "    <tr>\n",
              "      <th>1</th>\n",
              "      <td>Karnataka</td>\n",
              "    </tr>\n",
              "    <tr>\n",
              "      <th>2</th>\n",
              "      <td>Andhra Pradesh</td>\n",
              "    </tr>\n",
              "    <tr>\n",
              "      <th>3</th>\n",
              "      <td>Tamil Nadu</td>\n",
              "    </tr>\n",
              "    <tr>\n",
              "      <th>4</th>\n",
              "      <td>Kerala</td>\n",
              "    </tr>\n",
              "  </tbody>\n",
              "</table>\n",
              "</div>"
            ],
            "text/plain": [
              "            State\n",
              "0     Maharashtra\n",
              "1       Karnataka\n",
              "2  Andhra Pradesh\n",
              "3      Tamil Nadu\n",
              "4          Kerala"
            ]
          },
          "metadata": {
            "tags": []
          },
          "execution_count": 28
        }
      ]
    },
    {
      "cell_type": "code",
      "metadata": {
        "id": "FNbApBgZjvA-"
      },
      "source": [
        ""
      ],
      "execution_count": null,
      "outputs": []
    },
    {
      "cell_type": "code",
      "metadata": {
        "colab": {
          "base_uri": "https://localhost:8080/"
        },
        "id": "DxZ-1JF723mH",
        "outputId": "948c1b4e-0716-4cbc-94c9-2945b3a4e9c4"
      },
      "source": [
        "len(y_kmeans)"
      ],
      "execution_count": null,
      "outputs": [
        {
          "output_type": "execute_result",
          "data": {
            "text/plain": [
              "34"
            ]
          },
          "metadata": {
            "tags": []
          },
          "execution_count": 29
        }
      ]
    },
    {
      "cell_type": "code",
      "metadata": {
        "colab": {
          "base_uri": "https://localhost:8080/"
        },
        "id": "SBLMFHVakCLV",
        "outputId": "bdffcc13-e1bb-4b59-ca66-e09fd1cbe82e"
      },
      "source": [
        "type(active_index)"
      ],
      "execution_count": null,
      "outputs": [
        {
          "output_type": "execute_result",
          "data": {
            "text/plain": [
              "pandas.core.frame.DataFrame"
            ]
          },
          "metadata": {
            "tags": []
          },
          "execution_count": 30
        }
      ]
    },
    {
      "cell_type": "code",
      "metadata": {
        "colab": {
          "base_uri": "https://localhost:8080/",
          "height": 1000
        },
        "id": "Puo7K_6SkHVM",
        "outputId": "e5e95dd2-bbd0-4778-86b3-f5c9f8fe6203"
      },
      "source": [
        "index=pd.DataFrame({'index':y_kmeans})\r\n",
        "index"
      ],
      "execution_count": null,
      "outputs": [
        {
          "output_type": "execute_result",
          "data": {
            "text/html": [
              "<div>\n",
              "<style scoped>\n",
              "    .dataframe tbody tr th:only-of-type {\n",
              "        vertical-align: middle;\n",
              "    }\n",
              "\n",
              "    .dataframe tbody tr th {\n",
              "        vertical-align: top;\n",
              "    }\n",
              "\n",
              "    .dataframe thead th {\n",
              "        text-align: right;\n",
              "    }\n",
              "</style>\n",
              "<table border=\"1\" class=\"dataframe\">\n",
              "  <thead>\n",
              "    <tr style=\"text-align: right;\">\n",
              "      <th></th>\n",
              "      <th>index</th>\n",
              "    </tr>\n",
              "  </thead>\n",
              "  <tbody>\n",
              "    <tr>\n",
              "      <th>0</th>\n",
              "      <td>2</td>\n",
              "    </tr>\n",
              "    <tr>\n",
              "      <th>1</th>\n",
              "      <td>0</td>\n",
              "    </tr>\n",
              "    <tr>\n",
              "      <th>2</th>\n",
              "      <td>0</td>\n",
              "    </tr>\n",
              "    <tr>\n",
              "      <th>3</th>\n",
              "      <td>0</td>\n",
              "    </tr>\n",
              "    <tr>\n",
              "      <th>4</th>\n",
              "      <td>0</td>\n",
              "    </tr>\n",
              "    <tr>\n",
              "      <th>5</th>\n",
              "      <td>1</td>\n",
              "    </tr>\n",
              "    <tr>\n",
              "      <th>6</th>\n",
              "      <td>2</td>\n",
              "    </tr>\n",
              "    <tr>\n",
              "      <th>7</th>\n",
              "      <td>2</td>\n",
              "    </tr>\n",
              "    <tr>\n",
              "      <th>8</th>\n",
              "      <td>0</td>\n",
              "    </tr>\n",
              "    <tr>\n",
              "      <th>9</th>\n",
              "      <td>0</td>\n",
              "    </tr>\n",
              "    <tr>\n",
              "      <th>10</th>\n",
              "      <td>1</td>\n",
              "    </tr>\n",
              "    <tr>\n",
              "      <th>11</th>\n",
              "      <td>1</td>\n",
              "    </tr>\n",
              "    <tr>\n",
              "      <th>12</th>\n",
              "      <td>0</td>\n",
              "    </tr>\n",
              "    <tr>\n",
              "      <th>13</th>\n",
              "      <td>0</td>\n",
              "    </tr>\n",
              "    <tr>\n",
              "      <th>14</th>\n",
              "      <td>0</td>\n",
              "    </tr>\n",
              "    <tr>\n",
              "      <th>15</th>\n",
              "      <td>1</td>\n",
              "    </tr>\n",
              "    <tr>\n",
              "      <th>16</th>\n",
              "      <td>1</td>\n",
              "    </tr>\n",
              "    <tr>\n",
              "      <th>17</th>\n",
              "      <td>1</td>\n",
              "    </tr>\n",
              "    <tr>\n",
              "      <th>18</th>\n",
              "      <td>1</td>\n",
              "    </tr>\n",
              "    <tr>\n",
              "      <th>19</th>\n",
              "      <td>1</td>\n",
              "    </tr>\n",
              "    <tr>\n",
              "      <th>20</th>\n",
              "      <td>1</td>\n",
              "    </tr>\n",
              "    <tr>\n",
              "      <th>21</th>\n",
              "      <td>1</td>\n",
              "    </tr>\n",
              "    <tr>\n",
              "      <th>22</th>\n",
              "      <td>1</td>\n",
              "    </tr>\n",
              "    <tr>\n",
              "      <th>23</th>\n",
              "      <td>1</td>\n",
              "    </tr>\n",
              "    <tr>\n",
              "      <th>24</th>\n",
              "      <td>1</td>\n",
              "    </tr>\n",
              "    <tr>\n",
              "      <th>25</th>\n",
              "      <td>1</td>\n",
              "    </tr>\n",
              "    <tr>\n",
              "      <th>26</th>\n",
              "      <td>1</td>\n",
              "    </tr>\n",
              "    <tr>\n",
              "      <th>27</th>\n",
              "      <td>1</td>\n",
              "    </tr>\n",
              "    <tr>\n",
              "      <th>28</th>\n",
              "      <td>1</td>\n",
              "    </tr>\n",
              "    <tr>\n",
              "      <th>29</th>\n",
              "      <td>1</td>\n",
              "    </tr>\n",
              "    <tr>\n",
              "      <th>30</th>\n",
              "      <td>1</td>\n",
              "    </tr>\n",
              "    <tr>\n",
              "      <th>31</th>\n",
              "      <td>1</td>\n",
              "    </tr>\n",
              "    <tr>\n",
              "      <th>32</th>\n",
              "      <td>1</td>\n",
              "    </tr>\n",
              "    <tr>\n",
              "      <th>33</th>\n",
              "      <td>1</td>\n",
              "    </tr>\n",
              "  </tbody>\n",
              "</table>\n",
              "</div>"
            ],
            "text/plain": [
              "    index\n",
              "0       2\n",
              "1       0\n",
              "2       0\n",
              "3       0\n",
              "4       0\n",
              "5       1\n",
              "6       2\n",
              "7       2\n",
              "8       0\n",
              "9       0\n",
              "10      1\n",
              "11      1\n",
              "12      0\n",
              "13      0\n",
              "14      0\n",
              "15      1\n",
              "16      1\n",
              "17      1\n",
              "18      1\n",
              "19      1\n",
              "20      1\n",
              "21      1\n",
              "22      1\n",
              "23      1\n",
              "24      1\n",
              "25      1\n",
              "26      1\n",
              "27      1\n",
              "28      1\n",
              "29      1\n",
              "30      1\n",
              "31      1\n",
              "32      1\n",
              "33      1"
            ]
          },
          "metadata": {
            "tags": []
          },
          "execution_count": 31
        }
      ]
    },
    {
      "cell_type": "code",
      "metadata": {
        "colab": {
          "base_uri": "https://localhost:8080/"
        },
        "id": "x2AtyVAm0vCf",
        "outputId": "3d0a9544-6645-410e-db27-d5fadb8dc202"
      },
      "source": [
        "len(index)"
      ],
      "execution_count": null,
      "outputs": [
        {
          "output_type": "execute_result",
          "data": {
            "text/plain": [
              "34"
            ]
          },
          "metadata": {
            "tags": []
          },
          "execution_count": 32
        }
      ]
    },
    {
      "cell_type": "code",
      "metadata": {
        "colab": {
          "base_uri": "https://localhost:8080/"
        },
        "id": "LsutEb6J009_",
        "outputId": "3d0ce90d-d545-4c0d-a446-3a0083f20fc4"
      },
      "source": [
        "len(active_index)"
      ],
      "execution_count": null,
      "outputs": [
        {
          "output_type": "execute_result",
          "data": {
            "text/plain": [
              "34"
            ]
          },
          "metadata": {
            "tags": []
          },
          "execution_count": 33
        }
      ]
    },
    {
      "cell_type": "code",
      "metadata": {
        "id": "ukTH-LQFkJQS"
      },
      "source": [
        "active_index=active_index.join(index)"
      ],
      "execution_count": null,
      "outputs": []
    },
    {
      "cell_type": "code",
      "metadata": {
        "colab": {
          "base_uri": "https://localhost:8080/",
          "height": 225
        },
        "id": "O55IPfudkRuO",
        "outputId": "8b2af942-7e0f-410d-90c3-2fb3c4124bee"
      },
      "source": [
        "active_index=active_index.set_index('State')\r\n",
        "active_index.head()"
      ],
      "execution_count": null,
      "outputs": [
        {
          "output_type": "execute_result",
          "data": {
            "text/html": [
              "<div>\n",
              "<style scoped>\n",
              "    .dataframe tbody tr th:only-of-type {\n",
              "        vertical-align: middle;\n",
              "    }\n",
              "\n",
              "    .dataframe tbody tr th {\n",
              "        vertical-align: top;\n",
              "    }\n",
              "\n",
              "    .dataframe thead th {\n",
              "        text-align: right;\n",
              "    }\n",
              "</style>\n",
              "<table border=\"1\" class=\"dataframe\">\n",
              "  <thead>\n",
              "    <tr style=\"text-align: right;\">\n",
              "      <th></th>\n",
              "      <th>index</th>\n",
              "    </tr>\n",
              "    <tr>\n",
              "      <th>State</th>\n",
              "      <th></th>\n",
              "    </tr>\n",
              "  </thead>\n",
              "  <tbody>\n",
              "    <tr>\n",
              "      <th>Maharashtra</th>\n",
              "      <td>2</td>\n",
              "    </tr>\n",
              "    <tr>\n",
              "      <th>Karnataka</th>\n",
              "      <td>0</td>\n",
              "    </tr>\n",
              "    <tr>\n",
              "      <th>Andhra Pradesh</th>\n",
              "      <td>0</td>\n",
              "    </tr>\n",
              "    <tr>\n",
              "      <th>Tamil Nadu</th>\n",
              "      <td>0</td>\n",
              "    </tr>\n",
              "    <tr>\n",
              "      <th>Kerala</th>\n",
              "      <td>0</td>\n",
              "    </tr>\n",
              "  </tbody>\n",
              "</table>\n",
              "</div>"
            ],
            "text/plain": [
              "                index\n",
              "State                \n",
              "Maharashtra         2\n",
              "Karnataka           0\n",
              "Andhra Pradesh      0\n",
              "Tamil Nadu          0\n",
              "Kerala              0"
            ]
          },
          "metadata": {
            "tags": []
          },
          "execution_count": 35
        }
      ]
    },
    {
      "cell_type": "code",
      "metadata": {
        "colab": {
          "base_uri": "https://localhost:8080/",
          "height": 225
        },
        "id": "fkrZwdRO0pr5",
        "outputId": "bae1aa98-d0e4-4261-9bc3-92bec2fb6122"
      },
      "source": [
        "active_index.tail()"
      ],
      "execution_count": null,
      "outputs": [
        {
          "output_type": "execute_result",
          "data": {
            "text/html": [
              "<div>\n",
              "<style scoped>\n",
              "    .dataframe tbody tr th:only-of-type {\n",
              "        vertical-align: middle;\n",
              "    }\n",
              "\n",
              "    .dataframe tbody tr th {\n",
              "        vertical-align: top;\n",
              "    }\n",
              "\n",
              "    .dataframe thead th {\n",
              "        text-align: right;\n",
              "    }\n",
              "</style>\n",
              "<table border=\"1\" class=\"dataframe\">\n",
              "  <thead>\n",
              "    <tr style=\"text-align: right;\">\n",
              "      <th></th>\n",
              "      <th>index</th>\n",
              "    </tr>\n",
              "    <tr>\n",
              "      <th>State</th>\n",
              "      <th></th>\n",
              "    </tr>\n",
              "  </thead>\n",
              "  <tbody>\n",
              "    <tr>\n",
              "      <th>Sikkim</th>\n",
              "      <td>1</td>\n",
              "    </tr>\n",
              "    <tr>\n",
              "      <th>Andaman and Nicobar Islands</th>\n",
              "      <td>1</td>\n",
              "    </tr>\n",
              "    <tr>\n",
              "      <th>Mizoram</th>\n",
              "      <td>1</td>\n",
              "    </tr>\n",
              "    <tr>\n",
              "      <th>Dadra and Nagar Haveli and Daman and Diu</th>\n",
              "      <td>1</td>\n",
              "    </tr>\n",
              "    <tr>\n",
              "      <th>Lakshadweep</th>\n",
              "      <td>1</td>\n",
              "    </tr>\n",
              "  </tbody>\n",
              "</table>\n",
              "</div>"
            ],
            "text/plain": [
              "                                          index\n",
              "State                                          \n",
              "Sikkim                                        1\n",
              "Andaman and Nicobar Islands                   1\n",
              "Mizoram                                       1\n",
              "Dadra and Nagar Haveli and Daman and Diu      1\n",
              "Lakshadweep                                   1"
            ]
          },
          "metadata": {
            "tags": []
          },
          "execution_count": 36
        }
      ]
    },
    {
      "cell_type": "code",
      "metadata": {
        "id": "ipsY8duTkVa5"
      },
      "source": [
        "active_index.to_json('50plus_index')"
      ],
      "execution_count": null,
      "outputs": []
    },
    {
      "cell_type": "code",
      "metadata": {
        "colab": {
          "base_uri": "https://localhost:8080/",
          "height": 266
        },
        "id": "LLNPuvpnkapH",
        "outputId": "2a382744-b921-47e4-9fea-10ecd6bcd7ab"
      },
      "source": [
        "df.head()"
      ],
      "execution_count": null,
      "outputs": [
        {
          "output_type": "execute_result",
          "data": {
            "text/html": [
              "<div>\n",
              "<style scoped>\n",
              "    .dataframe tbody tr th:only-of-type {\n",
              "        vertical-align: middle;\n",
              "    }\n",
              "\n",
              "    .dataframe tbody tr th {\n",
              "        vertical-align: top;\n",
              "    }\n",
              "\n",
              "    .dataframe thead th {\n",
              "        text-align: right;\n",
              "    }\n",
              "</style>\n",
              "<table border=\"1\" class=\"dataframe\">\n",
              "  <thead>\n",
              "    <tr style=\"text-align: right;\">\n",
              "      <th></th>\n",
              "      <th>State</th>\n",
              "      <th>Unnamed: 1</th>\n",
              "      <th>Confirmed</th>\n",
              "      <th>Recovered</th>\n",
              "      <th>Deaths</th>\n",
              "      <th>Active</th>\n",
              "      <th>Last_Updated_Time</th>\n",
              "      <th>Migrated_Other</th>\n",
              "      <th>State_code</th>\n",
              "      <th>Delta_Confirmed</th>\n",
              "      <th>Delta_Recovered</th>\n",
              "      <th>Delta_Deaths</th>\n",
              "      <th>State_Notes</th>\n",
              "      <th>Population</th>\n",
              "      <th>Density</th>\n",
              "      <th>0-4</th>\n",
              "      <th>2020-05-09 00:00:00</th>\n",
              "      <th>2020-10-14 00:00:00</th>\n",
              "      <th>15-19</th>\n",
              "      <th>20-24</th>\n",
              "      <th>25-29</th>\n",
              "      <th>30-34</th>\n",
              "      <th>35-39</th>\n",
              "      <th>40-44</th>\n",
              "      <th>45-49</th>\n",
              "      <th>50-54</th>\n",
              "      <th>55-59</th>\n",
              "      <th>60-64</th>\n",
              "      <th>65-69</th>\n",
              "      <th>70-74</th>\n",
              "      <th>75-79</th>\n",
              "      <th>80+</th>\n",
              "      <th>Health Workers(%)</th>\n",
              "      <th>Police Force</th>\n",
              "      <th>Vaccination Centres</th>\n",
              "      <th>50+</th>\n",
              "    </tr>\n",
              "  </thead>\n",
              "  <tbody>\n",
              "    <tr>\n",
              "      <th>1</th>\n",
              "      <td>Maharashtra</td>\n",
              "      <td>NaN</td>\n",
              "      <td>1913382</td>\n",
              "      <td>1806298</td>\n",
              "      <td>49129</td>\n",
              "      <td>56823</td>\n",
              "      <td>25-12-2020 22:43</td>\n",
              "      <td>1132</td>\n",
              "      <td>MH</td>\n",
              "      <td>3431</td>\n",
              "      <td>1427</td>\n",
              "      <td>71</td>\n",
              "      <td>NaN</td>\n",
              "      <td>120837347.0</td>\n",
              "      <td>365.0</td>\n",
              "      <td>9362026.0</td>\n",
              "      <td>9820654.0</td>\n",
              "      <td>10734535.0</td>\n",
              "      <td>10627267.0</td>\n",
              "      <td>11090966.0</td>\n",
              "      <td>10147113.0</td>\n",
              "      <td>8796307.0</td>\n",
              "      <td>8247160.0</td>\n",
              "      <td>7196089.0</td>\n",
              "      <td>6032454.0</td>\n",
              "      <td>4919317.0</td>\n",
              "      <td>3885814.0</td>\n",
              "      <td>3642480.0</td>\n",
              "      <td>3078352.0</td>\n",
              "      <td>2143136.0</td>\n",
              "      <td>1062773.0</td>\n",
              "      <td>1180194.0</td>\n",
              "      <td>13.67</td>\n",
              "      <td>213382.0</td>\n",
              "      <td>3239.0</td>\n",
              "      <td>8805131.0</td>\n",
              "    </tr>\n",
              "    <tr>\n",
              "      <th>2</th>\n",
              "      <td>Karnataka</td>\n",
              "      <td>NaN</td>\n",
              "      <td>914488</td>\n",
              "      <td>888917</td>\n",
              "      <td>12044</td>\n",
              "      <td>13508</td>\n",
              "      <td>25-12-2020 20:23</td>\n",
              "      <td>19</td>\n",
              "      <td>KA</td>\n",
              "      <td>1005</td>\n",
              "      <td>1102</td>\n",
              "      <td>5</td>\n",
              "      <td>NaN</td>\n",
              "      <td>66165886.0</td>\n",
              "      <td>319.0</td>\n",
              "      <td>5046719.0</td>\n",
              "      <td>5241509.0</td>\n",
              "      <td>5736646.0</td>\n",
              "      <td>5827277.0</td>\n",
              "      <td>6052558.0</td>\n",
              "      <td>5771606.0</td>\n",
              "      <td>4698380.0</td>\n",
              "      <td>4695451.0</td>\n",
              "      <td>3826712.0</td>\n",
              "      <td>3519782.0</td>\n",
              "      <td>2699270.0</td>\n",
              "      <td>2142504.0</td>\n",
              "      <td>2060052.0</td>\n",
              "      <td>1520119.0</td>\n",
              "      <td>1061125.0</td>\n",
              "      <td>524426.0</td>\n",
              "      <td>625310.0</td>\n",
              "      <td>5.27</td>\n",
              "      <td>89009.0</td>\n",
              "      <td>2943.0</td>\n",
              "      <td>4841774.0</td>\n",
              "    </tr>\n",
              "    <tr>\n",
              "      <th>3</th>\n",
              "      <td>Andhra Pradesh</td>\n",
              "      <td>NaN</td>\n",
              "      <td>880430</td>\n",
              "      <td>869478</td>\n",
              "      <td>7091</td>\n",
              "      <td>3861</td>\n",
              "      <td>25-12-2020 19:09</td>\n",
              "      <td>0</td>\n",
              "      <td>AP</td>\n",
              "      <td>355</td>\n",
              "      <td>354</td>\n",
              "      <td>2</td>\n",
              "      <td>NaN</td>\n",
              "      <td>52883163.0</td>\n",
              "      <td>308.0</td>\n",
              "      <td>6284765.0</td>\n",
              "      <td>7304432.0</td>\n",
              "      <td>8201595.0</td>\n",
              "      <td>8093747.0</td>\n",
              "      <td>8132094.0</td>\n",
              "      <td>7799036.0</td>\n",
              "      <td>6584371.0</td>\n",
              "      <td>6507339.0</td>\n",
              "      <td>5399473.0</td>\n",
              "      <td>4657269.0</td>\n",
              "      <td>3657386.0</td>\n",
              "      <td>2909598.0</td>\n",
              "      <td>3199837.0</td>\n",
              "      <td>2167854.0</td>\n",
              "      <td>1519358.0</td>\n",
              "      <td>636989.0</td>\n",
              "      <td>754203.0</td>\n",
              "      <td>7.83</td>\n",
              "      <td>61168.0</td>\n",
              "      <td>1666.0</td>\n",
              "      <td>6566984.0</td>\n",
              "    </tr>\n",
              "    <tr>\n",
              "      <th>4</th>\n",
              "      <td>Tamil Nadu</td>\n",
              "      <td>NaN</td>\n",
              "      <td>812142</td>\n",
              "      <td>790965</td>\n",
              "      <td>12048</td>\n",
              "      <td>9129</td>\n",
              "      <td>25-12-2020 19:30</td>\n",
              "      <td>0</td>\n",
              "      <td>TN</td>\n",
              "      <td>1027</td>\n",
              "      <td>1103</td>\n",
              "      <td>12</td>\n",
              "      <td>NaN</td>\n",
              "      <td>76481545.0</td>\n",
              "      <td>555.0</td>\n",
              "      <td>5278701.0</td>\n",
              "      <td>5551255.0</td>\n",
              "      <td>6177547.0</td>\n",
              "      <td>6253792.0</td>\n",
              "      <td>6411543.0</td>\n",
              "      <td>6663746.0</td>\n",
              "      <td>5815560.0</td>\n",
              "      <td>5836456.0</td>\n",
              "      <td>5064209.0</td>\n",
              "      <td>4713056.0</td>\n",
              "      <td>3703460.0</td>\n",
              "      <td>3101142.0</td>\n",
              "      <td>2782608.0</td>\n",
              "      <td>1868370.0</td>\n",
              "      <td>1406529.0</td>\n",
              "      <td>710241.0</td>\n",
              "      <td>742010.0</td>\n",
              "      <td>6.72</td>\n",
              "      <td>110186.0</td>\n",
              "      <td>2581.0</td>\n",
              "      <td>6804602.0</td>\n",
              "    </tr>\n",
              "    <tr>\n",
              "      <th>5</th>\n",
              "      <td>Kerala</td>\n",
              "      <td>NaN</td>\n",
              "      <td>732085</td>\n",
              "      <td>664951</td>\n",
              "      <td>2931</td>\n",
              "      <td>64032</td>\n",
              "      <td>25-12-2020 21:52</td>\n",
              "      <td>171</td>\n",
              "      <td>KL</td>\n",
              "      <td>5397</td>\n",
              "      <td>4506</td>\n",
              "      <td>16</td>\n",
              "      <td>NaN</td>\n",
              "      <td>35330888.0</td>\n",
              "      <td>860.0</td>\n",
              "      <td>2453092.0</td>\n",
              "      <td>2555112.0</td>\n",
              "      <td>2822770.0</td>\n",
              "      <td>2610552.0</td>\n",
              "      <td>2665809.0</td>\n",
              "      <td>2604092.0</td>\n",
              "      <td>2455501.0</td>\n",
              "      <td>2579673.0</td>\n",
              "      <td>2412498.0</td>\n",
              "      <td>2348530.0</td>\n",
              "      <td>1928145.0</td>\n",
              "      <td>1742408.0</td>\n",
              "      <td>1414671.0</td>\n",
              "      <td>1002134.0</td>\n",
              "      <td>733372.0</td>\n",
              "      <td>501367.0</td>\n",
              "      <td>541849.0</td>\n",
              "      <td>6.06</td>\n",
              "      <td>48860.0</td>\n",
              "      <td>1297.0</td>\n",
              "      <td>3670553.0</td>\n",
              "    </tr>\n",
              "  </tbody>\n",
              "</table>\n",
              "</div>"
            ],
            "text/plain": [
              "            State  Unnamed: 1  ...  Vaccination Centres        50+\n",
              "1     Maharashtra         NaN  ...               3239.0  8805131.0\n",
              "2       Karnataka         NaN  ...               2943.0  4841774.0\n",
              "3  Andhra Pradesh         NaN  ...               1666.0  6566984.0\n",
              "4      Tamil Nadu         NaN  ...               2581.0  6804602.0\n",
              "5          Kerala         NaN  ...               1297.0  3670553.0\n",
              "\n",
              "[5 rows x 36 columns]"
            ]
          },
          "metadata": {
            "tags": []
          },
          "execution_count": 38
        }
      ]
    },
    {
      "cell_type": "code",
      "metadata": {
        "colab": {
          "base_uri": "https://localhost:8080/"
        },
        "id": "LTrpx-8lkfgM",
        "outputId": "ee1f04e6-2e55-4bbc-8e58-ea55bac71aba"
      },
      "source": [
        " for i in range(len(y_kmeans)):\r\n",
        "   print(df['State'].iloc[i:i+1],y_kmeans[i])"
      ],
      "execution_count": null,
      "outputs": [
        {
          "output_type": "stream",
          "text": [
            "1    Maharashtra\n",
            "Name: State, dtype: object 2\n",
            "2    Karnataka\n",
            "Name: State, dtype: object 0\n",
            "3    Andhra Pradesh\n",
            "Name: State, dtype: object 0\n",
            "4    Tamil Nadu\n",
            "Name: State, dtype: object 0\n",
            "5    Kerala\n",
            "Name: State, dtype: object 0\n",
            "6    Delhi\n",
            "Name: State, dtype: object 1\n",
            "7    Uttar Pradesh\n",
            "Name: State, dtype: object 2\n",
            "8    West Bengal\n",
            "Name: State, dtype: object 2\n",
            "9    Odisha\n",
            "Name: State, dtype: object 0\n",
            "10    Rajasthan\n",
            "Name: State, dtype: object 0\n",
            "11    Telangana\n",
            "Name: State, dtype: object 1\n",
            "12    Chhattisgarh\n",
            "Name: State, dtype: object 1\n",
            "13    Haryana\n",
            "Name: State, dtype: object 0\n",
            "14    Bihar\n",
            "Name: State, dtype: object 0\n",
            "15    Gujarat\n",
            "Name: State, dtype: object 0\n",
            "16    Madhya Pradesh\n",
            "Name: State, dtype: object 1\n",
            "17    Assam\n",
            "Name: State, dtype: object 1\n",
            "18    Punjab\n",
            "Name: State, dtype: object 1\n",
            "19    Jammu and Kashmir\n",
            "Name: State, dtype: object 1\n",
            "20    Jharkhand\n",
            "Name: State, dtype: object 1\n",
            "21    Uttarakhand\n",
            "Name: State, dtype: object 1\n",
            "22    Himachal Pradesh\n",
            "Name: State, dtype: object 1\n",
            "23    Goa\n",
            "Name: State, dtype: object 1\n",
            "24    Puducherry\n",
            "Name: State, dtype: object 1\n",
            "25    Tripura\n",
            "Name: State, dtype: object 1\n",
            "26    Manipur\n",
            "Name: State, dtype: object 1\n",
            "27    Chandigarh\n",
            "Name: State, dtype: object 1\n",
            "28    Arunachal Pradesh\n",
            "Name: State, dtype: object 1\n",
            "29    Meghalaya\n",
            "Name: State, dtype: object 1\n",
            "30    Nagaland\n",
            "Name: State, dtype: object 1\n",
            "31    Ladakh\n",
            "Name: State, dtype: object 1\n",
            "32    Sikkim\n",
            "Name: State, dtype: object 1\n",
            "33    Andaman and Nicobar Islands\n",
            "Name: State, dtype: object 1\n",
            "34    Mizoram\n",
            "Name: State, dtype: object 1\n"
          ],
          "name": "stdout"
        }
      ]
    },
    {
      "cell_type": "code",
      "metadata": {
        "id": "gEM68n6vkhU9"
      },
      "source": [
        "import json"
      ],
      "execution_count": null,
      "outputs": []
    },
    {
      "cell_type": "code",
      "metadata": {
        "colab": {
          "base_uri": "https://localhost:8080/"
        },
        "id": "qer8qoMfkos8",
        "outputId": "4e342c04-e333-4e17-cc78-d4d7bed2811d"
      },
      "source": [
        "with open('./50plus_index') as f:\r\n",
        "        data = json.load(f)\r\n",
        "\r\n",
        "data     "
      ],
      "execution_count": null,
      "outputs": [
        {
          "output_type": "execute_result",
          "data": {
            "text/plain": [
              "{'index': {'Andaman and Nicobar Islands': 1,\n",
              "  'Andhra Pradesh': 0,\n",
              "  'Arunachal Pradesh': 1,\n",
              "  'Assam': 1,\n",
              "  'Bihar': 0,\n",
              "  'Chandigarh': 1,\n",
              "  'Chhattisgarh': 1,\n",
              "  'Dadra and Nagar Haveli and Daman and Diu': 1,\n",
              "  'Delhi': 1,\n",
              "  'Goa': 1,\n",
              "  'Gujarat': 0,\n",
              "  'Haryana': 1,\n",
              "  'Himachal Pradesh': 1,\n",
              "  'Jammu and Kashmir': 1,\n",
              "  'Jharkhand': 1,\n",
              "  'Karnataka': 0,\n",
              "  'Kerala': 0,\n",
              "  'Lakshadweep': 1,\n",
              "  'Madhya Pradesh': 0,\n",
              "  'Maharashtra': 2,\n",
              "  'Manipur': 1,\n",
              "  'Meghalaya': 1,\n",
              "  'Mizoram': 1,\n",
              "  'Nagaland': 1,\n",
              "  'Odisha': 0,\n",
              "  'Puducherry': 1,\n",
              "  'Punjab': 1,\n",
              "  'Rajasthan': 0,\n",
              "  'Sikkim': 1,\n",
              "  'Tamil Nadu': 0,\n",
              "  'Tripura': 1,\n",
              "  'Uttar Pradesh': 2,\n",
              "  'Uttarakhand': 1,\n",
              "  'West Bengal': 2}}"
            ]
          },
          "metadata": {
            "tags": []
          },
          "execution_count": 41
        }
      ]
    }
  ]
}