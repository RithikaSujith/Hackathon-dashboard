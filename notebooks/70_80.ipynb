{
  "nbformat": 4,
  "nbformat_minor": 0,
  "metadata": {
    "colab": {
      "name": "70_80.ipynb",
      "provenance": []
    },
    "kernelspec": {
      "name": "python3",
      "display_name": "Python 3"
    }
  },
  "cells": [
    {
      "cell_type": "code",
      "metadata": {
        "id": "sr42yyx9uMS6"
      },
      "source": [
        "import pandas as pd\r\n",
        "import numpy as np\r\n",
        "\r\n",
        "import seaborn as sns\r\n",
        "import matplotlib.pyplot as plt\r\n",
        "%matplotlib inline\r\n",
        "sns.set(rc={'figure.figsize':(15.7,8.27)})"
      ],
      "execution_count": null,
      "outputs": []
    },
    {
      "cell_type": "code",
      "metadata": {
        "id": "n59pYd91v1RB"
      },
      "source": [
        "df=pd.read_excel('state_wise_updated (1).xlsx')"
      ],
      "execution_count": null,
      "outputs": []
    },
    {
      "cell_type": "code",
      "metadata": {
        "colab": {
          "base_uri": "https://localhost:8080/",
          "height": 249
        },
        "id": "MdRzTmyPw_gU",
        "outputId": "fcb44e3c-7249-44b4-df5c-e3ca1c934531"
      },
      "source": [
        "df.head()"
      ],
      "execution_count": null,
      "outputs": [
        {
          "output_type": "execute_result",
          "data": {
            "text/html": [
              "<div>\n",
              "<style scoped>\n",
              "    .dataframe tbody tr th:only-of-type {\n",
              "        vertical-align: middle;\n",
              "    }\n",
              "\n",
              "    .dataframe tbody tr th {\n",
              "        vertical-align: top;\n",
              "    }\n",
              "\n",
              "    .dataframe thead th {\n",
              "        text-align: right;\n",
              "    }\n",
              "</style>\n",
              "<table border=\"1\" class=\"dataframe\">\n",
              "  <thead>\n",
              "    <tr style=\"text-align: right;\">\n",
              "      <th></th>\n",
              "      <th>State</th>\n",
              "      <th>Unnamed: 1</th>\n",
              "      <th>Confirmed</th>\n",
              "      <th>Recovered</th>\n",
              "      <th>Deaths</th>\n",
              "      <th>Active</th>\n",
              "      <th>Last_Updated_Time</th>\n",
              "      <th>Migrated_Other</th>\n",
              "      <th>State_code</th>\n",
              "      <th>Delta_Confirmed</th>\n",
              "      <th>Delta_Recovered</th>\n",
              "      <th>Delta_Deaths</th>\n",
              "      <th>State_Notes</th>\n",
              "      <th>Population</th>\n",
              "      <th>Density</th>\n",
              "      <th>0-4</th>\n",
              "      <th>2020-05-09 00:00:00</th>\n",
              "      <th>2020-10-14 00:00:00</th>\n",
              "      <th>15-19</th>\n",
              "      <th>20-24</th>\n",
              "      <th>25-29</th>\n",
              "      <th>30-34</th>\n",
              "      <th>35-39</th>\n",
              "      <th>40-44</th>\n",
              "      <th>45-49</th>\n",
              "      <th>50-54</th>\n",
              "      <th>55-59</th>\n",
              "      <th>60-64</th>\n",
              "      <th>65-69</th>\n",
              "      <th>70-74</th>\n",
              "      <th>75-79</th>\n",
              "      <th>80+</th>\n",
              "      <th>Health Workers(%)</th>\n",
              "      <th>Police Force</th>\n",
              "      <th>Vaccination Centres</th>\n",
              "    </tr>\n",
              "  </thead>\n",
              "  <tbody>\n",
              "    <tr>\n",
              "      <th>0</th>\n",
              "      <td>Total</td>\n",
              "      <td>NaN</td>\n",
              "      <td>10169804</td>\n",
              "      <td>9739332</td>\n",
              "      <td>147379</td>\n",
              "      <td>280310</td>\n",
              "      <td>25-12-2020 23:29</td>\n",
              "      <td>2783</td>\n",
              "      <td>TT</td>\n",
              "      <td>22336</td>\n",
              "      <td>22134</td>\n",
              "      <td>251</td>\n",
              "      <td>NaN</td>\n",
              "      <td>1.397322e+09</td>\n",
              "      <td>382.0</td>\n",
              "      <td>112806778.0</td>\n",
              "      <td>126928126.0</td>\n",
              "      <td>132709212.0</td>\n",
              "      <td>120526449.0</td>\n",
              "      <td>111424222.0</td>\n",
              "      <td>101413965.0</td>\n",
              "      <td>88594951.0</td>\n",
              "      <td>85140684.0</td>\n",
              "      <td>72438112.0</td>\n",
              "      <td>62318327.0</td>\n",
              "      <td>49069254.0</td>\n",
              "      <td>39146055.0</td>\n",
              "      <td>37663707.0</td>\n",
              "      <td>26454983.0</td>\n",
              "      <td>19208842.0</td>\n",
              "      <td>9232503.0</td>\n",
              "      <td>11289005.0</td>\n",
              "      <td>NaN</td>\n",
              "      <td>2067270.0</td>\n",
              "      <td>37725.0</td>\n",
              "    </tr>\n",
              "    <tr>\n",
              "      <th>1</th>\n",
              "      <td>Maharashtra</td>\n",
              "      <td>NaN</td>\n",
              "      <td>1913382</td>\n",
              "      <td>1806298</td>\n",
              "      <td>49129</td>\n",
              "      <td>56823</td>\n",
              "      <td>25-12-2020 22:43</td>\n",
              "      <td>1132</td>\n",
              "      <td>MH</td>\n",
              "      <td>3431</td>\n",
              "      <td>1427</td>\n",
              "      <td>71</td>\n",
              "      <td>NaN</td>\n",
              "      <td>1.208373e+08</td>\n",
              "      <td>365.0</td>\n",
              "      <td>9362026.0</td>\n",
              "      <td>9820654.0</td>\n",
              "      <td>10734535.0</td>\n",
              "      <td>10627267.0</td>\n",
              "      <td>11090966.0</td>\n",
              "      <td>10147113.0</td>\n",
              "      <td>8796307.0</td>\n",
              "      <td>8247160.0</td>\n",
              "      <td>7196089.0</td>\n",
              "      <td>6032454.0</td>\n",
              "      <td>4919317.0</td>\n",
              "      <td>3885814.0</td>\n",
              "      <td>3642480.0</td>\n",
              "      <td>3078352.0</td>\n",
              "      <td>2143136.0</td>\n",
              "      <td>1062773.0</td>\n",
              "      <td>1180194.0</td>\n",
              "      <td>13.67</td>\n",
              "      <td>213382.0</td>\n",
              "      <td>3239.0</td>\n",
              "    </tr>\n",
              "    <tr>\n",
              "      <th>2</th>\n",
              "      <td>Karnataka</td>\n",
              "      <td>NaN</td>\n",
              "      <td>914488</td>\n",
              "      <td>888917</td>\n",
              "      <td>12044</td>\n",
              "      <td>13508</td>\n",
              "      <td>25-12-2020 20:23</td>\n",
              "      <td>19</td>\n",
              "      <td>KA</td>\n",
              "      <td>1005</td>\n",
              "      <td>1102</td>\n",
              "      <td>5</td>\n",
              "      <td>NaN</td>\n",
              "      <td>6.616589e+07</td>\n",
              "      <td>319.0</td>\n",
              "      <td>5046719.0</td>\n",
              "      <td>5241509.0</td>\n",
              "      <td>5736646.0</td>\n",
              "      <td>5827277.0</td>\n",
              "      <td>6052558.0</td>\n",
              "      <td>5771606.0</td>\n",
              "      <td>4698380.0</td>\n",
              "      <td>4695451.0</td>\n",
              "      <td>3826712.0</td>\n",
              "      <td>3519782.0</td>\n",
              "      <td>2699270.0</td>\n",
              "      <td>2142504.0</td>\n",
              "      <td>2060052.0</td>\n",
              "      <td>1520119.0</td>\n",
              "      <td>1061125.0</td>\n",
              "      <td>524426.0</td>\n",
              "      <td>625310.0</td>\n",
              "      <td>5.27</td>\n",
              "      <td>89009.0</td>\n",
              "      <td>2943.0</td>\n",
              "    </tr>\n",
              "    <tr>\n",
              "      <th>3</th>\n",
              "      <td>Andhra Pradesh</td>\n",
              "      <td>NaN</td>\n",
              "      <td>880430</td>\n",
              "      <td>869478</td>\n",
              "      <td>7091</td>\n",
              "      <td>3861</td>\n",
              "      <td>25-12-2020 19:09</td>\n",
              "      <td>0</td>\n",
              "      <td>AP</td>\n",
              "      <td>355</td>\n",
              "      <td>354</td>\n",
              "      <td>2</td>\n",
              "      <td>NaN</td>\n",
              "      <td>5.288316e+07</td>\n",
              "      <td>308.0</td>\n",
              "      <td>6284765.0</td>\n",
              "      <td>7304432.0</td>\n",
              "      <td>8201595.0</td>\n",
              "      <td>8093747.0</td>\n",
              "      <td>8132094.0</td>\n",
              "      <td>7799036.0</td>\n",
              "      <td>6584371.0</td>\n",
              "      <td>6507339.0</td>\n",
              "      <td>5399473.0</td>\n",
              "      <td>4657269.0</td>\n",
              "      <td>3657386.0</td>\n",
              "      <td>2909598.0</td>\n",
              "      <td>3199837.0</td>\n",
              "      <td>2167854.0</td>\n",
              "      <td>1519358.0</td>\n",
              "      <td>636989.0</td>\n",
              "      <td>754203.0</td>\n",
              "      <td>7.83</td>\n",
              "      <td>61168.0</td>\n",
              "      <td>1666.0</td>\n",
              "    </tr>\n",
              "    <tr>\n",
              "      <th>4</th>\n",
              "      <td>Tamil Nadu</td>\n",
              "      <td>NaN</td>\n",
              "      <td>812142</td>\n",
              "      <td>790965</td>\n",
              "      <td>12048</td>\n",
              "      <td>9129</td>\n",
              "      <td>25-12-2020 19:30</td>\n",
              "      <td>0</td>\n",
              "      <td>TN</td>\n",
              "      <td>1027</td>\n",
              "      <td>1103</td>\n",
              "      <td>12</td>\n",
              "      <td>NaN</td>\n",
              "      <td>7.648154e+07</td>\n",
              "      <td>555.0</td>\n",
              "      <td>5278701.0</td>\n",
              "      <td>5551255.0</td>\n",
              "      <td>6177547.0</td>\n",
              "      <td>6253792.0</td>\n",
              "      <td>6411543.0</td>\n",
              "      <td>6663746.0</td>\n",
              "      <td>5815560.0</td>\n",
              "      <td>5836456.0</td>\n",
              "      <td>5064209.0</td>\n",
              "      <td>4713056.0</td>\n",
              "      <td>3703460.0</td>\n",
              "      <td>3101142.0</td>\n",
              "      <td>2782608.0</td>\n",
              "      <td>1868370.0</td>\n",
              "      <td>1406529.0</td>\n",
              "      <td>710241.0</td>\n",
              "      <td>742010.0</td>\n",
              "      <td>6.72</td>\n",
              "      <td>110186.0</td>\n",
              "      <td>2581.0</td>\n",
              "    </tr>\n",
              "  </tbody>\n",
              "</table>\n",
              "</div>"
            ],
            "text/plain": [
              "            State  Unnamed: 1  ...  Police Force  Vaccination Centres\n",
              "0           Total         NaN  ...     2067270.0              37725.0\n",
              "1     Maharashtra         NaN  ...      213382.0               3239.0\n",
              "2       Karnataka         NaN  ...       89009.0               2943.0\n",
              "3  Andhra Pradesh         NaN  ...       61168.0               1666.0\n",
              "4      Tamil Nadu         NaN  ...      110186.0               2581.0\n",
              "\n",
              "[5 rows x 35 columns]"
            ]
          },
          "metadata": {
            "tags": []
          },
          "execution_count": 26
        }
      ]
    },
    {
      "cell_type": "code",
      "metadata": {
        "id": "5lyKEifrx-xG"
      },
      "source": [
        "df=df.drop([0],axis=0)"
      ],
      "execution_count": null,
      "outputs": []
    },
    {
      "cell_type": "code",
      "metadata": {
        "id": "rjZ5ysLByDXF"
      },
      "source": [
        "df[\"70+\"]=df[\"70-74\"]+df[\"75-79\"]"
      ],
      "execution_count": null,
      "outputs": []
    },
    {
      "cell_type": "code",
      "metadata": {
        "colab": {
          "base_uri": "https://localhost:8080/",
          "height": 266
        },
        "id": "OrBkHmOuyd0m",
        "outputId": "56527156-0b5c-4d2e-de8e-d5aae6d1bbfb"
      },
      "source": [
        "df.head()"
      ],
      "execution_count": null,
      "outputs": [
        {
          "output_type": "execute_result",
          "data": {
            "text/html": [
              "<div>\n",
              "<style scoped>\n",
              "    .dataframe tbody tr th:only-of-type {\n",
              "        vertical-align: middle;\n",
              "    }\n",
              "\n",
              "    .dataframe tbody tr th {\n",
              "        vertical-align: top;\n",
              "    }\n",
              "\n",
              "    .dataframe thead th {\n",
              "        text-align: right;\n",
              "    }\n",
              "</style>\n",
              "<table border=\"1\" class=\"dataframe\">\n",
              "  <thead>\n",
              "    <tr style=\"text-align: right;\">\n",
              "      <th></th>\n",
              "      <th>State</th>\n",
              "      <th>Unnamed: 1</th>\n",
              "      <th>Confirmed</th>\n",
              "      <th>Recovered</th>\n",
              "      <th>Deaths</th>\n",
              "      <th>Active</th>\n",
              "      <th>Last_Updated_Time</th>\n",
              "      <th>Migrated_Other</th>\n",
              "      <th>State_code</th>\n",
              "      <th>Delta_Confirmed</th>\n",
              "      <th>Delta_Recovered</th>\n",
              "      <th>Delta_Deaths</th>\n",
              "      <th>State_Notes</th>\n",
              "      <th>Population</th>\n",
              "      <th>Density</th>\n",
              "      <th>0-4</th>\n",
              "      <th>2020-05-09 00:00:00</th>\n",
              "      <th>2020-10-14 00:00:00</th>\n",
              "      <th>15-19</th>\n",
              "      <th>20-24</th>\n",
              "      <th>25-29</th>\n",
              "      <th>30-34</th>\n",
              "      <th>35-39</th>\n",
              "      <th>40-44</th>\n",
              "      <th>45-49</th>\n",
              "      <th>50-54</th>\n",
              "      <th>55-59</th>\n",
              "      <th>60-64</th>\n",
              "      <th>65-69</th>\n",
              "      <th>70-74</th>\n",
              "      <th>75-79</th>\n",
              "      <th>80+</th>\n",
              "      <th>Health Workers(%)</th>\n",
              "      <th>Police Force</th>\n",
              "      <th>Vaccination Centres</th>\n",
              "      <th>70+</th>\n",
              "    </tr>\n",
              "  </thead>\n",
              "  <tbody>\n",
              "    <tr>\n",
              "      <th>1</th>\n",
              "      <td>Maharashtra</td>\n",
              "      <td>NaN</td>\n",
              "      <td>1913382</td>\n",
              "      <td>1806298</td>\n",
              "      <td>49129</td>\n",
              "      <td>56823</td>\n",
              "      <td>25-12-2020 22:43</td>\n",
              "      <td>1132</td>\n",
              "      <td>MH</td>\n",
              "      <td>3431</td>\n",
              "      <td>1427</td>\n",
              "      <td>71</td>\n",
              "      <td>NaN</td>\n",
              "      <td>120837347.0</td>\n",
              "      <td>365.0</td>\n",
              "      <td>9362026.0</td>\n",
              "      <td>9820654.0</td>\n",
              "      <td>10734535.0</td>\n",
              "      <td>10627267.0</td>\n",
              "      <td>11090966.0</td>\n",
              "      <td>10147113.0</td>\n",
              "      <td>8796307.0</td>\n",
              "      <td>8247160.0</td>\n",
              "      <td>7196089.0</td>\n",
              "      <td>6032454.0</td>\n",
              "      <td>4919317.0</td>\n",
              "      <td>3885814.0</td>\n",
              "      <td>3642480.0</td>\n",
              "      <td>3078352.0</td>\n",
              "      <td>2143136.0</td>\n",
              "      <td>1062773.0</td>\n",
              "      <td>1180194.0</td>\n",
              "      <td>13.67</td>\n",
              "      <td>213382.0</td>\n",
              "      <td>3239.0</td>\n",
              "      <td>3205909.0</td>\n",
              "    </tr>\n",
              "    <tr>\n",
              "      <th>2</th>\n",
              "      <td>Karnataka</td>\n",
              "      <td>NaN</td>\n",
              "      <td>914488</td>\n",
              "      <td>888917</td>\n",
              "      <td>12044</td>\n",
              "      <td>13508</td>\n",
              "      <td>25-12-2020 20:23</td>\n",
              "      <td>19</td>\n",
              "      <td>KA</td>\n",
              "      <td>1005</td>\n",
              "      <td>1102</td>\n",
              "      <td>5</td>\n",
              "      <td>NaN</td>\n",
              "      <td>66165886.0</td>\n",
              "      <td>319.0</td>\n",
              "      <td>5046719.0</td>\n",
              "      <td>5241509.0</td>\n",
              "      <td>5736646.0</td>\n",
              "      <td>5827277.0</td>\n",
              "      <td>6052558.0</td>\n",
              "      <td>5771606.0</td>\n",
              "      <td>4698380.0</td>\n",
              "      <td>4695451.0</td>\n",
              "      <td>3826712.0</td>\n",
              "      <td>3519782.0</td>\n",
              "      <td>2699270.0</td>\n",
              "      <td>2142504.0</td>\n",
              "      <td>2060052.0</td>\n",
              "      <td>1520119.0</td>\n",
              "      <td>1061125.0</td>\n",
              "      <td>524426.0</td>\n",
              "      <td>625310.0</td>\n",
              "      <td>5.27</td>\n",
              "      <td>89009.0</td>\n",
              "      <td>2943.0</td>\n",
              "      <td>1585551.0</td>\n",
              "    </tr>\n",
              "    <tr>\n",
              "      <th>3</th>\n",
              "      <td>Andhra Pradesh</td>\n",
              "      <td>NaN</td>\n",
              "      <td>880430</td>\n",
              "      <td>869478</td>\n",
              "      <td>7091</td>\n",
              "      <td>3861</td>\n",
              "      <td>25-12-2020 19:09</td>\n",
              "      <td>0</td>\n",
              "      <td>AP</td>\n",
              "      <td>355</td>\n",
              "      <td>354</td>\n",
              "      <td>2</td>\n",
              "      <td>NaN</td>\n",
              "      <td>52883163.0</td>\n",
              "      <td>308.0</td>\n",
              "      <td>6284765.0</td>\n",
              "      <td>7304432.0</td>\n",
              "      <td>8201595.0</td>\n",
              "      <td>8093747.0</td>\n",
              "      <td>8132094.0</td>\n",
              "      <td>7799036.0</td>\n",
              "      <td>6584371.0</td>\n",
              "      <td>6507339.0</td>\n",
              "      <td>5399473.0</td>\n",
              "      <td>4657269.0</td>\n",
              "      <td>3657386.0</td>\n",
              "      <td>2909598.0</td>\n",
              "      <td>3199837.0</td>\n",
              "      <td>2167854.0</td>\n",
              "      <td>1519358.0</td>\n",
              "      <td>636989.0</td>\n",
              "      <td>754203.0</td>\n",
              "      <td>7.83</td>\n",
              "      <td>61168.0</td>\n",
              "      <td>1666.0</td>\n",
              "      <td>2156347.0</td>\n",
              "    </tr>\n",
              "    <tr>\n",
              "      <th>4</th>\n",
              "      <td>Tamil Nadu</td>\n",
              "      <td>NaN</td>\n",
              "      <td>812142</td>\n",
              "      <td>790965</td>\n",
              "      <td>12048</td>\n",
              "      <td>9129</td>\n",
              "      <td>25-12-2020 19:30</td>\n",
              "      <td>0</td>\n",
              "      <td>TN</td>\n",
              "      <td>1027</td>\n",
              "      <td>1103</td>\n",
              "      <td>12</td>\n",
              "      <td>NaN</td>\n",
              "      <td>76481545.0</td>\n",
              "      <td>555.0</td>\n",
              "      <td>5278701.0</td>\n",
              "      <td>5551255.0</td>\n",
              "      <td>6177547.0</td>\n",
              "      <td>6253792.0</td>\n",
              "      <td>6411543.0</td>\n",
              "      <td>6663746.0</td>\n",
              "      <td>5815560.0</td>\n",
              "      <td>5836456.0</td>\n",
              "      <td>5064209.0</td>\n",
              "      <td>4713056.0</td>\n",
              "      <td>3703460.0</td>\n",
              "      <td>3101142.0</td>\n",
              "      <td>2782608.0</td>\n",
              "      <td>1868370.0</td>\n",
              "      <td>1406529.0</td>\n",
              "      <td>710241.0</td>\n",
              "      <td>742010.0</td>\n",
              "      <td>6.72</td>\n",
              "      <td>110186.0</td>\n",
              "      <td>2581.0</td>\n",
              "      <td>2116770.0</td>\n",
              "    </tr>\n",
              "    <tr>\n",
              "      <th>5</th>\n",
              "      <td>Kerala</td>\n",
              "      <td>NaN</td>\n",
              "      <td>732085</td>\n",
              "      <td>664951</td>\n",
              "      <td>2931</td>\n",
              "      <td>64032</td>\n",
              "      <td>25-12-2020 21:52</td>\n",
              "      <td>171</td>\n",
              "      <td>KL</td>\n",
              "      <td>5397</td>\n",
              "      <td>4506</td>\n",
              "      <td>16</td>\n",
              "      <td>NaN</td>\n",
              "      <td>35330888.0</td>\n",
              "      <td>860.0</td>\n",
              "      <td>2453092.0</td>\n",
              "      <td>2555112.0</td>\n",
              "      <td>2822770.0</td>\n",
              "      <td>2610552.0</td>\n",
              "      <td>2665809.0</td>\n",
              "      <td>2604092.0</td>\n",
              "      <td>2455501.0</td>\n",
              "      <td>2579673.0</td>\n",
              "      <td>2412498.0</td>\n",
              "      <td>2348530.0</td>\n",
              "      <td>1928145.0</td>\n",
              "      <td>1742408.0</td>\n",
              "      <td>1414671.0</td>\n",
              "      <td>1002134.0</td>\n",
              "      <td>733372.0</td>\n",
              "      <td>501367.0</td>\n",
              "      <td>541849.0</td>\n",
              "      <td>6.06</td>\n",
              "      <td>48860.0</td>\n",
              "      <td>1297.0</td>\n",
              "      <td>1234739.0</td>\n",
              "    </tr>\n",
              "  </tbody>\n",
              "</table>\n",
              "</div>"
            ],
            "text/plain": [
              "            State  Unnamed: 1  ...  Vaccination Centres        70+\n",
              "1     Maharashtra         NaN  ...               3239.0  3205909.0\n",
              "2       Karnataka         NaN  ...               2943.0  1585551.0\n",
              "3  Andhra Pradesh         NaN  ...               1666.0  2156347.0\n",
              "4      Tamil Nadu         NaN  ...               2581.0  2116770.0\n",
              "5          Kerala         NaN  ...               1297.0  1234739.0\n",
              "\n",
              "[5 rows x 36 columns]"
            ]
          },
          "metadata": {
            "tags": []
          },
          "execution_count": 29
        }
      ]
    },
    {
      "cell_type": "code",
      "metadata": {
        "colab": {
          "base_uri": "https://localhost:8080/",
          "height": 545
        },
        "id": "BZxE0vK3yjlm",
        "outputId": "9be4ee1a-d694-41b0-ee50-f33287aab3bd"
      },
      "source": [
        "sns.set(style='darkgrid')\r\n",
        "sns.barplot(x='State',\r\n",
        "                y='70+',\r\n",
        "                data=df.iloc[1:10])"
      ],
      "execution_count": null,
      "outputs": [
        {
          "output_type": "execute_result",
          "data": {
            "text/plain": [
              "<matplotlib.axes._subplots.AxesSubplot at 0x7f5f21e48198>"
            ]
          },
          "metadata": {
            "tags": []
          },
          "execution_count": 30
        },
        {
          "output_type": "display_data",
          "data": {
            "image/png": "[encoded data removed]",
            "text/plain": [
              "<Figure size 1130.4x595.44 with 1 Axes>"
            ]
          },
          "metadata": {
            "tags": []
          }
        }
      ]
    },
    {
      "cell_type": "code",
      "metadata": {
        "colab": {
          "base_uri": "https://localhost:8080/",
          "height": 545
        },
        "id": "wF57esjnyrA2",
        "outputId": "f4f3c417-4b35-4734-e5e0-b049396d1df3"
      },
      "source": [
        "sns.set(style='darkgrid')\r\n",
        "sns.barplot(x='State',\r\n",
        "                y='70+',\r\n",
        "                data=df.iloc[1:10])"
      ],
      "execution_count": null,
      "outputs": [
        {
          "output_type": "execute_result",
          "data": {
            "text/plain": [
              "<matplotlib.axes._subplots.AxesSubplot at 0x7f5f21e59b00>"
            ]
          },
          "metadata": {
            "tags": []
          },
          "execution_count": 31
        },
        {
          "output_type": "display_data",
          "data": {
            "image/png": "[encoded data removed]",
            "text/plain": [
              "<Figure size 1130.4x595.44 with 1 Axes>"
            ]
          },
          "metadata": {
            "tags": []
          }
        }
      ]
    },
    {
      "cell_type": "code",
      "metadata": {
        "id": "P5F0aoAzyxqP"
      },
      "source": [
        "from sklearn.cluster import KMeans\r\n",
        "wcss=[]"
      ],
      "execution_count": null,
      "outputs": []
    },
    {
      "cell_type": "code",
      "metadata": {
        "id": "_9vhyBk0y1J_"
      },
      "source": [
        "X1=df[['Active','70+','State']].dropna()"
      ],
      "execution_count": null,
      "outputs": []
    },
    {
      "cell_type": "code",
      "metadata": {
        "id": "6Xx-LkpSy7iA"
      },
      "source": [
        "X=X1[['Active','70+']]"
      ],
      "execution_count": null,
      "outputs": []
    },
    {
      "cell_type": "code",
      "metadata": {
        "colab": {
          "base_uri": "https://localhost:8080/"
        },
        "id": "PX7o3Yw3zAPP",
        "outputId": "39cb4883-898b-48af-853a-3dfc2ac33087"
      },
      "source": [
        "type(X)"
      ],
      "execution_count": null,
      "outputs": [
        {
          "output_type": "execute_result",
          "data": {
            "text/plain": [
              "pandas.core.frame.DataFrame"
            ]
          },
          "metadata": {
            "tags": []
          },
          "execution_count": 35
        }
      ]
    },
    {
      "cell_type": "code",
      "metadata": {
        "id": "67VtHOzSzDD_"
      },
      "source": [
        "X=X.values"
      ],
      "execution_count": null,
      "outputs": []
    },
    {
      "cell_type": "code",
      "metadata": {
        "colab": {
          "base_uri": "https://localhost:8080/"
        },
        "id": "HdtDO2Z8zFyv",
        "outputId": "192915e5-dc02-4a10-e1e0-6f404644e316"
      },
      "source": [
        "X"
      ],
      "execution_count": null,
      "outputs": [
        {
          "output_type": "execute_result",
          "data": {
            "text/plain": [
              "array([[5.682300e+04, 3.205909e+06],\n",
              "       [1.350800e+04, 1.585551e+06],\n",
              "       [3.861000e+03, 2.156347e+06],\n",
              "       [9.129000e+03, 2.116770e+06],\n",
              "       [6.403200e+04, 1.234739e+06],\n",
              "       [7.267000e+03, 2.899430e+05],\n",
              "       [1.615900e+04, 4.082260e+06],\n",
              "       [1.474900e+04, 2.130374e+06],\n",
              "       [2.583000e+03, 1.132870e+06],\n",
              "       [1.170000e+04, 1.494570e+06],\n",
              "       [1.475900e+04, 5.395780e+05],\n",
              "       [4.750000e+03, 5.703780e+05],\n",
              "       [5.347000e+03, 1.930010e+06],\n",
              "       [1.053100e+04, 1.339673e+06],\n",
              "       [1.046100e+04, 1.630776e+06],\n",
              "       [3.422000e+03, 5.696290e+05],\n",
              "       [4.707000e+03, 7.701380e+05],\n",
              "       [3.414000e+03, 2.690950e+05],\n",
              "       [1.587000e+03, 5.750620e+05],\n",
              "       [5.510000e+03, 2.480890e+05],\n",
              "       [4.347000e+03, 2.062930e+05],\n",
              "       [9.800000e+02, 4.559100e+04],\n",
              "       [3.490000e+02, 3.531000e+04],\n",
              "       [1.840000e+02, 8.241000e+04],\n",
              "       [1.352000e+03, 5.568100e+04],\n",
              "       [3.450000e+02, 1.780700e+04],\n",
              "       [1.680000e+02, 1.578200e+04],\n",
              "       [2.940000e+02, 3.654300e+04],\n",
              "       [2.740000e+02, 2.815800e+04],\n",
              "       [4.180000e+02, 1.207700e+04],\n",
              "       [6.900000e+01, 6.349000e+03],\n",
              "       [1.340000e+02, 1.980400e+04],\n",
              "       [1.200000e+01, 6.437000e+03],\n",
              "       [0.000000e+00, 1.342000e+03]])"
            ]
          },
          "metadata": {
            "tags": []
          },
          "execution_count": 37
        }
      ]
    },
    {
      "cell_type": "code",
      "metadata": {
        "colab": {
          "base_uri": "https://localhost:8080/"
        },
        "id": "DnPQWBmyzIvY",
        "outputId": "70748aea-727c-43e1-f739-dd5f922cb1aa"
      },
      "source": [
        "len(X)"
      ],
      "execution_count": null,
      "outputs": [
        {
          "output_type": "execute_result",
          "data": {
            "text/plain": [
              "34"
            ]
          },
          "metadata": {
            "tags": []
          },
          "execution_count": 38
        }
      ]
    },
    {
      "cell_type": "code",
      "metadata": {
        "id": "-Vtlb3qGzMM3"
      },
      "source": [
        "for i in range(1,11): \r\n",
        "     kmeans = KMeans(n_clusters=i, init ='k-means++', max_iter=300,  n_init=10,random_state=0 )\r\n",
        "     kmeans.fit(X)\r\n",
        "     wcss.append(kmeans.inertia_)"
      ],
      "execution_count": null,
      "outputs": []
    },
    {
      "cell_type": "code",
      "metadata": {
        "colab": {
          "base_uri": "https://localhost:8080/",
          "height": 533
        },
        "id": "5QDw5Cg0zjSY",
        "outputId": "05668db9-5cb4-425c-f68c-45e555697b8b"
      },
      "source": [
        "plt.plot(range(1,11),wcss)\r\n",
        "plt.title('The Elbow Method Graph')\r\n",
        "plt.xlabel('Number of clusters')\r\n",
        "plt.ylabel('WCSS')\r\n",
        "plt.show()"
      ],
      "execution_count": null,
      "outputs": [
        {
          "output_type": "display_data",
          "data": {
            "image/png": "[encoded data removed]",
            "text/plain": [
              "<Figure size 1130.4x595.44 with 1 Axes>"
            ]
          },
          "metadata": {
            "tags": []
          }
        }
      ]
    },
    {
      "cell_type": "code",
      "metadata": {
        "id": "7y0f8fqM1cRm"
      },
      "source": [
        "kmeans = KMeans(n_clusters=3, init ='k-means++', max_iter=300, n_init=10,random_state=0 )"
      ],
      "execution_count": null,
      "outputs": []
    },
    {
      "cell_type": "code",
      "metadata": {
        "id": "EvntdG7j1gYN"
      },
      "source": [
        "y_kmeans = kmeans.fit_predict(X)"
      ],
      "execution_count": null,
      "outputs": []
    },
    {
      "cell_type": "code",
      "metadata": {
        "colab": {
          "base_uri": "https://localhost:8080/"
        },
        "id": "vMrOFkJ7zREP",
        "outputId": "591afee1-8f3c-4139-ffaa-5404e05bd01b"
      },
      "source": [
        "type(y_kmeans)"
      ],
      "execution_count": null,
      "outputs": [
        {
          "output_type": "execute_result",
          "data": {
            "text/plain": [
              "numpy.ndarray"
            ]
          },
          "metadata": {
            "tags": []
          },
          "execution_count": 43
        }
      ]
    },
    {
      "cell_type": "code",
      "metadata": {
        "colab": {
          "base_uri": "https://localhost:8080/"
        },
        "id": "l_9N1a8y1sgP",
        "outputId": "f9b382aa-3def-4a4c-a836-df4c3dc11c6c"
      },
      "source": [
        "y_kmeans"
      ],
      "execution_count": null,
      "outputs": [
        {
          "output_type": "execute_result",
          "data": {
            "text/plain": [
              "array([2, 1, 1, 1, 1, 0, 2, 1, 1, 1, 0, 0, 1, 1, 1, 0, 0, 0, 0, 0, 0, 0,\n",
              "       0, 0, 0, 0, 0, 0, 0, 0, 0, 0, 0, 0], dtype=int32)"
            ]
          },
          "metadata": {
            "tags": []
          },
          "execution_count": 44
        }
      ]
    },
    {
      "cell_type": "code",
      "metadata": {
        "colab": {
          "base_uri": "https://localhost:8080/",
          "height": 533
        },
        "id": "GPOyfksq1wd1",
        "outputId": "01fe746d-0f96-4187-9547-e11518e273d8"
      },
      "source": [
        "plt.scatter(X[y_kmeans==0, 0], X[y_kmeans==0, 1], s=100, c='red', label ='Cluster 1')\r\n",
        "plt.scatter(X[y_kmeans==1, 0], X[y_kmeans==1, 1], s=100, c='blue', label ='Cluster 2')\r\n",
        "plt.scatter(X[y_kmeans==2, 0], X[y_kmeans==2, 1], s=100, c='green', label ='Cluster 3')\r\n",
        "plt.scatter(kmeans.cluster_centers_[:, 0], kmeans.cluster_centers_[:, 1], s=300, c='yellow', label = 'Centroids')\r\n",
        "plt.title('Clusters of Customers')\r\n",
        "plt.xlabel('Annual Income(k$)')\r\n",
        "plt.ylabel('Spending Score(1-100')\r\n",
        "plt.show()"
      ],
      "execution_count": null,
      "outputs": [
        {
          "output_type": "display_data",
          "data": {
            "image/png": "[encoded data removed]",
            "text/plain": [
              "<Figure size 1130.4x595.44 with 1 Axes>"
            ]
          },
          "metadata": {
            "tags": []
          }
        }
      ]
    },
    {
      "cell_type": "code",
      "metadata": {
        "colab": {
          "base_uri": "https://localhost:8080/"
        },
        "id": "pGWoIof01yM_",
        "outputId": "dc397dfc-beef-4696-9fda-8b929a6e7943"
      },
      "source": [
        " for i in range(len(y_kmeans)):\r\n",
        "   print(df['State'].iloc[i:i+1],y_kmeans[i])"
      ],
      "execution_count": null,
      "outputs": [
        {
          "output_type": "stream",
          "text": [
            "1    Maharashtra\n",
            "Name: State, dtype: object 2\n",
            "2    Karnataka\n",
            "Name: State, dtype: object 1\n",
            "3    Andhra Pradesh\n",
            "Name: State, dtype: object 1\n",
            "4    Tamil Nadu\n",
            "Name: State, dtype: object 1\n",
            "5    Kerala\n",
            "Name: State, dtype: object 1\n",
            "6    Delhi\n",
            "Name: State, dtype: object 0\n",
            "7    Uttar Pradesh\n",
            "Name: State, dtype: object 2\n",
            "8    West Bengal\n",
            "Name: State, dtype: object 1\n",
            "9    Odisha\n",
            "Name: State, dtype: object 1\n",
            "10    Rajasthan\n",
            "Name: State, dtype: object 1\n",
            "11    Telangana\n",
            "Name: State, dtype: object 0\n",
            "12    Chhattisgarh\n",
            "Name: State, dtype: object 0\n",
            "13    Haryana\n",
            "Name: State, dtype: object 1\n",
            "14    Bihar\n",
            "Name: State, dtype: object 1\n",
            "15    Gujarat\n",
            "Name: State, dtype: object 1\n",
            "16    Madhya Pradesh\n",
            "Name: State, dtype: object 0\n",
            "17    Assam\n",
            "Name: State, dtype: object 0\n",
            "18    Punjab\n",
            "Name: State, dtype: object 0\n",
            "19    Jammu and Kashmir\n",
            "Name: State, dtype: object 0\n",
            "20    Jharkhand\n",
            "Name: State, dtype: object 0\n",
            "21    Uttarakhand\n",
            "Name: State, dtype: object 0\n",
            "22    Himachal Pradesh\n",
            "Name: State, dtype: object 0\n",
            "23    Goa\n",
            "Name: State, dtype: object 0\n",
            "24    Puducherry\n",
            "Name: State, dtype: object 0\n",
            "25    Tripura\n",
            "Name: State, dtype: object 0\n",
            "26    Manipur\n",
            "Name: State, dtype: object 0\n",
            "27    Chandigarh\n",
            "Name: State, dtype: object 0\n",
            "28    Arunachal Pradesh\n",
            "Name: State, dtype: object 0\n",
            "29    Meghalaya\n",
            "Name: State, dtype: object 0\n",
            "30    Nagaland\n",
            "Name: State, dtype: object 0\n",
            "31    Ladakh\n",
            "Name: State, dtype: object 0\n",
            "32    Sikkim\n",
            "Name: State, dtype: object 0\n",
            "33    Andaman and Nicobar Islands\n",
            "Name: State, dtype: object 0\n",
            "34    Mizoram\n",
            "Name: State, dtype: object 0\n"
          ],
          "name": "stdout"
        }
      ]
    },
    {
      "cell_type": "code",
      "metadata": {
        "id": "NS_VYs2413An"
      },
      "source": [
        "X1.reset_index(inplace=True)"
      ],
      "execution_count": null,
      "outputs": []
    },
    {
      "cell_type": "code",
      "metadata": {
        "colab": {
          "base_uri": "https://localhost:8080/",
          "height": 1000
        },
        "id": "bIZMZqOL16Kn",
        "outputId": "2997d1dc-aaf9-4a46-d31e-734d843be281"
      },
      "source": [
        "X1"
      ],
      "execution_count": null,
      "outputs": [
        {
          "output_type": "execute_result",
          "data": {
            "text/html": [
              "<div>\n",
              "<style scoped>\n",
              "    .dataframe tbody tr th:only-of-type {\n",
              "        vertical-align: middle;\n",
              "    }\n",
              "\n",
              "    .dataframe tbody tr th {\n",
              "        vertical-align: top;\n",
              "    }\n",
              "\n",
              "    .dataframe thead th {\n",
              "        text-align: right;\n",
              "    }\n",
              "</style>\n",
              "<table border=\"1\" class=\"dataframe\">\n",
              "  <thead>\n",
              "    <tr style=\"text-align: right;\">\n",
              "      <th></th>\n",
              "      <th>index</th>\n",
              "      <th>Active</th>\n",
              "      <th>70+</th>\n",
              "      <th>State</th>\n",
              "    </tr>\n",
              "  </thead>\n",
              "  <tbody>\n",
              "    <tr>\n",
              "      <th>0</th>\n",
              "      <td>1</td>\n",
              "      <td>56823</td>\n",
              "      <td>3205909.0</td>\n",
              "      <td>Maharashtra</td>\n",
              "    </tr>\n",
              "    <tr>\n",
              "      <th>1</th>\n",
              "      <td>2</td>\n",
              "      <td>13508</td>\n",
              "      <td>1585551.0</td>\n",
              "      <td>Karnataka</td>\n",
              "    </tr>\n",
              "    <tr>\n",
              "      <th>2</th>\n",
              "      <td>3</td>\n",
              "      <td>3861</td>\n",
              "      <td>2156347.0</td>\n",
              "      <td>Andhra Pradesh</td>\n",
              "    </tr>\n",
              "    <tr>\n",
              "      <th>3</th>\n",
              "      <td>4</td>\n",
              "      <td>9129</td>\n",
              "      <td>2116770.0</td>\n",
              "      <td>Tamil Nadu</td>\n",
              "    </tr>\n",
              "    <tr>\n",
              "      <th>4</th>\n",
              "      <td>5</td>\n",
              "      <td>64032</td>\n",
              "      <td>1234739.0</td>\n",
              "      <td>Kerala</td>\n",
              "    </tr>\n",
              "    <tr>\n",
              "      <th>5</th>\n",
              "      <td>6</td>\n",
              "      <td>7267</td>\n",
              "      <td>289943.0</td>\n",
              "      <td>Delhi</td>\n",
              "    </tr>\n",
              "    <tr>\n",
              "      <th>6</th>\n",
              "      <td>7</td>\n",
              "      <td>16159</td>\n",
              "      <td>4082260.0</td>\n",
              "      <td>Uttar Pradesh</td>\n",
              "    </tr>\n",
              "    <tr>\n",
              "      <th>7</th>\n",
              "      <td>8</td>\n",
              "      <td>14749</td>\n",
              "      <td>2130374.0</td>\n",
              "      <td>West Bengal</td>\n",
              "    </tr>\n",
              "    <tr>\n",
              "      <th>8</th>\n",
              "      <td>9</td>\n",
              "      <td>2583</td>\n",
              "      <td>1132870.0</td>\n",
              "      <td>Odisha</td>\n",
              "    </tr>\n",
              "    <tr>\n",
              "      <th>9</th>\n",
              "      <td>10</td>\n",
              "      <td>11700</td>\n",
              "      <td>1494570.0</td>\n",
              "      <td>Rajasthan</td>\n",
              "    </tr>\n",
              "    <tr>\n",
              "      <th>10</th>\n",
              "      <td>12</td>\n",
              "      <td>14759</td>\n",
              "      <td>539578.0</td>\n",
              "      <td>Chhattisgarh</td>\n",
              "    </tr>\n",
              "    <tr>\n",
              "      <th>11</th>\n",
              "      <td>13</td>\n",
              "      <td>4750</td>\n",
              "      <td>570378.0</td>\n",
              "      <td>Haryana</td>\n",
              "    </tr>\n",
              "    <tr>\n",
              "      <th>12</th>\n",
              "      <td>14</td>\n",
              "      <td>5347</td>\n",
              "      <td>1930010.0</td>\n",
              "      <td>Bihar</td>\n",
              "    </tr>\n",
              "    <tr>\n",
              "      <th>13</th>\n",
              "      <td>15</td>\n",
              "      <td>10531</td>\n",
              "      <td>1339673.0</td>\n",
              "      <td>Gujarat</td>\n",
              "    </tr>\n",
              "    <tr>\n",
              "      <th>14</th>\n",
              "      <td>16</td>\n",
              "      <td>10461</td>\n",
              "      <td>1630776.0</td>\n",
              "      <td>Madhya Pradesh</td>\n",
              "    </tr>\n",
              "    <tr>\n",
              "      <th>15</th>\n",
              "      <td>17</td>\n",
              "      <td>3422</td>\n",
              "      <td>569629.0</td>\n",
              "      <td>Assam</td>\n",
              "    </tr>\n",
              "    <tr>\n",
              "      <th>16</th>\n",
              "      <td>18</td>\n",
              "      <td>4707</td>\n",
              "      <td>770138.0</td>\n",
              "      <td>Punjab</td>\n",
              "    </tr>\n",
              "    <tr>\n",
              "      <th>17</th>\n",
              "      <td>19</td>\n",
              "      <td>3414</td>\n",
              "      <td>269095.0</td>\n",
              "      <td>Jammu and Kashmir</td>\n",
              "    </tr>\n",
              "    <tr>\n",
              "      <th>18</th>\n",
              "      <td>20</td>\n",
              "      <td>1587</td>\n",
              "      <td>575062.0</td>\n",
              "      <td>Jharkhand</td>\n",
              "    </tr>\n",
              "    <tr>\n",
              "      <th>19</th>\n",
              "      <td>21</td>\n",
              "      <td>5510</td>\n",
              "      <td>248089.0</td>\n",
              "      <td>Uttarakhand</td>\n",
              "    </tr>\n",
              "    <tr>\n",
              "      <th>20</th>\n",
              "      <td>22</td>\n",
              "      <td>4347</td>\n",
              "      <td>206293.0</td>\n",
              "      <td>Himachal Pradesh</td>\n",
              "    </tr>\n",
              "    <tr>\n",
              "      <th>21</th>\n",
              "      <td>23</td>\n",
              "      <td>980</td>\n",
              "      <td>45591.0</td>\n",
              "      <td>Goa</td>\n",
              "    </tr>\n",
              "    <tr>\n",
              "      <th>22</th>\n",
              "      <td>24</td>\n",
              "      <td>349</td>\n",
              "      <td>35310.0</td>\n",
              "      <td>Puducherry</td>\n",
              "    </tr>\n",
              "    <tr>\n",
              "      <th>23</th>\n",
              "      <td>25</td>\n",
              "      <td>184</td>\n",
              "      <td>82410.0</td>\n",
              "      <td>Tripura</td>\n",
              "    </tr>\n",
              "    <tr>\n",
              "      <th>24</th>\n",
              "      <td>26</td>\n",
              "      <td>1352</td>\n",
              "      <td>55681.0</td>\n",
              "      <td>Manipur</td>\n",
              "    </tr>\n",
              "    <tr>\n",
              "      <th>25</th>\n",
              "      <td>27</td>\n",
              "      <td>345</td>\n",
              "      <td>17807.0</td>\n",
              "      <td>Chandigarh</td>\n",
              "    </tr>\n",
              "    <tr>\n",
              "      <th>26</th>\n",
              "      <td>28</td>\n",
              "      <td>168</td>\n",
              "      <td>15782.0</td>\n",
              "      <td>Arunachal Pradesh</td>\n",
              "    </tr>\n",
              "    <tr>\n",
              "      <th>27</th>\n",
              "      <td>29</td>\n",
              "      <td>294</td>\n",
              "      <td>36543.0</td>\n",
              "      <td>Meghalaya</td>\n",
              "    </tr>\n",
              "    <tr>\n",
              "      <th>28</th>\n",
              "      <td>30</td>\n",
              "      <td>274</td>\n",
              "      <td>28158.0</td>\n",
              "      <td>Nagaland</td>\n",
              "    </tr>\n",
              "    <tr>\n",
              "      <th>29</th>\n",
              "      <td>32</td>\n",
              "      <td>418</td>\n",
              "      <td>12077.0</td>\n",
              "      <td>Sikkim</td>\n",
              "    </tr>\n",
              "    <tr>\n",
              "      <th>30</th>\n",
              "      <td>33</td>\n",
              "      <td>69</td>\n",
              "      <td>6349.0</td>\n",
              "      <td>Andaman and Nicobar Islands</td>\n",
              "    </tr>\n",
              "    <tr>\n",
              "      <th>31</th>\n",
              "      <td>34</td>\n",
              "      <td>134</td>\n",
              "      <td>19804.0</td>\n",
              "      <td>Mizoram</td>\n",
              "    </tr>\n",
              "    <tr>\n",
              "      <th>32</th>\n",
              "      <td>35</td>\n",
              "      <td>12</td>\n",
              "      <td>6437.0</td>\n",
              "      <td>Dadra and Nagar Haveli and Daman and Diu</td>\n",
              "    </tr>\n",
              "    <tr>\n",
              "      <th>33</th>\n",
              "      <td>37</td>\n",
              "      <td>0</td>\n",
              "      <td>1342.0</td>\n",
              "      <td>Lakshadweep</td>\n",
              "    </tr>\n",
              "  </tbody>\n",
              "</table>\n",
              "</div>"
            ],
            "text/plain": [
              "    index  Active        70+                                     State\n",
              "0       1   56823  3205909.0                               Maharashtra\n",
              "1       2   13508  1585551.0                                 Karnataka\n",
              "2       3    3861  2156347.0                            Andhra Pradesh\n",
              "3       4    9129  2116770.0                                Tamil Nadu\n",
              "4       5   64032  1234739.0                                    Kerala\n",
              "5       6    7267   289943.0                                     Delhi\n",
              "6       7   16159  4082260.0                             Uttar Pradesh\n",
              "7       8   14749  2130374.0                               West Bengal\n",
              "8       9    2583  1132870.0                                    Odisha\n",
              "9      10   11700  1494570.0                                 Rajasthan\n",
              "10     12   14759   539578.0                              Chhattisgarh\n",
              "11     13    4750   570378.0                                   Haryana\n",
              "12     14    5347  1930010.0                                     Bihar\n",
              "13     15   10531  1339673.0                                   Gujarat\n",
              "14     16   10461  1630776.0                            Madhya Pradesh\n",
              "15     17    3422   569629.0                                     Assam\n",
              "16     18    4707   770138.0                                    Punjab\n",
              "17     19    3414   269095.0                         Jammu and Kashmir\n",
              "18     20    1587   575062.0                                 Jharkhand\n",
              "19     21    5510   248089.0                               Uttarakhand\n",
              "20     22    4347   206293.0                          Himachal Pradesh\n",
              "21     23     980    45591.0                                       Goa\n",
              "22     24     349    35310.0                                Puducherry\n",
              "23     25     184    82410.0                                   Tripura\n",
              "24     26    1352    55681.0                                   Manipur\n",
              "25     27     345    17807.0                                Chandigarh\n",
              "26     28     168    15782.0                         Arunachal Pradesh\n",
              "27     29     294    36543.0                                 Meghalaya\n",
              "28     30     274    28158.0                                  Nagaland\n",
              "29     32     418    12077.0                                    Sikkim\n",
              "30     33      69     6349.0               Andaman and Nicobar Islands\n",
              "31     34     134    19804.0                                   Mizoram\n",
              "32     35      12     6437.0  Dadra and Nagar Haveli and Daman and Diu\n",
              "33     37       0     1342.0                               Lakshadweep"
            ]
          },
          "metadata": {
            "tags": []
          },
          "execution_count": 48
        }
      ]
    },
    {
      "cell_type": "code",
      "metadata": {
        "colab": {
          "base_uri": "https://localhost:8080/",
          "height": 195
        },
        "id": "j8uxP76N197Y",
        "outputId": "326a1587-a021-4b74-dac3-03b7806fd60b"
      },
      "source": [
        "active_index=X1[['State']]\r\n",
        "active_index.head()"
      ],
      "execution_count": null,
      "outputs": [
        {
          "output_type": "execute_result",
          "data": {
            "text/html": [
              "<div>\n",
              "<style scoped>\n",
              "    .dataframe tbody tr th:only-of-type {\n",
              "        vertical-align: middle;\n",
              "    }\n",
              "\n",
              "    .dataframe tbody tr th {\n",
              "        vertical-align: top;\n",
              "    }\n",
              "\n",
              "    .dataframe thead th {\n",
              "        text-align: right;\n",
              "    }\n",
              "</style>\n",
              "<table border=\"1\" class=\"dataframe\">\n",
              "  <thead>\n",
              "    <tr style=\"text-align: right;\">\n",
              "      <th></th>\n",
              "      <th>State</th>\n",
              "    </tr>\n",
              "  </thead>\n",
              "  <tbody>\n",
              "    <tr>\n",
              "      <th>0</th>\n",
              "      <td>Maharashtra</td>\n",
              "    </tr>\n",
              "    <tr>\n",
              "      <th>1</th>\n",
              "      <td>Karnataka</td>\n",
              "    </tr>\n",
              "    <tr>\n",
              "      <th>2</th>\n",
              "      <td>Andhra Pradesh</td>\n",
              "    </tr>\n",
              "    <tr>\n",
              "      <th>3</th>\n",
              "      <td>Tamil Nadu</td>\n",
              "    </tr>\n",
              "    <tr>\n",
              "      <th>4</th>\n",
              "      <td>Kerala</td>\n",
              "    </tr>\n",
              "  </tbody>\n",
              "</table>\n",
              "</div>"
            ],
            "text/plain": [
              "            State\n",
              "0     Maharashtra\n",
              "1       Karnataka\n",
              "2  Andhra Pradesh\n",
              "3      Tamil Nadu\n",
              "4          Kerala"
            ]
          },
          "metadata": {
            "tags": []
          },
          "execution_count": 49
        }
      ]
    },
    {
      "cell_type": "code",
      "metadata": {
        "colab": {
          "base_uri": "https://localhost:8080/"
        },
        "id": "g_7dVwQq2Bgo",
        "outputId": "b6f68c90-2dee-4250-c838-f307f54eabff"
      },
      "source": [
        "len(y_kmeans)"
      ],
      "execution_count": null,
      "outputs": [
        {
          "output_type": "execute_result",
          "data": {
            "text/plain": [
              "34"
            ]
          },
          "metadata": {
            "tags": []
          },
          "execution_count": 50
        }
      ]
    },
    {
      "cell_type": "code",
      "metadata": {
        "colab": {
          "base_uri": "https://localhost:8080/"
        },
        "id": "VslVori32E5n",
        "outputId": "170f4ecc-0b9e-4198-e83e-e2c923f46c51"
      },
      "source": [
        "type(active_index)"
      ],
      "execution_count": null,
      "outputs": [
        {
          "output_type": "execute_result",
          "data": {
            "text/plain": [
              "pandas.core.frame.DataFrame"
            ]
          },
          "metadata": {
            "tags": []
          },
          "execution_count": 51
        }
      ]
    },
    {
      "cell_type": "code",
      "metadata": {
        "colab": {
          "base_uri": "https://localhost:8080/",
          "height": 1000
        },
        "id": "iAeIa2fJ2Lrq",
        "outputId": "9d0d8abb-9f72-4318-83d3-0bc757244a7f"
      },
      "source": [
        "index=pd.DataFrame({'index':y_kmeans})\r\n",
        "index"
      ],
      "execution_count": null,
      "outputs": [
        {
          "output_type": "execute_result",
          "data": {
            "text/html": [
              "<div>\n",
              "<style scoped>\n",
              "    .dataframe tbody tr th:only-of-type {\n",
              "        vertical-align: middle;\n",
              "    }\n",
              "\n",
              "    .dataframe tbody tr th {\n",
              "        vertical-align: top;\n",
              "    }\n",
              "\n",
              "    .dataframe thead th {\n",
              "        text-align: right;\n",
              "    }\n",
              "</style>\n",
              "<table border=\"1\" class=\"dataframe\">\n",
              "  <thead>\n",
              "    <tr style=\"text-align: right;\">\n",
              "      <th></th>\n",
              "      <th>index</th>\n",
              "    </tr>\n",
              "  </thead>\n",
              "  <tbody>\n",
              "    <tr>\n",
              "      <th>0</th>\n",
              "      <td>2</td>\n",
              "    </tr>\n",
              "    <tr>\n",
              "      <th>1</th>\n",
              "      <td>1</td>\n",
              "    </tr>\n",
              "    <tr>\n",
              "      <th>2</th>\n",
              "      <td>1</td>\n",
              "    </tr>\n",
              "    <tr>\n",
              "      <th>3</th>\n",
              "      <td>1</td>\n",
              "    </tr>\n",
              "    <tr>\n",
              "      <th>4</th>\n",
              "      <td>1</td>\n",
              "    </tr>\n",
              "    <tr>\n",
              "      <th>5</th>\n",
              "      <td>0</td>\n",
              "    </tr>\n",
              "    <tr>\n",
              "      <th>6</th>\n",
              "      <td>2</td>\n",
              "    </tr>\n",
              "    <tr>\n",
              "      <th>7</th>\n",
              "      <td>1</td>\n",
              "    </tr>\n",
              "    <tr>\n",
              "      <th>8</th>\n",
              "      <td>1</td>\n",
              "    </tr>\n",
              "    <tr>\n",
              "      <th>9</th>\n",
              "      <td>1</td>\n",
              "    </tr>\n",
              "    <tr>\n",
              "      <th>10</th>\n",
              "      <td>0</td>\n",
              "    </tr>\n",
              "    <tr>\n",
              "      <th>11</th>\n",
              "      <td>0</td>\n",
              "    </tr>\n",
              "    <tr>\n",
              "      <th>12</th>\n",
              "      <td>1</td>\n",
              "    </tr>\n",
              "    <tr>\n",
              "      <th>13</th>\n",
              "      <td>1</td>\n",
              "    </tr>\n",
              "    <tr>\n",
              "      <th>14</th>\n",
              "      <td>1</td>\n",
              "    </tr>\n",
              "    <tr>\n",
              "      <th>15</th>\n",
              "      <td>0</td>\n",
              "    </tr>\n",
              "    <tr>\n",
              "      <th>16</th>\n",
              "      <td>0</td>\n",
              "    </tr>\n",
              "    <tr>\n",
              "      <th>17</th>\n",
              "      <td>0</td>\n",
              "    </tr>\n",
              "    <tr>\n",
              "      <th>18</th>\n",
              "      <td>0</td>\n",
              "    </tr>\n",
              "    <tr>\n",
              "      <th>19</th>\n",
              "      <td>0</td>\n",
              "    </tr>\n",
              "    <tr>\n",
              "      <th>20</th>\n",
              "      <td>0</td>\n",
              "    </tr>\n",
              "    <tr>\n",
              "      <th>21</th>\n",
              "      <td>0</td>\n",
              "    </tr>\n",
              "    <tr>\n",
              "      <th>22</th>\n",
              "      <td>0</td>\n",
              "    </tr>\n",
              "    <tr>\n",
              "      <th>23</th>\n",
              "      <td>0</td>\n",
              "    </tr>\n",
              "    <tr>\n",
              "      <th>24</th>\n",
              "      <td>0</td>\n",
              "    </tr>\n",
              "    <tr>\n",
              "      <th>25</th>\n",
              "      <td>0</td>\n",
              "    </tr>\n",
              "    <tr>\n",
              "      <th>26</th>\n",
              "      <td>0</td>\n",
              "    </tr>\n",
              "    <tr>\n",
              "      <th>27</th>\n",
              "      <td>0</td>\n",
              "    </tr>\n",
              "    <tr>\n",
              "      <th>28</th>\n",
              "      <td>0</td>\n",
              "    </tr>\n",
              "    <tr>\n",
              "      <th>29</th>\n",
              "      <td>0</td>\n",
              "    </tr>\n",
              "    <tr>\n",
              "      <th>30</th>\n",
              "      <td>0</td>\n",
              "    </tr>\n",
              "    <tr>\n",
              "      <th>31</th>\n",
              "      <td>0</td>\n",
              "    </tr>\n",
              "    <tr>\n",
              "      <th>32</th>\n",
              "      <td>0</td>\n",
              "    </tr>\n",
              "    <tr>\n",
              "      <th>33</th>\n",
              "      <td>0</td>\n",
              "    </tr>\n",
              "  </tbody>\n",
              "</table>\n",
              "</div>"
            ],
            "text/plain": [
              "    index\n",
              "0       2\n",
              "1       1\n",
              "2       1\n",
              "3       1\n",
              "4       1\n",
              "5       0\n",
              "6       2\n",
              "7       1\n",
              "8       1\n",
              "9       1\n",
              "10      0\n",
              "11      0\n",
              "12      1\n",
              "13      1\n",
              "14      1\n",
              "15      0\n",
              "16      0\n",
              "17      0\n",
              "18      0\n",
              "19      0\n",
              "20      0\n",
              "21      0\n",
              "22      0\n",
              "23      0\n",
              "24      0\n",
              "25      0\n",
              "26      0\n",
              "27      0\n",
              "28      0\n",
              "29      0\n",
              "30      0\n",
              "31      0\n",
              "32      0\n",
              "33      0"
            ]
          },
          "metadata": {
            "tags": []
          },
          "execution_count": 52
        }
      ]
    },
    {
      "cell_type": "code",
      "metadata": {
        "colab": {
          "base_uri": "https://localhost:8080/"
        },
        "id": "8VvIKIA-2O_I",
        "outputId": "5ef38867-df36-4b0f-8aa4-614f5a1673cb"
      },
      "source": [
        "len(index)"
      ],
      "execution_count": null,
      "outputs": [
        {
          "output_type": "execute_result",
          "data": {
            "text/plain": [
              "34"
            ]
          },
          "metadata": {
            "tags": []
          },
          "execution_count": 53
        }
      ]
    },
    {
      "cell_type": "code",
      "metadata": {
        "colab": {
          "base_uri": "https://localhost:8080/"
        },
        "id": "1dBvHMra2SKQ",
        "outputId": "86f0e035-b138-4a3a-9897-4bc99a71d433"
      },
      "source": [
        "len(active_index)"
      ],
      "execution_count": null,
      "outputs": [
        {
          "output_type": "execute_result",
          "data": {
            "text/plain": [
              "34"
            ]
          },
          "metadata": {
            "tags": []
          },
          "execution_count": 54
        }
      ]
    },
    {
      "cell_type": "code",
      "metadata": {
        "id": "27JKsZsD2VIg"
      },
      "source": [
        "active_index=active_index.join(index)"
      ],
      "execution_count": null,
      "outputs": []
    },
    {
      "cell_type": "code",
      "metadata": {
        "colab": {
          "base_uri": "https://localhost:8080/",
          "height": 225
        },
        "id": "1fpByGbk2aDm",
        "outputId": "c5b2dadc-ace6-41fd-ab5a-63b88a3aedf0"
      },
      "source": [
        "active_index=active_index.set_index('State')\r\n",
        "active_index.head()"
      ],
      "execution_count": null,
      "outputs": [
        {
          "output_type": "execute_result",
          "data": {
            "text/html": [
              "<div>\n",
              "<style scoped>\n",
              "    .dataframe tbody tr th:only-of-type {\n",
              "        vertical-align: middle;\n",
              "    }\n",
              "\n",
              "    .dataframe tbody tr th {\n",
              "        vertical-align: top;\n",
              "    }\n",
              "\n",
              "    .dataframe thead th {\n",
              "        text-align: right;\n",
              "    }\n",
              "</style>\n",
              "<table border=\"1\" class=\"dataframe\">\n",
              "  <thead>\n",
              "    <tr style=\"text-align: right;\">\n",
              "      <th></th>\n",
              "      <th>index</th>\n",
              "    </tr>\n",
              "    <tr>\n",
              "      <th>State</th>\n",
              "      <th></th>\n",
              "    </tr>\n",
              "  </thead>\n",
              "  <tbody>\n",
              "    <tr>\n",
              "      <th>Maharashtra</th>\n",
              "      <td>2</td>\n",
              "    </tr>\n",
              "    <tr>\n",
              "      <th>Karnataka</th>\n",
              "      <td>1</td>\n",
              "    </tr>\n",
              "    <tr>\n",
              "      <th>Andhra Pradesh</th>\n",
              "      <td>1</td>\n",
              "    </tr>\n",
              "    <tr>\n",
              "      <th>Tamil Nadu</th>\n",
              "      <td>1</td>\n",
              "    </tr>\n",
              "    <tr>\n",
              "      <th>Kerala</th>\n",
              "      <td>1</td>\n",
              "    </tr>\n",
              "  </tbody>\n",
              "</table>\n",
              "</div>"
            ],
            "text/plain": [
              "                index\n",
              "State                \n",
              "Maharashtra         2\n",
              "Karnataka           1\n",
              "Andhra Pradesh      1\n",
              "Tamil Nadu          1\n",
              "Kerala              1"
            ]
          },
          "metadata": {
            "tags": []
          },
          "execution_count": 56
        }
      ]
    },
    {
      "cell_type": "code",
      "metadata": {
        "colab": {
          "base_uri": "https://localhost:8080/",
          "height": 225
        },
        "id": "57Pa-0EA2dPn",
        "outputId": "2660c2bf-a3b9-4394-b965-f29c6a9b2cc9"
      },
      "source": [
        "active_index.tail()"
      ],
      "execution_count": null,
      "outputs": [
        {
          "output_type": "execute_result",
          "data": {
            "text/html": [
              "<div>\n",
              "<style scoped>\n",
              "    .dataframe tbody tr th:only-of-type {\n",
              "        vertical-align: middle;\n",
              "    }\n",
              "\n",
              "    .dataframe tbody tr th {\n",
              "        vertical-align: top;\n",
              "    }\n",
              "\n",
              "    .dataframe thead th {\n",
              "        text-align: right;\n",
              "    }\n",
              "</style>\n",
              "<table border=\"1\" class=\"dataframe\">\n",
              "  <thead>\n",
              "    <tr style=\"text-align: right;\">\n",
              "      <th></th>\n",
              "      <th>index</th>\n",
              "    </tr>\n",
              "    <tr>\n",
              "      <th>State</th>\n",
              "      <th></th>\n",
              "    </tr>\n",
              "  </thead>\n",
              "  <tbody>\n",
              "    <tr>\n",
              "      <th>Sikkim</th>\n",
              "      <td>0</td>\n",
              "    </tr>\n",
              "    <tr>\n",
              "      <th>Andaman and Nicobar Islands</th>\n",
              "      <td>0</td>\n",
              "    </tr>\n",
              "    <tr>\n",
              "      <th>Mizoram</th>\n",
              "      <td>0</td>\n",
              "    </tr>\n",
              "    <tr>\n",
              "      <th>Dadra and Nagar Haveli and Daman and Diu</th>\n",
              "      <td>0</td>\n",
              "    </tr>\n",
              "    <tr>\n",
              "      <th>Lakshadweep</th>\n",
              "      <td>0</td>\n",
              "    </tr>\n",
              "  </tbody>\n",
              "</table>\n",
              "</div>"
            ],
            "text/plain": [
              "                                          index\n",
              "State                                          \n",
              "Sikkim                                        0\n",
              "Andaman and Nicobar Islands                   0\n",
              "Mizoram                                       0\n",
              "Dadra and Nagar Haveli and Daman and Diu      0\n",
              "Lakshadweep                                   0"
            ]
          },
          "metadata": {
            "tags": []
          },
          "execution_count": 57
        }
      ]
    },
    {
      "cell_type": "code",
      "metadata": {
        "id": "WkJEUC7z2giQ"
      },
      "source": [
        "active_index.to_json('70plus_index')"
      ],
      "execution_count": null,
      "outputs": []
    },
    {
      "cell_type": "code",
      "metadata": {
        "colab": {
          "base_uri": "https://localhost:8080/",
          "height": 266
        },
        "id": "jtqYw8t-2oGw",
        "outputId": "ec0b3b6e-031c-4238-856f-44daab5e87b9"
      },
      "source": [
        "df.head()"
      ],
      "execution_count": null,
      "outputs": [
        {
          "output_type": "execute_result",
          "data": {
            "text/html": [
              "<div>\n",
              "<style scoped>\n",
              "    .dataframe tbody tr th:only-of-type {\n",
              "        vertical-align: middle;\n",
              "    }\n",
              "\n",
              "    .dataframe tbody tr th {\n",
              "        vertical-align: top;\n",
              "    }\n",
              "\n",
              "    .dataframe thead th {\n",
              "        text-align: right;\n",
              "    }\n",
              "</style>\n",
              "<table border=\"1\" class=\"dataframe\">\n",
              "  <thead>\n",
              "    <tr style=\"text-align: right;\">\n",
              "      <th></th>\n",
              "      <th>State</th>\n",
              "      <th>Unnamed: 1</th>\n",
              "      <th>Confirmed</th>\n",
              "      <th>Recovered</th>\n",
              "      <th>Deaths</th>\n",
              "      <th>Active</th>\n",
              "      <th>Last_Updated_Time</th>\n",
              "      <th>Migrated_Other</th>\n",
              "      <th>State_code</th>\n",
              "      <th>Delta_Confirmed</th>\n",
              "      <th>Delta_Recovered</th>\n",
              "      <th>Delta_Deaths</th>\n",
              "      <th>State_Notes</th>\n",
              "      <th>Population</th>\n",
              "      <th>Density</th>\n",
              "      <th>0-4</th>\n",
              "      <th>2020-05-09 00:00:00</th>\n",
              "      <th>2020-10-14 00:00:00</th>\n",
              "      <th>15-19</th>\n",
              "      <th>20-24</th>\n",
              "      <th>25-29</th>\n",
              "      <th>30-34</th>\n",
              "      <th>35-39</th>\n",
              "      <th>40-44</th>\n",
              "      <th>45-49</th>\n",
              "      <th>50-54</th>\n",
              "      <th>55-59</th>\n",
              "      <th>60-64</th>\n",
              "      <th>65-69</th>\n",
              "      <th>70-74</th>\n",
              "      <th>75-79</th>\n",
              "      <th>80+</th>\n",
              "      <th>Health Workers(%)</th>\n",
              "      <th>Police Force</th>\n",
              "      <th>Vaccination Centres</th>\n",
              "      <th>70+</th>\n",
              "    </tr>\n",
              "  </thead>\n",
              "  <tbody>\n",
              "    <tr>\n",
              "      <th>1</th>\n",
              "      <td>Maharashtra</td>\n",
              "      <td>NaN</td>\n",
              "      <td>1913382</td>\n",
              "      <td>1806298</td>\n",
              "      <td>49129</td>\n",
              "      <td>56823</td>\n",
              "      <td>25-12-2020 22:43</td>\n",
              "      <td>1132</td>\n",
              "      <td>MH</td>\n",
              "      <td>3431</td>\n",
              "      <td>1427</td>\n",
              "      <td>71</td>\n",
              "      <td>NaN</td>\n",
              "      <td>120837347.0</td>\n",
              "      <td>365.0</td>\n",
              "      <td>9362026.0</td>\n",
              "      <td>9820654.0</td>\n",
              "      <td>10734535.0</td>\n",
              "      <td>10627267.0</td>\n",
              "      <td>11090966.0</td>\n",
              "      <td>10147113.0</td>\n",
              "      <td>8796307.0</td>\n",
              "      <td>8247160.0</td>\n",
              "      <td>7196089.0</td>\n",
              "      <td>6032454.0</td>\n",
              "      <td>4919317.0</td>\n",
              "      <td>3885814.0</td>\n",
              "      <td>3642480.0</td>\n",
              "      <td>3078352.0</td>\n",
              "      <td>2143136.0</td>\n",
              "      <td>1062773.0</td>\n",
              "      <td>1180194.0</td>\n",
              "      <td>13.67</td>\n",
              "      <td>213382.0</td>\n",
              "      <td>3239.0</td>\n",
              "      <td>3205909.0</td>\n",
              "    </tr>\n",
              "    <tr>\n",
              "      <th>2</th>\n",
              "      <td>Karnataka</td>\n",
              "      <td>NaN</td>\n",
              "      <td>914488</td>\n",
              "      <td>888917</td>\n",
              "      <td>12044</td>\n",
              "      <td>13508</td>\n",
              "      <td>25-12-2020 20:23</td>\n",
              "      <td>19</td>\n",
              "      <td>KA</td>\n",
              "      <td>1005</td>\n",
              "      <td>1102</td>\n",
              "      <td>5</td>\n",
              "      <td>NaN</td>\n",
              "      <td>66165886.0</td>\n",
              "      <td>319.0</td>\n",
              "      <td>5046719.0</td>\n",
              "      <td>5241509.0</td>\n",
              "      <td>5736646.0</td>\n",
              "      <td>5827277.0</td>\n",
              "      <td>6052558.0</td>\n",
              "      <td>5771606.0</td>\n",
              "      <td>4698380.0</td>\n",
              "      <td>4695451.0</td>\n",
              "      <td>3826712.0</td>\n",
              "      <td>3519782.0</td>\n",
              "      <td>2699270.0</td>\n",
              "      <td>2142504.0</td>\n",
              "      <td>2060052.0</td>\n",
              "      <td>1520119.0</td>\n",
              "      <td>1061125.0</td>\n",
              "      <td>524426.0</td>\n",
              "      <td>625310.0</td>\n",
              "      <td>5.27</td>\n",
              "      <td>89009.0</td>\n",
              "      <td>2943.0</td>\n",
              "      <td>1585551.0</td>\n",
              "    </tr>\n",
              "    <tr>\n",
              "      <th>3</th>\n",
              "      <td>Andhra Pradesh</td>\n",
              "      <td>NaN</td>\n",
              "      <td>880430</td>\n",
              "      <td>869478</td>\n",
              "      <td>7091</td>\n",
              "      <td>3861</td>\n",
              "      <td>25-12-2020 19:09</td>\n",
              "      <td>0</td>\n",
              "      <td>AP</td>\n",
              "      <td>355</td>\n",
              "      <td>354</td>\n",
              "      <td>2</td>\n",
              "      <td>NaN</td>\n",
              "      <td>52883163.0</td>\n",
              "      <td>308.0</td>\n",
              "      <td>6284765.0</td>\n",
              "      <td>7304432.0</td>\n",
              "      <td>8201595.0</td>\n",
              "      <td>8093747.0</td>\n",
              "      <td>8132094.0</td>\n",
              "      <td>7799036.0</td>\n",
              "      <td>6584371.0</td>\n",
              "      <td>6507339.0</td>\n",
              "      <td>5399473.0</td>\n",
              "      <td>4657269.0</td>\n",
              "      <td>3657386.0</td>\n",
              "      <td>2909598.0</td>\n",
              "      <td>3199837.0</td>\n",
              "      <td>2167854.0</td>\n",
              "      <td>1519358.0</td>\n",
              "      <td>636989.0</td>\n",
              "      <td>754203.0</td>\n",
              "      <td>7.83</td>\n",
              "      <td>61168.0</td>\n",
              "      <td>1666.0</td>\n",
              "      <td>2156347.0</td>\n",
              "    </tr>\n",
              "    <tr>\n",
              "      <th>4</th>\n",
              "      <td>Tamil Nadu</td>\n",
              "      <td>NaN</td>\n",
              "      <td>812142</td>\n",
              "      <td>790965</td>\n",
              "      <td>12048</td>\n",
              "      <td>9129</td>\n",
              "      <td>25-12-2020 19:30</td>\n",
              "      <td>0</td>\n",
              "      <td>TN</td>\n",
              "      <td>1027</td>\n",
              "      <td>1103</td>\n",
              "      <td>12</td>\n",
              "      <td>NaN</td>\n",
              "      <td>76481545.0</td>\n",
              "      <td>555.0</td>\n",
              "      <td>5278701.0</td>\n",
              "      <td>5551255.0</td>\n",
              "      <td>6177547.0</td>\n",
              "      <td>6253792.0</td>\n",
              "      <td>6411543.0</td>\n",
              "      <td>6663746.0</td>\n",
              "      <td>5815560.0</td>\n",
              "      <td>5836456.0</td>\n",
              "      <td>5064209.0</td>\n",
              "      <td>4713056.0</td>\n",
              "      <td>3703460.0</td>\n",
              "      <td>3101142.0</td>\n",
              "      <td>2782608.0</td>\n",
              "      <td>1868370.0</td>\n",
              "      <td>1406529.0</td>\n",
              "      <td>710241.0</td>\n",
              "      <td>742010.0</td>\n",
              "      <td>6.72</td>\n",
              "      <td>110186.0</td>\n",
              "      <td>2581.0</td>\n",
              "      <td>2116770.0</td>\n",
              "    </tr>\n",
              "    <tr>\n",
              "      <th>5</th>\n",
              "      <td>Kerala</td>\n",
              "      <td>NaN</td>\n",
              "      <td>732085</td>\n",
              "      <td>664951</td>\n",
              "      <td>2931</td>\n",
              "      <td>64032</td>\n",
              "      <td>25-12-2020 21:52</td>\n",
              "      <td>171</td>\n",
              "      <td>KL</td>\n",
              "      <td>5397</td>\n",
              "      <td>4506</td>\n",
              "      <td>16</td>\n",
              "      <td>NaN</td>\n",
              "      <td>35330888.0</td>\n",
              "      <td>860.0</td>\n",
              "      <td>2453092.0</td>\n",
              "      <td>2555112.0</td>\n",
              "      <td>2822770.0</td>\n",
              "      <td>2610552.0</td>\n",
              "      <td>2665809.0</td>\n",
              "      <td>2604092.0</td>\n",
              "      <td>2455501.0</td>\n",
              "      <td>2579673.0</td>\n",
              "      <td>2412498.0</td>\n",
              "      <td>2348530.0</td>\n",
              "      <td>1928145.0</td>\n",
              "      <td>1742408.0</td>\n",
              "      <td>1414671.0</td>\n",
              "      <td>1002134.0</td>\n",
              "      <td>733372.0</td>\n",
              "      <td>501367.0</td>\n",
              "      <td>541849.0</td>\n",
              "      <td>6.06</td>\n",
              "      <td>48860.0</td>\n",
              "      <td>1297.0</td>\n",
              "      <td>1234739.0</td>\n",
              "    </tr>\n",
              "  </tbody>\n",
              "</table>\n",
              "</div>"
            ],
            "text/plain": [
              "            State  Unnamed: 1  ...  Vaccination Centres        70+\n",
              "1     Maharashtra         NaN  ...               3239.0  3205909.0\n",
              "2       Karnataka         NaN  ...               2943.0  1585551.0\n",
              "3  Andhra Pradesh         NaN  ...               1666.0  2156347.0\n",
              "4      Tamil Nadu         NaN  ...               2581.0  2116770.0\n",
              "5          Kerala         NaN  ...               1297.0  1234739.0\n",
              "\n",
              "[5 rows x 36 columns]"
            ]
          },
          "metadata": {
            "tags": []
          },
          "execution_count": 59
        }
      ]
    },
    {
      "cell_type": "code",
      "metadata": {
        "colab": {
          "base_uri": "https://localhost:8080/"
        },
        "id": "cXUZdz-q2r-v",
        "outputId": "469c86e3-4d6f-438a-cd13-f2fae6633601"
      },
      "source": [
        " for i in range(len(y_kmeans)):\r\n",
        "   print(df['State'].iloc[i:i+1],y_kmeans[i])"
      ],
      "execution_count": null,
      "outputs": [
        {
          "output_type": "stream",
          "text": [
            "1    Maharashtra\n",
            "Name: State, dtype: object 2\n",
            "2    Karnataka\n",
            "Name: State, dtype: object 1\n",
            "3    Andhra Pradesh\n",
            "Name: State, dtype: object 1\n",
            "4    Tamil Nadu\n",
            "Name: State, dtype: object 1\n",
            "5    Kerala\n",
            "Name: State, dtype: object 1\n",
            "6    Delhi\n",
            "Name: State, dtype: object 0\n",
            "7    Uttar Pradesh\n",
            "Name: State, dtype: object 2\n",
            "8    West Bengal\n",
            "Name: State, dtype: object 1\n",
            "9    Odisha\n",
            "Name: State, dtype: object 1\n",
            "10    Rajasthan\n",
            "Name: State, dtype: object 1\n",
            "11    Telangana\n",
            "Name: State, dtype: object 0\n",
            "12    Chhattisgarh\n",
            "Name: State, dtype: object 0\n",
            "13    Haryana\n",
            "Name: State, dtype: object 1\n",
            "14    Bihar\n",
            "Name: State, dtype: object 1\n",
            "15    Gujarat\n",
            "Name: State, dtype: object 1\n",
            "16    Madhya Pradesh\n",
            "Name: State, dtype: object 0\n",
            "17    Assam\n",
            "Name: State, dtype: object 0\n",
            "18    Punjab\n",
            "Name: State, dtype: object 0\n",
            "19    Jammu and Kashmir\n",
            "Name: State, dtype: object 0\n",
            "20    Jharkhand\n",
            "Name: State, dtype: object 0\n",
            "21    Uttarakhand\n",
            "Name: State, dtype: object 0\n",
            "22    Himachal Pradesh\n",
            "Name: State, dtype: object 0\n",
            "23    Goa\n",
            "Name: State, dtype: object 0\n",
            "24    Puducherry\n",
            "Name: State, dtype: object 0\n",
            "25    Tripura\n",
            "Name: State, dtype: object 0\n",
            "26    Manipur\n",
            "Name: State, dtype: object 0\n",
            "27    Chandigarh\n",
            "Name: State, dtype: object 0\n",
            "28    Arunachal Pradesh\n",
            "Name: State, dtype: object 0\n",
            "29    Meghalaya\n",
            "Name: State, dtype: object 0\n",
            "30    Nagaland\n",
            "Name: State, dtype: object 0\n",
            "31    Ladakh\n",
            "Name: State, dtype: object 0\n",
            "32    Sikkim\n",
            "Name: State, dtype: object 0\n",
            "33    Andaman and Nicobar Islands\n",
            "Name: State, dtype: object 0\n",
            "34    Mizoram\n",
            "Name: State, dtype: object 0\n"
          ],
          "name": "stdout"
        }
      ]
    },
    {
      "cell_type": "code",
      "metadata": {
        "id": "dP-ZxlBd2wlJ"
      },
      "source": [
        "import json"
      ],
      "execution_count": null,
      "outputs": []
    },
    {
      "cell_type": "code",
      "metadata": {
        "colab": {
          "base_uri": "https://localhost:8080/"
        },
        "id": "RT8WXZiO24P6",
        "outputId": "b1cf8a7a-d798-42d0-bda4-f6922134e705"
      },
      "source": [
        "with open('./70plus_index') as f:\r\n",
        "        data = json.load(f)\r\n",
        "\r\n",
        "data    "
      ],
      "execution_count": null,
      "outputs": [
        {
          "output_type": "execute_result",
          "data": {
            "text/plain": [
              "{'index': {'Andaman and Nicobar Islands': 0,\n",
              "  'Andhra Pradesh': 1,\n",
              "  'Arunachal Pradesh': 0,\n",
              "  'Assam': 0,\n",
              "  'Bihar': 1,\n",
              "  'Chandigarh': 0,\n",
              "  'Chhattisgarh': 0,\n",
              "  'Dadra and Nagar Haveli and Daman and Diu': 0,\n",
              "  'Delhi': 0,\n",
              "  'Goa': 0,\n",
              "  'Gujarat': 1,\n",
              "  'Haryana': 0,\n",
              "  'Himachal Pradesh': 0,\n",
              "  'Jammu and Kashmir': 0,\n",
              "  'Jharkhand': 0,\n",
              "  'Karnataka': 1,\n",
              "  'Kerala': 1,\n",
              "  'Lakshadweep': 0,\n",
              "  'Madhya Pradesh': 1,\n",
              "  'Maharashtra': 2,\n",
              "  'Manipur': 0,\n",
              "  'Meghalaya': 0,\n",
              "  'Mizoram': 0,\n",
              "  'Nagaland': 0,\n",
              "  'Odisha': 1,\n",
              "  'Puducherry': 0,\n",
              "  'Punjab': 0,\n",
              "  'Rajasthan': 1,\n",
              "  'Sikkim': 0,\n",
              "  'Tamil Nadu': 1,\n",
              "  'Tripura': 0,\n",
              "  'Uttar Pradesh': 2,\n",
              "  'Uttarakhand': 0,\n",
              "  'West Bengal': 1}}"
            ]
          },
          "metadata": {
            "tags": []
          },
          "execution_count": 63
        }
      ]
    }
  ]
}